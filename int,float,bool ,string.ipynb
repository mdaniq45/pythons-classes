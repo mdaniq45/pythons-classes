{
 "cells": [
  {
   "cell_type": "markdown",
   "id": "2394daec-76cd-4629-b73b-a99e370a1bd0",
   "metadata": {},
   "source": [
    "### integer(int)"
   ]
  },
  {
   "cell_type": "code",
   "execution_count": 3,
   "id": "99fec017-e2a4-4ecb-a12b-49c2e17853d2",
   "metadata": {},
   "outputs": [
    {
     "name": "stdout",
     "output_type": "stream",
     "text": [
      "4321\n"
     ]
    }
   ],
   "source": [
    "a=4321\n",
    "print(a)"
   ]
  },
  {
   "cell_type": "code",
   "execution_count": 5,
   "id": "7c168c84-b777-47dd-a792-40dc6ab6958b",
   "metadata": {},
   "outputs": [
    {
     "data": {
      "text/plain": [
       "int"
      ]
     },
     "execution_count": 5,
     "metadata": {},
     "output_type": "execute_result"
    }
   ],
   "source": [
    "type(a)"
   ]
  },
  {
   "cell_type": "code",
   "execution_count": 7,
   "id": "6f065d00-d24c-4ae3-9cc8-d8f3aee2f3bd",
   "metadata": {},
   "outputs": [
    {
     "data": {
      "text/plain": [
       "4321"
      ]
     },
     "execution_count": 7,
     "metadata": {},
     "output_type": "execute_result"
    }
   ],
   "source": [
    "abs(a)"
   ]
  },
  {
   "cell_type": "markdown",
   "id": "64b57219-fc08-44dc-adf5-b0e40d03887c",
   "metadata": {},
   "source": [
    "### float"
   ]
  },
  {
   "cell_type": "code",
   "execution_count": 10,
   "id": "00c90970-e862-48e5-85f4-853f7826ef0a",
   "metadata": {},
   "outputs": [
    {
     "name": "stdout",
     "output_type": "stream",
     "text": [
      "1.0004\n"
     ]
    }
   ],
   "source": [
    "b=1.0004\n",
    "print(b)"
   ]
  },
  {
   "cell_type": "code",
   "execution_count": 12,
   "id": "aa50ecc5-e7ee-4411-874d-4ce095679126",
   "metadata": {},
   "outputs": [
    {
     "data": {
      "text/plain": [
       "float"
      ]
     },
     "execution_count": 12,
     "metadata": {},
     "output_type": "execute_result"
    }
   ],
   "source": [
    "type(b)"
   ]
  },
  {
   "cell_type": "code",
   "execution_count": 14,
   "id": "9c307b5a-4130-44c7-9959-c52fb372ac69",
   "metadata": {},
   "outputs": [
    {
     "data": {
      "text/plain": [
       "1.0004"
      ]
     },
     "execution_count": 14,
     "metadata": {},
     "output_type": "execute_result"
    }
   ],
   "source": [
    "abs(b)"
   ]
  },
  {
   "cell_type": "markdown",
   "id": "c4ea79ee-06be-4b92-b146-e6ae00c5828b",
   "metadata": {},
   "source": [
    "#### boolien"
   ]
  },
  {
   "cell_type": "code",
   "execution_count": 17,
   "id": "b5975294-57cf-40c4-ad47-839b2b85b6c5",
   "metadata": {},
   "outputs": [
    {
     "name": "stdout",
     "output_type": "stream",
     "text": [
      "True\n"
     ]
    }
   ],
   "source": [
    "b=True\n",
    "print(b)"
   ]
  },
  {
   "cell_type": "code",
   "execution_count": 19,
   "id": "80990ac1-3c9d-4d80-86a8-aa06ac468f5f",
   "metadata": {},
   "outputs": [
    {
     "data": {
      "text/plain": [
       "bool"
      ]
     },
     "execution_count": 19,
     "metadata": {},
     "output_type": "execute_result"
    }
   ],
   "source": [
    "type(b)"
   ]
  },
  {
   "cell_type": "code",
   "execution_count": 23,
   "id": "d8908bcb-553d-4cd4-bd6d-ae58e47d29db",
   "metadata": {},
   "outputs": [
    {
     "data": {
      "text/plain": [
       "False"
      ]
     },
     "execution_count": 23,
     "metadata": {},
     "output_type": "execute_result"
    }
   ],
   "source": [
    "c=False\n",
    "c"
   ]
  },
  {
   "cell_type": "code",
   "execution_count": 25,
   "id": "7d9e9e02-48ad-481f-8c95-30cc06162d51",
   "metadata": {},
   "outputs": [
    {
     "name": "stdout",
     "output_type": "stream",
     "text": [
      "False\n"
     ]
    }
   ],
   "source": [
    "print(c)"
   ]
  },
  {
   "cell_type": "code",
   "execution_count": 27,
   "id": "768bbeb7-3099-41d9-8c31-a3d89e3acb21",
   "metadata": {},
   "outputs": [
    {
     "data": {
      "text/plain": [
       "bool"
      ]
     },
     "execution_count": 27,
     "metadata": {},
     "output_type": "execute_result"
    }
   ],
   "source": [
    "type(c)"
   ]
  },
  {
   "cell_type": "markdown",
   "id": "63175d8a-398a-48f0-9cd9-ffea9af92cd4",
   "metadata": {},
   "source": [
    "#### string(str)"
   ]
  },
  {
   "cell_type": "code",
   "execution_count": 30,
   "id": "1209f21c-4047-436a-8f2d-c5b486b65013",
   "metadata": {},
   "outputs": [
    {
     "name": "stdout",
     "output_type": "stream",
     "text": [
      "mohammad\n"
     ]
    }
   ],
   "source": [
    "mystring1='mohammad'\n",
    "print(mystring1)"
   ]
  },
  {
   "cell_type": "code",
   "execution_count": 32,
   "id": "648988df-5b12-4239-9b47-98ab72edfa69",
   "metadata": {},
   "outputs": [
    {
     "name": "stdout",
     "output_type": "stream",
     "text": [
      "mohammad aniq\n"
     ]
    }
   ],
   "source": [
    "mystring2='mohammad aniq'\n",
    "print(mystring2)"
   ]
  },
  {
   "cell_type": "markdown",
   "id": "cf94e112-4e2f-4ebd-9e56-c5b45db6a5e4",
   "metadata": {},
   "source": [
    "#### multiline string"
   ]
  },
  {
   "cell_type": "code",
   "execution_count": 37,
   "id": "fc8c51fd-67f2-4648-abd8-54e9c92b1a84",
   "metadata": {},
   "outputs": [
    {
     "name": "stdout",
     "output_type": "stream",
     "text": [
      "mohammad anique zzama is \n",
      "a data science student\n"
     ]
    }
   ],
   "source": [
    "name='''mohammad anique zzama is \n",
    "a data science student'''\n",
    "print(name)"
   ]
  },
  {
   "cell_type": "code",
   "execution_count": 39,
   "id": "0b0960c5-c0cc-4937-ba15-2a91fda0f098",
   "metadata": {},
   "outputs": [
    {
     "data": {
      "text/plain": [
       "'098'"
      ]
     },
     "execution_count": 39,
     "metadata": {},
     "output_type": "execute_result"
    }
   ],
   "source": [
    "a='098'\n",
    "a"
   ]
  },
  {
   "cell_type": "code",
   "execution_count": 41,
   "id": "6564cd5f-0fb7-4d19-8a52-29422a99b6d6",
   "metadata": {},
   "outputs": [
    {
     "data": {
      "text/plain": [
       "str"
      ]
     },
     "execution_count": 41,
     "metadata": {},
     "output_type": "execute_result"
    }
   ],
   "source": [
    "type(a)"
   ]
  },
  {
   "cell_type": "code",
   "execution_count": null,
   "id": "88640948-72a8-4390-aaaa-94d3ecc8a520",
   "metadata": {},
   "outputs": [],
   "source": []
  }
 ],
 "metadata": {
  "kernelspec": {
   "display_name": "Python 3 (ipykernel)",
   "language": "python",
   "name": "python3"
  },
  "language_info": {
   "codemirror_mode": {
    "name": "ipython",
    "version": 3
   },
   "file_extension": ".py",
   "mimetype": "text/x-python",
   "name": "python",
   "nbconvert_exporter": "python",
   "pygments_lexer": "ipython3",
   "version": "3.12.4"
  }
 },
 "nbformat": 4,
 "nbformat_minor": 5
}
