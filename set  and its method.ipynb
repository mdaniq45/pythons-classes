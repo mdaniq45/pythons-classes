{
 "cells": [
  {
   "cell_type": "markdown",
   "id": "ac1620a8-6a5d-490d-a248-479f95a89934",
   "metadata": {},
   "source": [
    "#### empty sets"
   ]
  },
  {
   "cell_type": "code",
   "execution_count": 2,
   "id": "ce3e6c0d-cee5-4db0-b363-633ed278233e",
   "metadata": {},
   "outputs": [],
   "source": [
    "set_var=set()"
   ]
  },
  {
   "cell_type": "code",
   "execution_count": 4,
   "id": "d8a45f04-e448-42c1-9592-baccb0a3a9e9",
   "metadata": {},
   "outputs": [
    {
     "data": {
      "text/plain": [
       "set()"
      ]
     },
     "execution_count": 4,
     "metadata": {},
     "output_type": "execute_result"
    }
   ],
   "source": [
    "set_var"
   ]
  },
  {
   "cell_type": "code",
   "execution_count": 6,
   "id": "d594a3f0-2efa-41da-a44f-0f9bf3395fb0",
   "metadata": {},
   "outputs": [
    {
     "name": "stdout",
     "output_type": "stream",
     "text": [
      "{4, 5, 6, 8, 12}\n"
     ]
    }
   ],
   "source": [
    "s={12,5,6,8,6,4}\n",
    "print(s)"
   ]
  },
  {
   "cell_type": "markdown",
   "id": "0aab173b-5ead-44aa-b2fd-8a024846b469",
   "metadata": {},
   "source": [
    "### set does not support indexing ,because it's unorder collection of itoms"
   ]
  },
  {
   "cell_type": "code",
   "execution_count": 9,
   "id": "0b56a77c-5f14-48f2-9c75-67b900fbebc8",
   "metadata": {},
   "outputs": [
    {
     "ename": "TypeError",
     "evalue": "'set' object is not subscriptable",
     "output_type": "error",
     "traceback": [
      "\u001b[1;31m---------------------------------------------------------------------------\u001b[0m",
      "\u001b[1;31mTypeError\u001b[0m                                 Traceback (most recent call last)",
      "Cell \u001b[1;32mIn[9], line 1\u001b[0m\n\u001b[1;32m----> 1\u001b[0m \u001b[38;5;28mprint\u001b[39m(s[\u001b[38;5;241m2\u001b[39m])\n",
      "\u001b[1;31mTypeError\u001b[0m: 'set' object is not subscriptable"
     ]
    }
   ],
   "source": [
    "print(s[2])"
   ]
  },
  {
   "cell_type": "markdown",
   "id": "46b31149-8626-44ab-b9d0-f7899b86e68c",
   "metadata": {},
   "source": [
    "### set methods"
   ]
  },
  {
   "cell_type": "markdown",
   "id": "3e464b25-6c02-4291-bbab-39d608683161",
   "metadata": {},
   "source": [
    "#### add method"
   ]
  },
  {
   "cell_type": "code",
   "execution_count": 12,
   "id": "7ca1a838-0aef-4f3a-9551-686f2ea03515",
   "metadata": {},
   "outputs": [],
   "source": [
    "s={1,4,7,9}\n",
    "s.add(4)"
   ]
  },
  {
   "cell_type": "code",
   "execution_count": 14,
   "id": "3b05a15c-f906-433b-a147-b3c03520c313",
   "metadata": {},
   "outputs": [
    {
     "data": {
      "text/plain": [
       "{1, 4, 7, 9}"
      ]
     },
     "execution_count": 14,
     "metadata": {},
     "output_type": "execute_result"
    }
   ],
   "source": [
    "s"
   ]
  },
  {
   "cell_type": "markdown",
   "id": "a8f64f3f-f966-45eb-9d4e-6254782e9aa8",
   "metadata": {},
   "source": [
    "### update method"
   ]
  },
  {
   "cell_type": "code",
   "execution_count": 18,
   "id": "758460c3-248d-4776-851a-cf4077a30498",
   "metadata": {},
   "outputs": [],
   "source": [
    "s1={42,66,44,42,77,66,440}\n",
    "s2={22,66,755,4543,6443}\n",
    "s1.update(['a','b','c','d'])"
   ]
  },
  {
   "cell_type": "code",
   "execution_count": 20,
   "id": "db8368c3-eb1e-4319-9412-87b799d6511d",
   "metadata": {},
   "outputs": [
    {
     "data": {
      "text/plain": [
       "{42, 44, 440, 66, 77, 'a', 'b', 'c', 'd'}"
      ]
     },
     "execution_count": 20,
     "metadata": {},
     "output_type": "execute_result"
    }
   ],
   "source": [
    "s1"
   ]
  },
  {
   "cell_type": "code",
   "execution_count": 22,
   "id": "d4d69ae8-d10f-45c5-a24f-8d6bbc449b55",
   "metadata": {},
   "outputs": [],
   "source": [
    "s2.update(['m','n','o'])"
   ]
  },
  {
   "cell_type": "code",
   "execution_count": 24,
   "id": "e0901d5b-0aaf-4de4-84f4-a949b56d6e75",
   "metadata": {},
   "outputs": [
    {
     "data": {
      "text/plain": [
       "{22, 4543, 6443, 66, 755, 'm', 'n', 'o'}"
      ]
     },
     "execution_count": 24,
     "metadata": {},
     "output_type": "execute_result"
    }
   ],
   "source": [
    "s2"
   ]
  },
  {
   "cell_type": "code",
   "execution_count": 26,
   "id": "abdd3d28-5970-4350-be04-8a48189e6320",
   "metadata": {},
   "outputs": [
    {
     "ename": "AttributeError",
     "evalue": "'set' object has no attribute 'describe'",
     "output_type": "error",
     "traceback": [
      "\u001b[1;31m---------------------------------------------------------------------------\u001b[0m",
      "\u001b[1;31mAttributeError\u001b[0m                            Traceback (most recent call last)",
      "Cell \u001b[1;32mIn[26], line 1\u001b[0m\n\u001b[1;32m----> 1\u001b[0m s1\u001b[38;5;241m.\u001b[39mdescribe(\u001b[38;5;241m2\u001b[39m)\n",
      "\u001b[1;31mAttributeError\u001b[0m: 'set' object has no attribute 'describe'"
     ]
    }
   ],
   "source": []
  },
  {
   "cell_type": "markdown",
   "id": "9cc56799-a1f0-47d0-b289-27b9082769c7",
   "metadata": {},
   "source": [
    "### set  remove function"
   ]
  },
  {
   "cell_type": "code",
   "execution_count": 29,
   "id": "0c079bc0-975d-411d-b372-ca6d2b3b2192",
   "metadata": {},
   "outputs": [],
   "source": [
    "s1.remove(42)"
   ]
  },
  {
   "cell_type": "code",
   "execution_count": 31,
   "id": "913e4259-e025-49fe-b863-dbfda7572316",
   "metadata": {},
   "outputs": [
    {
     "data": {
      "text/plain": [
       "{44, 440, 66, 77, 'a', 'b', 'c', 'd'}"
      ]
     },
     "execution_count": 31,
     "metadata": {},
     "output_type": "execute_result"
    }
   ],
   "source": [
    "s1"
   ]
  },
  {
   "cell_type": "markdown",
   "id": "36504b45-e6f8-4916-bd26-0b92e540053b",
   "metadata": {},
   "source": [
    "#### set clr function"
   ]
  },
  {
   "cell_type": "code",
   "execution_count": 34,
   "id": "705f54a7-cfd8-45b2-a795-0c10ed11d42a",
   "metadata": {},
   "outputs": [],
   "source": [
    "s1.clear()"
   ]
  },
  {
   "cell_type": "code",
   "execution_count": 36,
   "id": "4f1bb34a-b0a8-491a-8ef8-a93c2bc2f9bd",
   "metadata": {},
   "outputs": [
    {
     "data": {
      "text/plain": [
       "set()"
      ]
     },
     "execution_count": 36,
     "metadata": {},
     "output_type": "execute_result"
    }
   ],
   "source": [
    "s1"
   ]
  },
  {
   "cell_type": "markdown",
   "id": "4164dd82-541e-4722-bee0-9f011a18e5e0",
   "metadata": {},
   "source": [
    "### copy function"
   ]
  },
  {
   "cell_type": "code",
   "execution_count": 39,
   "id": "94df5a5b-c7d2-465e-b160-e373ac7ac235",
   "metadata": {},
   "outputs": [
    {
     "data": {
      "text/plain": [
       "{22, 4543, 6443, 66, 755, 'm', 'n', 'o'}"
      ]
     },
     "execution_count": 39,
     "metadata": {},
     "output_type": "execute_result"
    }
   ],
   "source": [
    "s1=s2.copy()\n",
    "s1"
   ]
  },
  {
   "cell_type": "code",
   "execution_count": 41,
   "id": "f46b4e6c-25bf-4e4d-af3b-d0521f8d21b1",
   "metadata": {},
   "outputs": [],
   "source": [
    "s3={44,44,534,'a','b'}"
   ]
  },
  {
   "cell_type": "markdown",
   "id": "8eb75122-e5ac-4b72-91d4-3f3cb8d8a579",
   "metadata": {},
   "source": [
    "### set operation"
   ]
  },
  {
   "cell_type": "code",
   "execution_count": 45,
   "id": "8c3d0e47-f615-40ff-bd23-b0d8b8b76e8c",
   "metadata": {},
   "outputs": [
    {
     "data": {
      "text/plain": [
       "{44, 534, 'a', 'b'}"
      ]
     },
     "execution_count": 45,
     "metadata": {},
     "output_type": "execute_result"
    }
   ],
   "source": [
    "s3"
   ]
  },
  {
   "cell_type": "code",
   "execution_count": 51,
   "id": "0d6358da-75f1-4dc3-8947-825cc89aa032",
   "metadata": {},
   "outputs": [
    {
     "data": {
      "text/plain": [
       "{22, 44, 4543, 534, 6443, 66, 755, 'a', 'b', 'm', 'n', 'o'}"
      ]
     },
     "execution_count": 51,
     "metadata": {},
     "output_type": "execute_result"
    }
   ],
   "source": [
    "s1.union(s3)"
   ]
  },
  {
   "cell_type": "code",
   "execution_count": 53,
   "id": "d1dd03f3-e26e-4a42-8aa8-ba96520dfd84",
   "metadata": {},
   "outputs": [
    {
     "data": {
      "text/plain": [
       "set()"
      ]
     },
     "execution_count": 53,
     "metadata": {},
     "output_type": "execute_result"
    }
   ],
   "source": [
    "s1.intersection(s3)"
   ]
  },
  {
   "cell_type": "code",
   "execution_count": null,
   "id": "c43ff196-9f3a-4eb2-a75a-9b57874184ab",
   "metadata": {},
   "outputs": [],
   "source": [
    "s1={1,4,6,8,10}\n",
    "s2={3,6,9,11,1}"
   ]
  }
 ],
 "metadata": {
  "kernelspec": {
   "display_name": "Python 3 (ipykernel)",
   "language": "python",
   "name": "python3"
  },
  "language_info": {
   "codemirror_mode": {
    "name": "ipython",
    "version": 3
   },
   "file_extension": ".py",
   "mimetype": "text/x-python",
   "name": "python",
   "nbconvert_exporter": "python",
   "pygments_lexer": "ipython3",
   "version": "3.12.4"
  }
 },
 "nbformat": 4,
 "nbformat_minor": 5
}
