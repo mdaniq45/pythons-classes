{
 "cells": [
  {
   "cell_type": "markdown",
   "id": "3bc4e6ee-a607-454c-9fe5-02fb480bdf1c",
   "metadata": {},
   "source": [
    "### What are Loops in Python?\n",
    "Loops in Python are control flow statements used to execute a block of code repeatedly, either a specified number of times or until a specific condition is met. Python supports two main types of loops:"
   ]
  },
  {
   "cell_type": "markdown",
   "id": "d24f9e7e-604b-4508-b2c2-cb9bfa6660e8",
   "metadata": {},
   "source": [
    "### Print numbers from 1 to 10 using a for loop.\n",
    "\n"
   ]
  },
  {
   "cell_type": "code",
   "execution_count": 2,
   "id": "4d022255-dc79-453c-8262-383c9c202604",
   "metadata": {},
   "outputs": [
    {
     "name": "stdout",
     "output_type": "stream",
     "text": [
      "1\n",
      "2\n",
      "3\n",
      "4\n",
      "5\n",
      "6\n",
      "7\n",
      "8\n",
      "9\n",
      "10\n"
     ]
    }
   ],
   "source": [
    "for i in range(1,11):\n",
    "    print(i)"
   ]
  },
  {
   "cell_type": "markdown",
   "id": "de40f8ee-99ed-41df-9ff2-ca80aacc1ca1",
   "metadata": {},
   "source": [
    "### Print the square of numbers from 1 to 5.\n",
    "\n",
    "\n"
   ]
  },
  {
   "cell_type": "code",
   "execution_count": 7,
   "id": "b936a546-8e1d-43c1-95e4-906c28d8e689",
   "metadata": {},
   "outputs": [
    {
     "name": "stdout",
     "output_type": "stream",
     "text": [
      "1\n",
      "4\n",
      "9\n",
      "16\n",
      "25\n"
     ]
    }
   ],
   "source": [
    "for i in range(1,6):\n",
    "    print(i**2)"
   ]
  },
  {
   "cell_type": "code",
   "execution_count": 8,
   "id": "c8269a7e-73b3-4237-b33f-73c960c4c405",
   "metadata": {},
   "outputs": [
    {
     "name": "stdout",
     "output_type": "stream",
     "text": [
      "2\n",
      "4\n",
      "6\n",
      "8\n"
     ]
    }
   ],
   "source": [
    "for i in range(1,5):\n",
    "    print(i*2)"
   ]
  },
  {
   "cell_type": "markdown",
   "id": "aa7eaa86-3153-4f12-ade7-d763b9e0f4cd",
   "metadata": {},
   "source": [
    "### Print all characters in a string.\n",
    "\n",
    "\n"
   ]
  },
  {
   "cell_type": "code",
   "execution_count": 10,
   "id": "0b34f9c9-8b8e-4bdd-a8a5-736686404a99",
   "metadata": {},
   "outputs": [
    {
     "name": "stdout",
     "output_type": "stream",
     "text": [
      "m\n",
      "o\n",
      "h\n",
      "a\n",
      "m\n",
      "m\n",
      "a\n",
      "d\n",
      " \n",
      "a\n",
      "n\n",
      "i\n",
      "q\n",
      "u\n",
      "e\n",
      " \n",
      "z\n",
      "z\n",
      "m\n",
      "a\n"
     ]
    }
   ],
   "source": [
    "text=\"mohammad anique zzma\"\n",
    "for char in text:\n",
    "    print(char)"
   ]
  },
  {
   "cell_type": "code",
   "execution_count": 11,
   "id": "27c1420c-8d21-42c3-aed6-dc76eba9d0ec",
   "metadata": {},
   "outputs": [
    {
     "name": "stdout",
     "output_type": "stream",
     "text": [
      "mohammad anique zzma\n",
      "mohammad anique zzma\n",
      "mohammad anique zzma\n",
      "mohammad anique zzma\n",
      "mohammad anique zzma\n",
      "mohammad anique zzma\n",
      "mohammad anique zzma\n",
      "mohammad anique zzma\n",
      "mohammad anique zzma\n",
      "mohammad anique zzma\n",
      "mohammad anique zzma\n",
      "mohammad anique zzma\n",
      "mohammad anique zzma\n",
      "mohammad anique zzma\n",
      "mohammad anique zzma\n",
      "mohammad anique zzma\n",
      "mohammad anique zzma\n",
      "mohammad anique zzma\n",
      "mohammad anique zzma\n",
      "mohammad anique zzma\n"
     ]
    }
   ],
   "source": [
    "text=\"mohammad anique zzma\"\n",
    "for char in text:\n",
    "    print(text)"
   ]
  },
  {
   "cell_type": "markdown",
   "id": "587828e0-4a9b-454c-acfb-97c25caf8874",
   "metadata": {},
   "source": [
    "### Sum numbers from 1 to 100.\n",
    "\n"
   ]
  },
  {
   "cell_type": "code",
   "execution_count": 12,
   "id": "b30912c1-8676-4721-9a95-5455f1dfa43c",
   "metadata": {},
   "outputs": [
    {
     "name": "stdout",
     "output_type": "stream",
     "text": [
      "100\n"
     ]
    }
   ],
   "source": [
    "total=0\n",
    "for i in range(1,101):\n",
    "    total=total+1\n",
    "\n",
    "print(total)\n"
   ]
  },
  {
   "cell_type": "code",
   "execution_count": 13,
   "id": "c68631ab-7854-4040-8fbb-31db26ddedaf",
   "metadata": {},
   "outputs": [
    {
     "name": "stdout",
     "output_type": "stream",
     "text": [
      "100\n"
     ]
    }
   ],
   "source": [
    "total=0\n",
    "for i in range(1,101):\n",
    "    total+=1\n",
    "\n",
    "print(total)"
   ]
  },
  {
   "cell_type": "markdown",
   "id": "c41dbe72-6142-4a28-8efb-e9bdfde90621",
   "metadata": {},
   "source": [
    "### Print even numbers between 1 and 20.\n",
    "\n",
    "\n"
   ]
  },
  {
   "cell_type": "code",
   "execution_count": 15,
   "id": "2bf3dab4-08d2-45eb-88e2-a3f31bc473d8",
   "metadata": {},
   "outputs": [
    {
     "name": "stdout",
     "output_type": "stream",
     "text": [
      "2\n",
      "4\n",
      "6\n",
      "8\n",
      "10\n",
      "12\n",
      "14\n",
      "16\n",
      "18\n",
      "20\n"
     ]
    }
   ],
   "source": [
    "for i in range(2,21,2):\n",
    "    print(i)"
   ]
  },
  {
   "cell_type": "code",
   "execution_count": 16,
   "id": "c32f72a8-704c-4c91-91c3-376586244a02",
   "metadata": {},
   "outputs": [
    {
     "name": "stdout",
     "output_type": "stream",
     "text": [
      "3\n",
      "5\n",
      "7\n",
      "9\n",
      "11\n",
      "13\n",
      "15\n",
      "17\n",
      "19\n"
     ]
    }
   ],
   "source": [
    "for i in range(3,21,2):\n",
    "    print(i)"
   ]
  },
  {
   "cell_type": "markdown",
   "id": "1a564c51-073d-475c-90bc-17a7500cef3a",
   "metadata": {},
   "source": [
    "### Print all elements in a list.\n"
   ]
  },
  {
   "cell_type": "code",
   "execution_count": 18,
   "id": "40c6130e-82dc-457a-8d79-b25637e240b0",
   "metadata": {},
   "outputs": [
    {
     "name": "stdout",
     "output_type": "stream",
     "text": [
      "2\n",
      "4\n",
      "6\n",
      "7\n",
      "8\n",
      "9\n",
      "0\n",
      "33\n",
      "1\n"
     ]
    }
   ],
   "source": [
    "nums=[2,4,6,7,8,9,0,33,1]\n",
    "for num in nums:\n",
    "    print(num)"
   ]
  },
  {
   "cell_type": "markdown",
   "id": "84aea90f-e442-4a9c-b674-85ec6c0548aa",
   "metadata": {},
   "source": [
    "### Find the sum of all elements in a list.\n",
    "\n",
    "\n"
   ]
  },
  {
   "cell_type": "code",
   "execution_count": 29,
   "id": "03eea6e1-42bc-414a-b5bb-bbf9e3a15762",
   "metadata": {},
   "outputs": [
    {
     "name": "stdout",
     "output_type": "stream",
     "text": [
      "3\n",
      "47\n",
      "113\n",
      "190\n",
      "198\n",
      "297\n",
      "309\n"
     ]
    }
   ],
   "source": [
    "nums=[3,44,66,77,8,99,12]\n",
    "total=0\n",
    "for num in nums:\n",
    "    total=total+num\n",
    "    print(total)\n",
    "    "
   ]
  },
  {
   "cell_type": "code",
   "execution_count": 26,
   "id": "24307d58-75cd-44ae-9e81-1571bbdc931c",
   "metadata": {},
   "outputs": [
    {
     "name": "stdout",
     "output_type": "stream",
     "text": [
      "[3, 44, 66, 77, 8, 99, 12]\n",
      "[3, 44, 66, 77, 8, 99, 12]\n",
      "[3, 44, 66, 77, 8, 99, 12]\n",
      "[3, 44, 66, 77, 8, 99, 12]\n",
      "[3, 44, 66, 77, 8, 99, 12]\n",
      "[3, 44, 66, 77, 8, 99, 12]\n",
      "[3, 44, 66, 77, 8, 99, 12]\n"
     ]
    }
   ],
   "source": [
    "nums=[3,44,66,77,8,99,12]\n",
    "total=0\n",
    "for num in nums:\n",
    "    total=total+1\n",
    "    print(nums)"
   ]
  },
  {
   "cell_type": "markdown",
   "id": "808fab69-8084-40bb-831d-454c225a6c0b",
   "metadata": {},
   "source": [
    "### Print numbers in reverse order using range().\n",
    "\n",
    "\n"
   ]
  },
  {
   "cell_type": "code",
   "execution_count": 30,
   "id": "86497fd0-8f7c-45dd-930a-9def3466ff9f",
   "metadata": {},
   "outputs": [
    {
     "name": "stdout",
     "output_type": "stream",
     "text": [
      "20\n",
      "18\n",
      "16\n",
      "14\n",
      "12\n",
      "10\n",
      "8\n",
      "6\n",
      "4\n",
      "2\n"
     ]
    }
   ],
   "source": [
    "for i in range(20,0,-2):\n",
    "    print(i)"
   ]
  },
  {
   "cell_type": "markdown",
   "id": "d4949514-ed14-4055-9820-06d0d82844c5",
   "metadata": {},
   "source": [
    "### Find the factorial of a number.\n",
    "\n"
   ]
  },
  {
   "cell_type": "code",
   "execution_count": 33,
   "id": "9c0e4c77-6944-400b-b5f0-c286173fb5d2",
   "metadata": {},
   "outputs": [
    {
     "name": "stdin",
     "output_type": "stream",
     "text": [
      "inter the number 6\n"
     ]
    },
    {
     "name": "stdout",
     "output_type": "stream",
     "text": [
      "720\n"
     ]
    }
   ],
   "source": [
    "num=int(input(\"inter the number\"))\n",
    "factorial=1\n",
    "for i in range(1,num+1):\n",
    "    factorial=factorial*i\n",
    "\n",
    "print(factorial)\n"
   ]
  },
  {
   "cell_type": "code",
   "execution_count": 35,
   "id": "6fba3284-2682-4bed-8282-6aab822ff329",
   "metadata": {},
   "outputs": [
    {
     "name": "stdout",
     "output_type": "stream",
     "text": [
      "720\n"
     ]
    }
   ],
   "source": [
    "num=6\n",
    "factorial=1\n",
    "for i in range(1,num+1):\n",
    "    factorial=factorial*i\n",
    "\n",
    "print(factorial)"
   ]
  },
  {
   "cell_type": "markdown",
   "id": "4be8c0b4-5aaa-4c57-8311-7f2f8fbe3d5d",
   "metadata": {},
   "source": [
    "### Print all keys in a dictionary.\n",
    "\n",
    "\n"
   ]
  },
  {
   "cell_type": "code",
   "execution_count": 39,
   "id": "4be6824e-b8a0-41e4-bfa9-22270700958a",
   "metadata": {},
   "outputs": [
    {
     "name": "stdout",
     "output_type": "stream",
     "text": [
      "{1: 'mohammad', 2: 'ahmed', 3: 'abdullah'}\n",
      "{1: 'mohammad', 2: 'ahmed', 3: 'abdullah'}\n",
      "{1: 'mohammad', 2: 'ahmed', 3: 'abdullah'}\n"
     ]
    }
   ],
   "source": [
    "list={1:\"mohammad\",2:\"ahmed\",3:\"abdullah\"}\n",
    "for data in list:\n",
    "   # print(keys)\n",
    "    print(list)"
   ]
  },
  {
   "cell_type": "code",
   "execution_count": 46,
   "id": "a0f7b4c1-be30-46cb-9826-285e9505c1df",
   "metadata": {},
   "outputs": [
    {
     "name": "stdout",
     "output_type": "stream",
     "text": [
      "{1: 'mohammad', 2: 'ahmed', 3: 'abdullah'}\n",
      "{1: 'mohammad', 2: 'ahmed', 3: 'abdullah'}\n",
      "{1: 'mohammad', 2: 'ahmed', 3: 'abdullah'}\n"
     ]
    }
   ],
   "source": [
    "list={1:\"mohammad\",2:\"ahmed\",3:\"abdullah\"}\n",
    "for data in list:\n",
    "    \n",
    "    print(list)"
   ]
  },
  {
   "cell_type": "code",
   "execution_count": 41,
   "id": "ace28f55-87d1-4f3b-bf59-a85d1887bacc",
   "metadata": {},
   "outputs": [
    {
     "name": "stdout",
     "output_type": "stream",
     "text": [
      "Alice\n",
      "25\n",
      "New York\n"
     ]
    }
   ],
   "source": [
    "data = {\"name\": \"Alice\", \"age\": 25, \"city\": \"New York\"}\n",
    "for key in data:\n",
    "    print(data[key])\n"
   ]
  },
  {
   "cell_type": "markdown",
   "id": "8e6561c4-c92c-432b-a1f5-6e89a0a852a0",
   "metadata": {},
   "source": [
    "### Print all values in a dictionary.\n",
    "\n",
    "\n"
   ]
  },
  {
   "cell_type": "code",
   "execution_count": 47,
   "id": "cee1ed0a-2e8e-4d7d-9679-8aee372f3f7b",
   "metadata": {},
   "outputs": [
    {
     "name": "stdout",
     "output_type": "stream",
     "text": [
      "{1: 'mohammad', 2: 'ahmed', 3: 'abdullah'}\n",
      "{1: 'mohammad', 2: 'ahmed', 3: 'abdullah'}\n",
      "{1: 'mohammad', 2: 'ahmed', 3: 'abdullah'}\n"
     ]
    }
   ],
   "source": [
    "list={1:\"mohammad\",2:\"ahmed\",3:\"abdullah\"}\n",
    "for data in list:\n",
    "    \n",
    "    print(list)"
   ]
  },
  {
   "cell_type": "markdown",
   "id": "4460017c-36b8-4968-8443-796fc536bf35",
   "metadata": {},
   "source": [
    "### Print numbers divisible by 3 in a range.\n",
    "\n",
    "\n"
   ]
  },
  {
   "cell_type": "code",
   "execution_count": 50,
   "id": "f8468b5a-3227-41c0-8b8e-db365d153ca9",
   "metadata": {},
   "outputs": [
    {
     "name": "stdout",
     "output_type": "stream",
     "text": [
      "3\n",
      "6\n",
      "9\n",
      "12\n",
      "15\n",
      "18\n"
     ]
    }
   ],
   "source": [
    "for i in range(1,21):\n",
    "    if i%3==0:\n",
    "        print(i)\n"
   ]
  },
  {
   "cell_type": "code",
   "execution_count": 51,
   "id": "88b91b43-0602-4d34-b536-9ef53c8cb876",
   "metadata": {},
   "outputs": [
    {
     "name": "stdout",
     "output_type": "stream",
     "text": [
      "2\n",
      "4\n",
      "6\n",
      "8\n",
      "10\n",
      "12\n",
      "14\n",
      "16\n",
      "18\n",
      "20\n"
     ]
    }
   ],
   "source": [
    "for i in range(1,22):\n",
    "    if i%2==0:\n",
    "        print(i)"
   ]
  },
  {
   "cell_type": "code",
   "execution_count": 52,
   "id": "9f2d5153-3a4e-447b-8a7c-3cc3220e3d15",
   "metadata": {},
   "outputs": [
    {
     "name": "stdout",
     "output_type": "stream",
     "text": [
      "5\n",
      "10\n",
      "15\n",
      "20\n",
      "25\n"
     ]
    }
   ],
   "source": [
    "for i in range(1,30):\n",
    "    if i%5==0:\n",
    "        print(i)"
   ]
  },
  {
   "cell_type": "markdown",
   "id": "a5818f9b-d421-4070-b9c2-ca33b31586b0",
   "metadata": {},
   "source": [
    "### Find the length of a string without using len().\n",
    "\n",
    "\n"
   ]
  },
  {
   "cell_type": "code",
   "execution_count": 54,
   "id": "5a3d5936-2f9c-4389-ae23-639fd6420bd3",
   "metadata": {},
   "outputs": [
    {
     "name": "stdout",
     "output_type": "stream",
     "text": [
      "12\n"
     ]
    }
   ],
   "source": [
    "text=\"anique zzama\"\n",
    "length=0\n",
    "for char in text:\n",
    "    length=length+1\n",
    "print(length)"
   ]
  },
  {
   "cell_type": "code",
   "execution_count": 55,
   "id": "03afbd30-d725-42a8-8e86-1fda01e2fa9a",
   "metadata": {},
   "outputs": [
    {
     "name": "stdout",
     "output_type": "stream",
     "text": [
      "1\n",
      "2\n",
      "3\n",
      "4\n",
      "5\n",
      "6\n",
      "7\n",
      "8\n",
      "9\n",
      "10\n",
      "11\n",
      "12\n"
     ]
    }
   ],
   "source": [
    "text=\"anique zzama\"\n",
    "length=0\n",
    "for char in text:\n",
    "    length=length+1\n",
    "    print(length)"
   ]
  },
  {
   "cell_type": "markdown",
   "id": "ef4bd5f4-c284-483c-99e4-d905f9bf0417",
   "metadata": {},
   "source": [
    "### Check if an element exists in a list using a loop.\n",
    "\n"
   ]
  },
  {
   "cell_type": "code",
   "execution_count": 57,
   "id": "23f8a9c4-be02-4aaf-876d-da4b507db793",
   "metadata": {},
   "outputs": [
    {
     "name": "stdout",
     "output_type": "stream",
     "text": [
      "not found\n"
     ]
    }
   ],
   "source": [
    "nums=[1,4,6,7,4,3,22,5]\n",
    "target=242\n",
    "found=False\n",
    "for num in nums:\n",
    "    if num==target:\n",
    "        found=True\n",
    "        break\n",
    "\n",
    "print(\"found\" if found else \"not found\")"
   ]
  },
  {
   "cell_type": "code",
   "execution_count": 58,
   "id": "3b0a539e-1cbf-4700-ba2f-9527348d3441",
   "metadata": {},
   "outputs": [
    {
     "name": "stdout",
     "output_type": "stream",
     "text": [
      "found\n"
     ]
    }
   ],
   "source": [
    "nums=[1,4,6,7,4,3,22,5]\n",
    "target=22\n",
    "found=False\n",
    "for num in nums:\n",
    "    if num==target:\n",
    "        found=True\n",
    "        break\n",
    "\n",
    "print(\"found\" if found else \"not found\")"
   ]
  },
  {
   "cell_type": "markdown",
   "id": "c90dbade-3239-4c57-bb53-ba939a83d5d6",
   "metadata": {},
   "source": [
    "### Count the occurrences of a character in a string.\n",
    "\n"
   ]
  },
  {
   "cell_type": "code",
   "execution_count": 64,
   "id": "eff164a4-faaa-4ab7-bd76-f09bb265cf92",
   "metadata": {},
   "outputs": [
    {
     "name": "stdout",
     "output_type": "stream",
     "text": [
      "0\n"
     ]
    }
   ],
   "source": [
    "text=\"hello frends how are you\"\n",
    "#char=char(input(\"inter the char\"))\n",
    "char=\"o\"\n",
    "count=0\n",
    "for c in text:\n",
    "    if c==char:\n",
    "        count+1\n",
    "\n",
    "print(count)"
   ]
  },
  {
   "cell_type": "markdown",
   "id": "c9683e3d-f3d2-4eec-83d2-26078b36b061",
   "metadata": {},
   "source": [
    "### Reverse a string using a loop.\n",
    "\n"
   ]
  },
  {
   "cell_type": "code",
   "execution_count": 69,
   "id": "c80ec39c-bc24-4422-84a4-42711e4bb904",
   "metadata": {},
   "outputs": [
    {
     "name": "stdout",
     "output_type": "stream",
     "text": [
      " euqina\n"
     ]
    }
   ],
   "source": [
    "text=\"anique \"\n",
    "reversed_text=\"\"\n",
    "for char in text:\n",
    "    reversed_text=char+reversed_text\n",
    "print(reversed_text)"
   ]
  },
  {
   "cell_type": "code",
   "execution_count": 67,
   "id": "24b2a110-e16a-4ee0-9c66-0a4a19b7bc86",
   "metadata": {},
   "outputs": [
    {
     "name": "stdout",
     "output_type": "stream",
     "text": [
      "nohtyP\n"
     ]
    }
   ],
   "source": [
    "text = \"Python\"\n",
    "reversed_text = \"\"\n",
    "for char in text:\n",
    "    reversed_text = char + reversed_text\n",
    "print(reversed_text)\n"
   ]
  },
  {
   "cell_type": "markdown",
   "id": "d71b8e6f-a4cb-46ce-af74-3ba8c2560438",
   "metadata": {},
   "source": [
    "### Print the transpose of a matrix using nested loops.\n",
    "\n"
   ]
  },
  {
   "cell_type": "code",
   "execution_count": 80,
   "id": "b4be0403-9e6c-4a34-97b2-1344942f16f9",
   "metadata": {},
   "outputs": [
    {
     "name": "stdout",
     "output_type": "stream",
     "text": [
      "1 4 6 \n",
      "3 6 8 \n"
     ]
    },
    {
     "ename": "IndexError",
     "evalue": "list index out of range",
     "output_type": "error",
     "traceback": [
      "\u001b[1;31m---------------------------------------------------------------------------\u001b[0m",
      "\u001b[1;31mIndexError\u001b[0m                                Traceback (most recent call last)",
      "Cell \u001b[1;32mIn[80], line 4\u001b[0m\n\u001b[0;32m      2\u001b[0m \u001b[38;5;28;01mfor\u001b[39;00m i \u001b[38;5;129;01min\u001b[39;00m \u001b[38;5;28mrange\u001b[39m(\u001b[38;5;28mlen\u001b[39m(matrix)):\n\u001b[0;32m      3\u001b[0m     \u001b[38;5;28;01mfor\u001b[39;00m row \u001b[38;5;129;01min\u001b[39;00m matrix:\n\u001b[1;32m----> 4\u001b[0m         \u001b[38;5;28mprint\u001b[39m(row[i], end\u001b[38;5;241m=\u001b[39m\u001b[38;5;124m\"\u001b[39m\u001b[38;5;124m \u001b[39m\u001b[38;5;124m\"\u001b[39m)\n\u001b[0;32m      6\u001b[0m     \u001b[38;5;28mprint\u001b[39m()\n",
      "\u001b[1;31mIndexError\u001b[0m: list index out of range"
     ]
    }
   ],
   "source": [
    "matrix=[[1,3],[4,6],[6,8]]\n",
    "for i in range(len(matrix)):\n",
    "    for row in matrix:\n",
    "        print(row[i], end=\" \")\n",
    "\n",
    "    print()"
   ]
  },
  {
   "cell_type": "markdown",
   "id": "ba03fdc3-d5fb-4de0-bdba-bf9bb545aa00",
   "metadata": {},
   "source": [
    "### Flatten a nested list using loops.\n",
    "\n"
   ]
  },
  {
   "cell_type": "code",
   "execution_count": 81,
   "id": "2db272b1-5127-42c4-9866-da641250433b",
   "metadata": {},
   "outputs": [
    {
     "name": "stdout",
     "output_type": "stream",
     "text": [
      "[1, 3, 4, 5, 6, 3]\n"
     ]
    }
   ],
   "source": [
    "nested_list=[[1,3],[4,5],[6,3]]\n",
    "flat_list=[]\n",
    "for sublist in nested_list:\n",
    "    for item in sublist:\n",
    "        flat_list.append(item)\n",
    "\n",
    "print(flat_list)"
   ]
  },
  {
   "cell_type": "markdown",
   "id": "c50f6059-aa68-4c75-86e1-3ff077c7e6ee",
   "metadata": {},
   "source": [
    "### Find the second largest number in a list.\n",
    "\n"
   ]
  },
  {
   "cell_type": "code",
   "execution_count": 82,
   "id": "dca6945e-6927-4f38-ab35-75cd0e905385",
   "metadata": {},
   "outputs": [
    {
     "name": "stdout",
     "output_type": "stream",
     "text": [
      "7\n"
     ]
    }
   ],
   "source": [
    "nums = [3, 7, 2, 9, 5]\n",
    "largest = second = float('-inf')\n",
    "for num in nums:\n",
    "    if num > largest:\n",
    "        second = largest\n",
    "        largest = num\n",
    "    elif num > second and num != largest:\n",
    "        second = num\n",
    "print(second)\n"
   ]
  },
  {
   "cell_type": "code",
   "execution_count": null,
   "id": "dd35c772-c75c-41bb-a182-5c058ec9db5c",
   "metadata": {},
   "outputs": [],
   "source": []
  }
 ],
 "metadata": {
  "kernelspec": {
   "display_name": "Python 3 (ipykernel)",
   "language": "python",
   "name": "python3"
  },
  "language_info": {
   "codemirror_mode": {
    "name": "ipython",
    "version": 3
   },
   "file_extension": ".py",
   "mimetype": "text/x-python",
   "name": "python",
   "nbconvert_exporter": "python",
   "pygments_lexer": "ipython3",
   "version": "3.12.2"
  }
 },
 "nbformat": 4,
 "nbformat_minor": 5
}
