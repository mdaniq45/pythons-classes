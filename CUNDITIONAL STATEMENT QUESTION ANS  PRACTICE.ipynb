{
 "cells": [
  {
   "cell_type": "code",
   "execution_count": 1,
   "id": "5de0a84e-8c97-41cf-b011-a2bbbc68243e",
   "metadata": {},
   "outputs": [
    {
     "data": {
      "text/plain": [
       "'\\nA conditional statement is a programming construct that allows a program to make decisions and execute different code paths based on whether a given condition evaluates to True or False. It is commonly implemented using if, elif, and else keywords to handle various scenarios.'"
      ]
     },
     "execution_count": 1,
     "metadata": {},
     "output_type": "execute_result"
    }
   ],
   "source": [
    "'''\n",
    "A conditional statement is a programming construct that allows a program to make decisions and execute different code paths based on whether a given condition evaluates to True or False. It is commonly implemented using if, elif, and else keywords to handle various scenarios.'''"
   ]
  },
  {
   "cell_type": "markdown",
   "id": "bce83e7e-785b-4d9d-95df-3094c5720bee",
   "metadata": {},
   "source": [
    "### 1.Question: Write a program to check if a number is positive or negative."
   ]
  },
  {
   "cell_type": "code",
   "execution_count": 7,
   "id": "7f10c5cb-435e-4afc-bf3f-e46a8f6fa871",
   "metadata": {},
   "outputs": [
    {
     "name": "stdin",
     "output_type": "stream",
     "text": [
      "enter a number -9\n"
     ]
    },
    {
     "name": "stdout",
     "output_type": "stream",
     "text": [
      "the num is negative\n"
     ]
    }
   ],
   "source": [
    "num=int(input('enter a number'))\n",
    "if num>=0:\n",
    "    print('the num is positive')\n",
    "else:\n",
    "   print('the num is negative')\n"
   ]
  },
  {
   "cell_type": "markdown",
   "id": "66863033-af49-4328-8deb-339812cb5910",
   "metadata": {},
   "source": [
    "### 2.Question: Write a program to grade a student based on their score"
   ]
  },
  {
   "cell_type": "code",
   "execution_count": 11,
   "id": "5bf2f5b9-6719-4c23-90b5-51a77f307e57",
   "metadata": {},
   "outputs": [
    {
     "name": "stdin",
     "output_type": "stream",
     "text": [
      "enter the score : 99\n"
     ]
    },
    {
     "name": "stdout",
     "output_type": "stream",
     "text": [
      "grade: A\n"
     ]
    }
   ],
   "source": [
    "score=int(input('enter the score :'))\n",
    "if score>=90:\n",
    "     print('grade: A')\n",
    "elif score>=80:\n",
    "   print('grade :B')\n",
    "elif score >=70:\n",
    "   print('grade :c')\n",
    "elif score >=60:\n",
    "    print('grade :d')\n",
    "else:\n",
    "   print(\"grade:f\")\n",
    "\n",
    "\n",
    "          \n"
   ]
  },
  {
   "cell_type": "markdown",
   "id": "c3003189-7aad-4af8-9005-787190fae1f7",
   "metadata": {},
   "source": [
    "### 3.Question: Write a program to check if a given number is positive, negative, or zero."
   ]
  },
  {
   "cell_type": "code",
   "execution_count": 25,
   "id": "2e7a7668-7b74-4d4f-8126-083807444c9a",
   "metadata": {},
   "outputs": [
    {
     "ename": "IndentationError",
     "evalue": "unindent does not match any outer indentation level (<string>, line 5)",
     "output_type": "error",
     "traceback": [
      "\u001b[1;36m  File \u001b[1;32m<string>:5\u001b[1;36m\u001b[0m\n\u001b[1;33m    else:\u001b[0m\n\u001b[1;37m         ^\u001b[0m\n\u001b[1;31mIndentationError\u001b[0m\u001b[1;31m:\u001b[0m unindent does not match any outer indentation level\n"
     ]
    }
   ],
   "source": [
    "num=int(input('enter thr number:'))\n",
    "if num >=0:\n",
    "     if num==0:\n",
    "        print('num is zero .')\n",
    "  else:\n",
    "      print('the num is positive .')\n",
    " else:\n",
    "   print('the num is negative .') "
   ]
  },
  {
   "cell_type": "code",
   "execution_count": 27,
   "id": "6c9d2bc8-8e1c-4b6c-9984-e559a5080439",
   "metadata": {},
   "outputs": [
    {
     "name": "stdin",
     "output_type": "stream",
     "text": [
      "Enter a number:  -9\n"
     ]
    },
    {
     "name": "stdout",
     "output_type": "stream",
     "text": [
      "The number is negative.\n"
     ]
    }
   ],
   "source": [
    "num = int(input(\"Enter a number: \"))\n",
    "\n",
    "if num >= 0:\n",
    "    if num == 0:\n",
    "        print(\"The number is zero.\")\n",
    "    else:\n",
    "        print(\"The number is positive.\")\n",
    "else:\n",
    "    print(\"The number is negative.\")\n"
   ]
  },
  {
   "cell_type": "markdown",
   "id": "6b978efc-bd6d-4fe8-9b16-ae86097a2b04",
   "metadata": {},
   "source": [
    "### 3.Question: Write a program to determine if a number is even or odd.\n",
    "\n"
   ]
  },
  {
   "cell_type": "code",
   "execution_count": 29,
   "id": "ded611ec-6f7e-486e-aedf-7dd7446e845f",
   "metadata": {},
   "outputs": [
    {
     "name": "stdin",
     "output_type": "stream",
     "text": [
      "enter the number : 8\n"
     ]
    },
    {
     "name": "stdout",
     "output_type": "stream",
     "text": [
      "the number is even\n"
     ]
    }
   ],
   "source": [
    "num=int(input('enter the number :'))\n",
    "if num %2==0:\n",
    "    print('the number is even')\n",
    "else:\n",
    "    print('the num is odd.')"
   ]
  },
  {
   "cell_type": "markdown",
   "id": "9004948f-4697-4a39-8efc-859e56759708",
   "metadata": {},
   "source": [
    "### 4.Question: Write a program to find the largest of three numbers."
   ]
  },
  {
   "cell_type": "code",
   "execution_count": 31,
   "id": "48d2ae48-bc11-411c-8378-68a11b1dadb5",
   "metadata": {},
   "outputs": [
    {
     "name": "stdin",
     "output_type": "stream",
     "text": [
      "enter the first number: 0\n",
      "enter the secound number: 08\n",
      "enter the secound number: 07\n"
     ]
    },
    {
     "name": "stdout",
     "output_type": "stream",
     "text": [
      "the largest number is : 8\n"
     ]
    }
   ],
   "source": [
    "a=int(input('enter the first number:'))\n",
    "b=int(input('enter the secound number:'))\n",
    "c=int(input('enter the secound number:'))\n",
    "if a>b and a>c:\n",
    "    print('the largest number is:',a)\n",
    "elif b>c:\n",
    "    print('the largest number is :',b)\n",
    "else:\n",
    "    print('the number is :',c)"
   ]
  },
  {
   "cell_type": "markdown",
   "id": "08dd4ea8-fe11-4d83-890d-74254a93d030",
   "metadata": {},
   "source": [
    "### 5.Question: Use a one-liner to check if a number is even or odd."
   ]
  },
  {
   "cell_type": "code",
   "execution_count": 33,
   "id": "8d136628-a16a-48c1-9a72-b7c37e2151ee",
   "metadata": {},
   "outputs": [
    {
     "name": "stdin",
     "output_type": "stream",
     "text": [
      "enter  a number: 8\n"
     ]
    },
    {
     "name": "stdout",
     "output_type": "stream",
     "text": [
      "even\n"
     ]
    }
   ],
   "source": [
    "num=int(input('enter  a number:'))\n",
    "print('even') if num%2==0 else print('odd')\n"
   ]
  },
  {
   "cell_type": "markdown",
   "id": "178703d7-4fef-4775-b2c8-dbf21278c928",
   "metadata": {},
   "source": [
    "### .7. Complex Conditional with Logical Operators"
   ]
  },
  {
   "cell_type": "code",
   "execution_count": 36,
   "id": "1f93335c-d1cd-47ec-8996-9749e827882d",
   "metadata": {},
   "outputs": [
    {
     "ename": "SyntaxError",
     "evalue": "invalid syntax (168383778.py, line 2)",
     "output_type": "error",
     "traceback": [
      "\u001b[1;36m  Cell \u001b[1;32mIn[36], line 2\u001b[1;36m\u001b[0m\n\u001b[1;33m    if 10<=num <=50 num % 2==0:\u001b[0m\n\u001b[1;37m                    ^\u001b[0m\n\u001b[1;31mSyntaxError\u001b[0m\u001b[1;31m:\u001b[0m invalid syntax\n"
     ]
    }
   ],
   "source": [
    "num=int(input('enter the number:'))\n",
    "if 10<=num <=50 num % 2==0:\n",
    "   print('the number is even and within the range ')\n",
    "else:\n",
    "   print('the number does not meet the critera')"
   ]
  },
  {
   "cell_type": "markdown",
   "id": "8a415bf4-ea6d-4c16-8346-d11aba721719",
   "metadata": {},
   "source": [
    "### 8.Question: Write a program to simulate a basic calculator using conditional logic"
   ]
  },
  {
   "cell_type": "code",
   "execution_count": 43,
   "id": "a5f9087f-150c-43e9-acf7-bcce23b1d8c0",
   "metadata": {},
   "outputs": [
    {
     "name": "stdout",
     "output_type": "stream",
     "text": [
      "Select operation:\n",
      "1. Add\n",
      "2. Subtract\n",
      "3. Multiply\n",
      "4. Divide\n"
     ]
    },
    {
     "name": "stdin",
     "output_type": "stream",
     "text": [
      "Enter choice (1/2/3/4):  3\n",
      "Enter first number:  55\n",
      "Enter second number:  3\n"
     ]
    },
    {
     "name": "stdout",
     "output_type": "stream",
     "text": [
      "Result: 165.0\n"
     ]
    }
   ],
   "source": [
    "def add(x,y):\n",
    "    return x+y\n",
    "    \n",
    "def sub(x,y):\n",
    "    return x-y\n",
    "\n",
    "\n",
    "def mul(x,y):\n",
    "    return(x*y)\n",
    "\n",
    "def div(x,y):\n",
    "    return(x/y)\n",
    "    \n",
    "    return x / y if y != 0 else \"Cannot divide by zero\"\n",
    "    \n",
    "operations={\n",
    "'1' :add,\n",
    "'2': sub,\n",
    "'3': mul,\n",
    "'4' : div,\n",
    "\n",
    "}\n",
    "print(\"Select operation:\")\n",
    "print(\"1. Add\")\n",
    "print(\"2. Subtract\")\n",
    "print(\"3. Multiply\")\n",
    "print(\"4. Divide\")\n",
    "\n",
    "choice = input(\"Enter choice (1/2/3/4): \")\n",
    "num1 = float(input(\"Enter first number: \"))\n",
    "num2 = float(input(\"Enter second number: \"))\n",
    "\n",
    "if choice in operations:\n",
    "    print(\"Result:\", operations[choice](num1, num2))\n",
    "else:\n",
    "    print(\"Invalid input\")\n",
    "    "
   ]
  },
  {
   "cell_type": "markdown",
   "id": "65492c30-1bcd-4b8a-a2e2-f2c1cd666c55",
   "metadata": {},
   "source": [
    "### 9.User Login System"
   ]
  },
  {
   "cell_type": "code",
   "execution_count": 48,
   "id": "18813dda-60c8-43cd-8a8b-7fc67a64bbec",
   "metadata": {},
   "outputs": [
    {
     "name": "stdin",
     "output_type": "stream",
     "text": [
      "enter your username: zama1234\n",
      "enter your password: aniqd456\n"
     ]
    },
    {
     "name": "stdout",
     "output_type": "stream",
     "text": [
      "login successful !\n"
     ]
    }
   ],
   "source": [
    "#stored creditionals\n",
    "stored_username='zama1234'\n",
    "stored_password = 'aniq456'\n",
    "#input from the user\n",
    "username=input('enter your username:')\n",
    "password=input('enter your password:')\n",
    "# chake if credential match\n",
    "if username== stored_username and password ==stored_password:\n",
    "    print('login successful !')\n",
    "else:\n",
    "    if username != stored_username:\n",
    "        print('invalid username.')\n",
    "    elif password != stored_password:\n",
    "        print('invalid password.')\n",
    "        "
   ]
  },
  {
   "cell_type": "markdown",
   "id": "563cffbf-a64b-4336-bd68-e23bf216c9a3",
   "metadata": {},
   "source": [
    "### 10.Question: Write a program that simulates the behavior of a traffic light."
   ]
  },
  {
   "cell_type": "code",
   "execution_count": 51,
   "id": "3a143b44-6949-4462-9aad-be680e9f8d3e",
   "metadata": {},
   "outputs": [
    {
     "name": "stdin",
     "output_type": "stream",
     "text": [
      "enter the traffic light color(red,yellow ,green): green\n"
     ]
    },
    {
     "name": "stdout",
     "output_type": "stream",
     "text": [
      "go\n"
     ]
    }
   ],
   "source": [
    "light_color=input('enter the traffic light color(red,yellow ,green):').lower()\n",
    "if light_color == 'red':\n",
    "    print('stop !')\n",
    "elif light_color=='yellow':\n",
    "    print('slow down plz stop.')\n",
    "elif light_color=='green':\n",
    "    print('go')\n",
    "else:\n",
    "    print('invalid input color')"
   ]
  },
  {
   "cell_type": "code",
   "execution_count": null,
   "id": "281d562e-c0b1-49c5-af63-5de25e8ad056",
   "metadata": {},
   "outputs": [],
   "source": []
  }
 ],
 "metadata": {
  "kernelspec": {
   "display_name": "Python 3 (ipykernel)",
   "language": "python",
   "name": "python3"
  },
  "language_info": {
   "codemirror_mode": {
    "name": "ipython",
    "version": 3
   },
   "file_extension": ".py",
   "mimetype": "text/x-python",
   "name": "python",
   "nbconvert_exporter": "python",
   "pygments_lexer": "ipython3",
   "version": "3.12.7"
  }
 },
 "nbformat": 4,
 "nbformat_minor": 5
}
