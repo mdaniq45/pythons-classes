{
 "cells": [
  {
   "cell_type": "markdown",
   "id": "ba17521d-ea9a-41a4-961b-34db60a4020d",
   "metadata": {},
   "source": [
    "Python Conditions and If statements"
   ]
  },
  {
   "cell_type": "markdown",
   "id": "549f269f-234e-4420-add5-9c165b77c4ce",
   "metadata": {},
   "source": [
    "\n",
    "### Conditional Statements in Python\n",
    "Conditional statements in Python are used to perform decision-making operations. These statements execute a block of code only if a specified condition is true."
   ]
  },
  {
   "cell_type": "markdown",
   "id": "879dbfdd-f573-4018-a318-376545df974e",
   "metadata": {},
   "source": [
    "Equals: a == b\n",
    "Not Equals: a != b\n",
    "Less than: a < b\n",
    "Less than or equal to: a <= b\n",
    "Greater than: a > b\n",
    "Greater than or equal to: a >= b\n",
    "These conditions can be used in several ways, most commonly in \"if statements\" and loops.\n",
    "\n",
    "An \"if statement\" is written by using the if keyword."
   ]
  },
  {
   "cell_type": "code",
   "execution_count": 21,
   "id": "45a9c122-48ea-4144-8e06-ba5b68d09345",
   "metadata": {},
   "outputs": [
    {
     "ename": "IndentationError",
     "evalue": "expected an indented block after 'if' statement on line 1 (3466920328.py, line 3)",
     "output_type": "error",
     "traceback": [
      "\u001b[1;36m  Cell \u001b[1;32mIn[21], line 3\u001b[1;36m\u001b[0m\n\u001b[1;33m    else:\u001b[0m\n\u001b[1;37m    ^\u001b[0m\n\u001b[1;31mIndentationError\u001b[0m\u001b[1;31m:\u001b[0m expected an indented block after 'if' statement on line 1\n"
     ]
    }
   ],
   "source": [
    "if condition:\n",
    "    # code block if condition is true\n",
    "else:\n",
    "    # code block if condition is false\n"
   ]
  },
  {
   "cell_type": "code",
   "execution_count": null,
   "id": "4226a16f-b544-44a9-b6f1-11f44474053c",
   "metadata": {},
   "outputs": [],
   "source": []
  },
  {
   "cell_type": "code",
   "execution_count": null,
   "id": "c74bd155-2b64-45dd-94fb-825d6309cf07",
   "metadata": {},
   "outputs": [],
   "source": [
    "if condition1:\n",
    "    # code block for condition1\n",
    "elif condition2:\n",
    "    # code block for condition2\n",
    "else:\n",
    "    # code block if no conditions are true\n"
   ]
  },
  {
   "cell_type": "code",
   "execution_count": null,
   "id": "d8d4b849-5037-49b2-9f0a-fc32ebe4dd71",
   "metadata": {},
   "outputs": [],
   "source": [
    "if condition1:\n",
    "    if condition2:\n",
    "        # code block for both conditions\n"
   ]
  },
  {
   "cell_type": "code",
   "execution_count": null,
   "id": "5a890a2c-565e-48a2-b808-fde9c790c108",
   "metadata": {},
   "outputs": [],
   "source": []
  },
  {
   "cell_type": "code",
   "execution_count": null,
   "id": "c83ce286-794c-4d86-a510-23d3e34bcfe3",
   "metadata": {},
   "outputs": [],
   "source": [
    "a=22\n",
    "b=44\n",
    "if a<b:\n",
    "    print(\"b is grater than a\")"
   ]
  },
  {
   "cell_type": "code",
   "execution_count": null,
   "id": "592ce0e7-5e25-4f49-ad9d-eb36ed3473e9",
   "metadata": {},
   "outputs": [],
   "source": [
    "a=22\n",
    "b=44\n",
    "if a>b:\n",
    "    print(\"a is grater than b\")\n",
    "else:\n",
    "    print(\"yes \")"
   ]
  },
  {
   "cell_type": "code",
   "execution_count": null,
   "id": "ac4ee57c-cdc0-4d53-a9f7-22bef1cc346e",
   "metadata": {},
   "outputs": [],
   "source": [
    "if b>a:\n",
    "    print(\"b is grater than a\")\n",
    "elif a==b:\n",
    "    print(\"a and b are equal\")"
   ]
  },
  {
   "cell_type": "code",
   "execution_count": null,
   "id": "d1f7254f-98df-43c9-8227-caf24b7dc436",
   "metadata": {},
   "outputs": [],
   "source": [
    "if b<a:\n",
    "    print(\"b is grater than a\")\n",
    "elif a==b:\n",
    "    print(\"a and b are equal\")"
   ]
  },
  {
   "cell_type": "code",
   "execution_count": null,
   "id": "18ef05b2-6ca6-4d3a-87f9-940b70c3d9ab",
   "metadata": {},
   "outputs": [],
   "source": [
    "a=300\n",
    "b=400\n",
    "if b<a:\n",
    "    print(\"b is grater than a\")\n",
    "elif  a==b:\n",
    "    print(\"a and b are equal\" )\n",
    "\n",
    "else:\n",
    "    print(\"a is grater than b\")"
   ]
  },
  {
   "cell_type": "code",
   "execution_count": null,
   "id": "507854f6-8b99-4583-864a-43ed342f813c",
   "metadata": {},
   "outputs": [],
   "source": [
    "a=44\n",
    "b=44\n",
    "c=33\n",
    "if a>b and c>a:\n",
    "    print(\"both conditions are true\")\n",
    "elif a==b:\n",
    "    print(\"is or not\")\n",
    "else:\n",
    "    print(\"false\")"
   ]
  },
  {
   "cell_type": "code",
   "execution_count": null,
   "id": "6562e06d-ecdb-4051-a2ef-6434425f18b9",
   "metadata": {},
   "outputs": [],
   "source": [
    "a=4343\n",
    "b=34217\n",
    "c=53088\n",
    "if a>b or a>c:\n",
    "    print(\"at lest one cundition is true\")\n",
    "else:\n",
    "    print(\"false\")"
   ]
  },
  {
   "cell_type": "code",
   "execution_count": null,
   "id": "6bd50986-fa8a-4e38-9070-a4e2e3c8cf14",
   "metadata": {},
   "outputs": [],
   "source": [
    "a=4343\n",
    "b=3421\n",
    "c=53088\n",
    "if a>b or a>c:\n",
    "    print(\"at lest one cundition is true\")\n",
    "else:\n",
    "    print(\"false\")"
   ]
  },
  {
   "cell_type": "code",
   "execution_count": null,
   "id": "b945d3a6-1eb3-435d-ac47-d8851a65c48e",
   "metadata": {},
   "outputs": [],
   "source": [
    "a=3337\n",
    "b=5007\n",
    "if not a>b:\n",
    "    print(\"a is not grater than b\")"
   ]
  },
  {
   "cell_type": "markdown",
   "id": "88a0fa84-627f-4f94-8ff6-7308dc1cc71c",
   "metadata": {},
   "source": [
    "## 1. Check if a number is positive\n",
    "\n"
   ]
  },
  {
   "cell_type": "code",
   "execution_count": 1,
   "id": "38de8f43-126b-4d89-a334-9e13dacc2579",
   "metadata": {},
   "outputs": [
    {
     "name": "stdout",
     "output_type": "stream",
     "text": [
      "positive\n"
     ]
    }
   ],
   "source": [
    "num=100\n",
    "if num>0:\n",
    "    print(\"positive\")"
   ]
  },
  {
   "cell_type": "code",
   "execution_count": 5,
   "id": "cb0c470a-0ce1-48ab-94ae-0b0e9f6f6eca",
   "metadata": {},
   "outputs": [
    {
     "name": "stdin",
     "output_type": "stream",
     "text": [
      "enter the number 1\n"
     ]
    },
    {
     "name": "stdout",
     "output_type": "stream",
     "text": [
      "odd\n"
     ]
    }
   ],
   "source": [
    "num=int(input(\"enter the number\"))\n",
    "if num%2==0:\n",
    "    print(\"enven\")\n",
    "else:\n",
    "    print(\"odd\")"
   ]
  },
  {
   "cell_type": "markdown",
   "id": "17f99341-4e72-4918-9d0b-d4cb8d31aa4a",
   "metadata": {},
   "source": [
    "## 3. Find the largest of two numbers\n"
   ]
  },
  {
   "cell_type": "code",
   "execution_count": 6,
   "id": "9e1314f6-8165-4bf8-8c7e-69d6916558e3",
   "metadata": {},
   "outputs": [
    {
     "name": "stdout",
     "output_type": "stream",
     "text": [
      "largest 5\n"
     ]
    }
   ],
   "source": [
    "a,b=3,5\n",
    "if a>b:\n",
    "    print(\"largest:\",a)\n",
    "else:\n",
    "    print(\"largest\",b)"
   ]
  },
  {
   "cell_type": "code",
   "execution_count": 8,
   "id": "07be0371-7db1-4649-b281-69dec270f827",
   "metadata": {},
   "outputs": [
    {
     "name": "stdin",
     "output_type": "stream",
     "text": [
      "inter the number 99\n",
      "inter te number 0\n"
     ]
    },
    {
     "name": "stdout",
     "output_type": "stream",
     "text": [
      "largest: 99\n"
     ]
    }
   ],
   "source": [
    "a=int(input(\"inter the number\"))\n",
    "b=int(input(\"inter te number\"))\n",
    "if a>b:\n",
    "    print(\"largest:\",a)\n",
    "else:\n",
    "    print(\"largest\",b)"
   ]
  },
  {
   "cell_type": "markdown",
   "id": "ebdd1715-9e5a-4bd1-addf-7fd56ffaa0b2",
   "metadata": {},
   "source": [
    "### 4. Check if a year is a leap year\n",
    "\n"
   ]
  },
  {
   "cell_type": "code",
   "execution_count": 11,
   "id": "ee1a2e37-c402-4518-a4f3-c4222739551e",
   "metadata": {},
   "outputs": [
    {
     "name": "stdout",
     "output_type": "stream",
     "text": [
      "Leap Year\n"
     ]
    }
   ],
   "source": [
    "year = 2024\n",
    "if year % 4 == 0 and (year % 100 != 0 or year % 400 == 0):\n",
    "    print(\"Leap Year\")\n",
    "else:\n",
    "    print(\"Not a Leap Year\")\n"
   ]
  },
  {
   "cell_type": "code",
   "execution_count": 10,
   "id": "d74f3212-6fda-45fb-b24f-b64a33d49481",
   "metadata": {},
   "outputs": [
    {
     "name": "stdin",
     "output_type": "stream",
     "text": [
      "inter the year 2025\n"
     ]
    },
    {
     "name": "stdout",
     "output_type": "stream",
     "text": [
      "not leep year\n"
     ]
    }
   ],
   "source": [
    "year=int(input(\"inter the year\"))\n",
    "if year%4==0 and (year%100 !=0 or year%400==0):\n",
    "    print(\"leap year\")\n",
    "\n",
    "else:\n",
    "    print(\"not leep year\")"
   ]
  },
  {
   "cell_type": "markdown",
   "id": "91581cbd-86e8-468c-be8d-3613c7f43ceb",
   "metadata": {},
   "source": [
    "### 5. Check if a number is divisible by 5 and 11\n",
    "\n"
   ]
  },
  {
   "cell_type": "code",
   "execution_count": 15,
   "id": "07122792-4fc6-4b61-bead-ab766d435a59",
   "metadata": {},
   "outputs": [
    {
     "name": "stdin",
     "output_type": "stream",
     "text": [
      "intput the number 66\n"
     ]
    },
    {
     "name": "stdout",
     "output_type": "stream",
     "text": [
      "not divisible\n"
     ]
    }
   ],
   "source": [
    "num=int(input(\"intput the number\"))\n",
    "if num % 5==0 and  num %11==0:\n",
    "    print(\"divisible  by 5 and 11\" )\n",
    "else:\n",
    "    print(\"not divisible\")"
   ]
  },
  {
   "cell_type": "code",
   "execution_count": 20,
   "id": "68b114ed-e6c4-4167-b862-850466af642b",
   "metadata": {},
   "outputs": [
    {
     "name": "stdin",
     "output_type": "stream",
     "text": [
      "intput the number 76\n"
     ]
    },
    {
     "name": "stdout",
     "output_type": "stream",
     "text": [
      "not divisible\n"
     ]
    }
   ],
   "source": [
    "num=int(input(\"intput the number\"))\n",
    "if num % 5==0 :\n",
    "    print(\"divisible  by 5\" )\n",
    "elif num%11==0:\n",
    "        print(\"divisible by 11\")\n",
    "else:\n",
    "    print(\"not divisible\")"
   ]
  },
  {
   "cell_type": "markdown",
   "id": "b76a4a1d-afbe-40b3-8a31-cf79f70f2200",
   "metadata": {},
   "source": [
    "### Check if a character is a vowel"
   ]
  },
  {
   "cell_type": "code",
   "execution_count": 24,
   "id": "8088027e-36a1-44ad-a7fd-8bbb003990da",
   "metadata": {},
   "outputs": [
    {
     "name": "stdout",
     "output_type": "stream",
     "text": [
      "vowel\n"
     ]
    }
   ],
   "source": [
    "char=\"a\"\n",
    "if char.lower() in \"aeiou\":\n",
    "    print(\"vowel\")\n",
    "\n",
    "else:\n",
    "    print(\"constent\")"
   ]
  },
  {
   "cell_type": "code",
   "execution_count": 28,
   "id": "fd4964ce-bc96-4e45-ad00-cbd717ba3b6e",
   "metadata": {},
   "outputs": [
    {
     "name": "stdin",
     "output_type": "stream",
     "text": [
      "enter the alphabet k\n"
     ]
    },
    {
     "name": "stdout",
     "output_type": "stream",
     "text": [
      "constent\n"
     ]
    }
   ],
   "source": [
    "char=str(input(\"enter the alphabet\"))\n",
    "if char.lower() in \"aeiou\":\n",
    "    print(\"vowel\")\n",
    "\n",
    "else:\n",
    "    print(\"constent\")"
   ]
  },
  {
   "cell_type": "markdown",
   "id": "c6555b17-9a5c-48da-8b7b-301c56356dca",
   "metadata": {},
   "source": [
    "###  Find the largest of three numbers\n",
    "\n"
   ]
  },
  {
   "cell_type": "code",
   "execution_count": 29,
   "id": "002b8c87-3109-4310-845f-38686c05dd70",
   "metadata": {},
   "outputs": [
    {
     "name": "stdout",
     "output_type": "stream",
     "text": [
      "Largest: 20\n"
     ]
    }
   ],
   "source": [
    "a, b, c = 10, 20, 15\n",
    "if a > b and a > c:\n",
    "    print(\"Largest:\", a)\n",
    "elif b > c:\n",
    "    print(\"Largest:\", b)\n",
    "else:\n",
    "    print(\"Largest:\", c)\n",
    "\n",
    "\n",
    "    \n"
   ]
  },
  {
   "cell_type": "markdown",
   "id": "b25cd251-150f-40b9-9443-4d4c68a3f3d1",
   "metadata": {},
   "source": [
    "## 9. Grade a student based on marks\n"
   ]
  },
  {
   "cell_type": "code",
   "execution_count": 31,
   "id": "a7abc38b-a5a1-4183-8eb8-63f4b83801cc",
   "metadata": {},
   "outputs": [
    {
     "name": "stdout",
     "output_type": "stream",
     "text": [
      "Grade :A\n"
     ]
    }
   ],
   "source": [
    "marks=480\n",
    "\n",
    "if marks>=90:\n",
    "    print(\"Grade :A\")\n",
    "elif marks >=80:\n",
    "    print(\"Grde: B\")\n",
    "elif marks>70:\n",
    "    print(\"Grade :C\")\n",
    "elif marks>60:\n",
    "    print(\"Grade :D\")\n",
    "\n",
    "else:\n",
    "    print(\"Fail\")"
   ]
  },
  {
   "cell_type": "code",
   "execution_count": 34,
   "id": "130836a6-b83d-4607-b68c-c62ea53484e7",
   "metadata": {},
   "outputs": [
    {
     "name": "stdin",
     "output_type": "stream",
     "text": [
      "enter the marks 99.9\n"
     ]
    },
    {
     "name": "stdout",
     "output_type": "stream",
     "text": [
      "Grade :A\n"
     ]
    }
   ],
   "source": [
    "marks=float(input(\"enter the marks\"))\n",
    "\n",
    "if marks>=90:\n",
    "    print(\"Grade :A\")\n",
    "elif marks >=80:\n",
    "    print(\"Grde: B\")\n",
    "elif marks>70:\n",
    "    print(\"Grade :C\")\n",
    "elif marks>60:\n",
    "    print(\"Grade :D\")\n",
    "\n",
    "else:\n",
    "    print(\"Fail\")"
   ]
  },
  {
   "cell_type": "markdown",
   "id": "cca7922d-9f70-4ba1-a838-1cb72a9d2878",
   "metadata": {},
   "source": [
    "### 15. Check if a number is negative\n"
   ]
  },
  {
   "cell_type": "code",
   "execution_count": 35,
   "id": "86f00f92-2e39-4e0f-9ea5-d877a45ee834",
   "metadata": {},
   "outputs": [
    {
     "name": "stdout",
     "output_type": "stream",
     "text": [
      "negative\n"
     ]
    }
   ],
   "source": [
    "num=-44\n",
    "if num<0:\n",
    "    print(\"negative\")\n",
    "else:\n",
    "    print(\"positive\")"
   ]
  },
  {
   "cell_type": "code",
   "execution_count": 38,
   "id": "b0e5de4a-d8e1-4a60-a5c7-35a70cebe954",
   "metadata": {},
   "outputs": [
    {
     "name": "stdin",
     "output_type": "stream",
     "text": [
      "enter the number to chake positive number or negative: -99\n"
     ]
    },
    {
     "name": "stdout",
     "output_type": "stream",
     "text": [
      "negative\n"
     ]
    }
   ],
   "source": [
    "num=float(input(\"enter the number to chake positive  or negative num:\"))\n",
    "if num<0:\n",
    "    print(\"negative\")\n",
    "else:\n",
    "    print(\"positive\")"
   ]
  },
  {
   "cell_type": "markdown",
   "id": "acc6433d-287e-4558-8178-af70c5247805",
   "metadata": {},
   "source": [
    "## 16. Calculate electricity bill based on usage\n"
   ]
  },
  {
   "cell_type": "code",
   "execution_count": 49,
   "id": "f0aa198d-9252-488a-8ddc-60237c0e23e2",
   "metadata": {},
   "outputs": [
    {
     "name": "stdin",
     "output_type": "stream",
     "text": [
      "enter the units: 120\n"
     ]
    },
    {
     "name": "stdout",
     "output_type": "stream",
     "text": [
      "plz lase use electric\n"
     ]
    }
   ],
   "source": [
    "units=float(input(\"enter the units:\"))\n",
    "if units<100:\n",
    "    bill=units*5\n",
    "    print(\"no problame\")\n",
    "elif units<=200:\n",
    "    bill=100*5+(units-100)*7\n",
    "    print(\"plz lase use electric\")\n",
    "else:\n",
    "    bill=100*5+100*7+(units-200)*10\n",
    "    print(\"bill:\", bill)\n",
    "    pri"
   ]
  },
  {
   "cell_type": "code",
   "execution_count": 43,
   "id": "a2a29b28-883f-4ebb-b17d-47e9629921df",
   "metadata": {},
   "outputs": [
    {
     "name": "stdout",
     "output_type": "stream",
     "text": [
      "Bill: 1700\n"
     ]
    }
   ],
   "source": [
    "units = 250\n",
    "if units <= 100:\n",
    "    bill = units * 5\n",
    "elif units <= 200:\n",
    "    bill = 100 * 5 + (units - 100) * 7\n",
    "else:\n",
    "    bill = 100 * 5 + 100 * 7 + (units - 200) * 10\n",
    "print(\"Bill:\", bill)\n"
   ]
  },
  {
   "cell_type": "code",
   "execution_count": null,
   "id": "611d27a1-5a0d-4b4a-b350-87b09d63aede",
   "metadata": {},
   "outputs": [],
   "source": []
  }
 ],
 "metadata": {
  "kernelspec": {
   "display_name": "Python 3 (ipykernel)",
   "language": "python",
   "name": "python3"
  },
  "language_info": {
   "codemirror_mode": {
    "name": "ipython",
    "version": 3
   },
   "file_extension": ".py",
   "mimetype": "text/x-python",
   "name": "python",
   "nbconvert_exporter": "python",
   "pygments_lexer": "ipython3",
   "version": "3.12.2"
  }
 },
 "nbformat": 4,
 "nbformat_minor": 5
}
