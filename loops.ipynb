{
 "cells": [
  {
   "cell_type": "markdown",
   "id": "acbe480f-17b0-4edf-8d03-8c16d8bb0ea9",
   "metadata": {},
   "source": [
    "### loop"
   ]
  },
  {
   "cell_type": "code",
   "execution_count": 4,
   "id": "313dc201-5791-47e8-a547-25fc4eca29bc",
   "metadata": {},
   "outputs": [
    {
     "name": "stdout",
     "output_type": "stream",
     "text": [
      "ds\n",
      "ds\n",
      "ds\n",
      "ds\n"
     ]
    }
   ],
   "source": [
    "print('ds')\n",
    "print('ds')\n",
    "print('ds')\n",
    "print('ds')"
   ]
  },
  {
   "cell_type": "markdown",
   "id": "b98d35a0-6d29-4d95-bcf9-9df011a26c24",
   "metadata": {},
   "source": [
    "#### loops"
   ]
  },
  {
   "cell_type": "markdown",
   "id": "35e9e665-cf3c-4d21-af30-fa7fcf416ebd",
   "metadata": {},
   "source": [
    "### while loop"
   ]
  },
  {
   "cell_type": "code",
   "execution_count": 16,
   "id": "722ef815-d2df-4a6c-97c4-37b221afa444",
   "metadata": {},
   "outputs": [
    {
     "name": "stdout",
     "output_type": "stream",
     "text": [
      "ds\n",
      "ds\n",
      "ds\n",
      "ds\n",
      "ds\n"
     ]
    }
   ],
   "source": [
    "x=2\n",
    "while x<7:\n",
    "    print('ds')\n",
    "    x=x+1"
   ]
  },
  {
   "cell_type": "code",
   "execution_count": null,
   "id": "488b5882-4070-4b9e-91ec-2d15f2c8bc7f",
   "metadata": {},
   "outputs": [],
   "source": []
  }
 ],
 "metadata": {
  "kernelspec": {
   "display_name": "Python 3 (ipykernel)",
   "language": "python",
   "name": "python3"
  },
  "language_info": {
   "codemirror_mode": {
    "name": "ipython",
    "version": 3
   },
   "file_extension": ".py",
   "mimetype": "text/x-python",
   "name": "python",
   "nbconvert_exporter": "python",
   "pygments_lexer": "ipython3",
   "version": "3.12.4"
  }
 },
 "nbformat": 4,
 "nbformat_minor": 5
}
