{
 "cells": [
  {
   "cell_type": "markdown",
   "id": "d075fb7b-9cdf-457a-91b3-9e0bfbb53cca",
   "metadata": {},
   "source": [
    "### Decision making statement"
   ]
  },
  {
   "cell_type": "markdown",
   "id": "03e535a3-3f73-4cc9-a0e8-179ea1596fdd",
   "metadata": {},
   "source": [
    "#### if statement"
   ]
  },
  {
   "cell_type": "code",
   "execution_count": 105,
   "id": "086bc4fc-a272-49c2-bf24-17e701c42748",
   "metadata": {},
   "outputs": [
    {
     "name": "stdout",
     "output_type": "stream",
     "text": [
      "data science yes \n",
      "python for data science\n",
      "by now\n"
     ]
    }
   ],
   "source": [
    "x=3\n",
    "if x>0:\n",
    "    print('data science yes ')\n",
    "    print('python for data science')\n",
    "\n",
    "print('by now')"
   ]
  },
  {
   "cell_type": "code",
   "execution_count": 106,
   "id": "0ba38089-65a3-4bbd-90a0-abed633c7418",
   "metadata": {},
   "outputs": [
    {
     "name": "stdout",
     "output_type": "stream",
     "text": [
      "statement is true\n",
      "python statement \n",
      "this statement is true\n"
     ]
    }
   ],
   "source": [
    "x=10\n",
    "if x>1:\n",
    "    print('statement is true')\n",
    "    print('python statement ')\n",
    "\n",
    "print('this statement is true')"
   ]
  },
  {
   "cell_type": "code",
   "execution_count": 107,
   "id": "a5122c20-2327-4c44-87dd-a719405ff1f8",
   "metadata": {},
   "outputs": [
    {
     "name": "stdout",
     "output_type": "stream",
     "text": [
      "this is false statement\n"
     ]
    }
   ],
   "source": [
    "x=33\n",
    "if x<3:\n",
    "    print('this is true ')\n",
    "\n",
    "print('this is false statement')"
   ]
  },
  {
   "cell_type": "markdown",
   "id": "50a02d57-7c4c-4180-bd14-8147a0019eda",
   "metadata": {},
   "source": [
    "### if-else"
   ]
  },
  {
   "cell_type": "code",
   "execution_count": 109,
   "id": "8fc94050-e21a-4229-bf24-0516f9cb2402",
   "metadata": {},
   "outputs": [
    {
     "name": "stdout",
     "output_type": "stream",
     "text": [
      "this statement is false \n",
      "program is exicuted\n"
     ]
    }
   ],
   "source": [
    "a,b,c,d=2,5,7,9\n",
    "if (a==b and c==d):\n",
    "    print('this statement is true ')\n",
    "else:\n",
    "    print('this statement is false ')\n",
    "\n",
    "print('program is exicuted')"
   ]
  },
  {
   "cell_type": "code",
   "execution_count": 110,
   "id": "6259cb57-6e3d-4ad9-9b4f-3d004e587c70",
   "metadata": {},
   "outputs": [
    {
     "name": "stdout",
     "output_type": "stream",
     "text": [
      "program is not terminited\n",
      "cundition will setisfid\n"
     ]
    }
   ],
   "source": [
    "x=99\n",
    "if x==100:\n",
    "    print('program is tremineted ')\n",
    "else:\n",
    "    print('program is not terminited')\n",
    "\n",
    "print('cundition will setisfid')"
   ]
  },
  {
   "cell_type": "markdown",
   "id": "fecfc63e-b7a9-4349-9d5c-474472ea2b9c",
   "metadata": {},
   "source": [
    "#### if -elif-else"
   ]
  },
  {
   "cell_type": "code",
   "execution_count": 112,
   "id": "90a9575a-22a3-40fc-b245-18f2f61fd9f4",
   "metadata": {},
   "outputs": [
    {
     "name": "stdout",
     "output_type": "stream",
     "text": [
      "negative negative\n"
     ]
    }
   ],
   "source": [
    "x=11\n",
    "if x<0:\n",
    "    print('positive')\n",
    "elif x==0:\n",
    "    print('negitive')\n",
    "else:\n",
    "    print('negative negative')\n",
    "    "
   ]
  },
  {
   "cell_type": "code",
   "execution_count": 113,
   "id": "ff25a6d3-fead-4540-81e2-54eea06a4f59",
   "metadata": {},
   "outputs": [
    {
     "name": "stdin",
     "output_type": "stream",
     "text": [
      "enter the marks 6\n"
     ]
    },
    {
     "name": "stdout",
     "output_type": "stream",
     "text": [
      "grade F\n"
     ]
    }
   ],
   "source": [
    "y=int(input('enter the marks'))\n",
    "if y>90:\n",
    "    print('grade A')\n",
    "elif y>70:\n",
    "    print('grade B')\n",
    "else:\n",
    "    print('grade F')\n",
    "    "
   ]
  },
  {
   "cell_type": "code",
   "execution_count": 116,
   "id": "2a9a0083-ac10-47cc-bf0c-12c86bb2e77a",
   "metadata": {},
   "outputs": [
    {
     "name": "stdin",
     "output_type": "stream",
     "text": [
      "enter the first number 7\n",
      "enter the secound number 7\n"
     ]
    },
    {
     "name": "stdout",
     "output_type": "stream",
     "text": [
      "both are equal\n"
     ]
    }
   ],
   "source": [
    "v=int(input('enter the first number'))\n",
    "v1=int(input('enter the secound number'))\n",
    "if v>v1:\n",
    "    print(v,'is largest number')\n",
    "elif v==v1:\n",
    "    print('both are equal')\n",
    "\n",
    "else:\n",
    "    print(v2, 'is largest number')"
   ]
  },
  {
   "cell_type": "code",
   "execution_count": 145,
   "id": "4919ed46-00b4-43ba-83ce-9075c9879160",
   "metadata": {},
   "outputs": [
    {
     "ename": "IndentationError",
     "evalue": "unindent does not match any outer indentation level (<string>, line 16)",
     "output_type": "error",
     "traceback": [
      "\u001b[1;36m  File \u001b[1;32m<string>:16\u001b[1;36m\u001b[0m\n\u001b[1;33m    elif a==2:\u001b[0m\n\u001b[1;37m              ^\u001b[0m\n\u001b[1;31mIndentationError\u001b[0m\u001b[1;31m:\u001b[0m unindent does not match any outer indentation level\n"
     ]
    }
   ],
   "source": [
    "pin=int(input('enter the atm pin number:'))\n",
    "balence=100000\n",
    "if pin==12345:\n",
    "    print('enter 1  for withdrol')\n",
    "    print('enter 2   for  chake balence')\n",
    "    a=int(input('plise enter 1 or 2'))\n",
    "    if a==1:\n",
    "        withdrol= int(input('enter the amount to withdraw'))\n",
    "       \n",
    "   \n",
    "         if withdrol<balence:\n",
    "        \n",
    "         else:\n",
    "              print('insufficent balence')\n",
    "        \n",
    "      elif a==2:\n",
    "             print('your persent balence is' ,balence)\n",
    "      else:\n",
    "           print('inviled entry')\n",
    "\n",
    "else:\n",
    "    print('invalid pin')\n",
    "    "
   ]
  },
  {
   "cell_type": "code",
   "execution_count": null,
   "id": "99bf6b3d-04a9-4db0-8f8c-2eaf71faf104",
   "metadata": {},
   "outputs": [],
   "source": []
  },
  {
   "cell_type": "code",
   "execution_count": null,
   "id": "4e607598-8766-4df8-bbdb-c4ef9afa9833",
   "metadata": {},
   "outputs": [],
   "source": []
  }
 ],
 "metadata": {
  "kernelspec": {
   "display_name": "Python 3 (ipykernel)",
   "language": "python",
   "name": "python3"
  },
  "language_info": {
   "codemirror_mode": {
    "name": "ipython",
    "version": 3
   },
   "file_extension": ".py",
   "mimetype": "text/x-python",
   "name": "python",
   "nbconvert_exporter": "python",
   "pygments_lexer": "ipython3",
   "version": "3.12.4"
  }
 },
 "nbformat": 4,
 "nbformat_minor": 5
}
