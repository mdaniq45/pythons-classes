{
 "cells": [
  {
   "cell_type": "markdown",
   "id": "a3129fea-531a-43d9-9fc5-8bf4e929f3ad",
   "metadata": {},
   "source": [
    "#### to be printr in single value"
   ]
  },
  {
   "cell_type": "code",
   "execution_count": 2,
   "id": "b6aeb495-6c16-42ca-bd12-e0c56d43a648",
   "metadata": {},
   "outputs": [
    {
     "name": "stdout",
     "output_type": "stream",
     "text": [
      "1213\n"
     ]
    }
   ],
   "source": [
    "print(1213)"
   ]
  },
  {
   "cell_type": "code",
   "execution_count": 4,
   "id": "6f4e669d-3fb7-4da3-ba8b-e29b478daad3",
   "metadata": {},
   "outputs": [
    {
     "name": "stdout",
     "output_type": "stream",
     "text": [
      "mohammad\n"
     ]
    }
   ],
   "source": [
    "print('mohammad')"
   ]
  },
  {
   "cell_type": "markdown",
   "id": "32b91d55-d3d7-4018-bddd-ca80d0982435",
   "metadata": {},
   "source": [
    "#### to be print in multiple values"
   ]
  },
  {
   "cell_type": "markdown",
   "id": "909bf394-92f7-4396-8c61-fa657cdb4630",
   "metadata": {},
   "source": [
    "#### syntax-->  print(value1,v2,v3,value n)"
   ]
  },
  {
   "cell_type": "code",
   "execution_count": 11,
   "id": "2243857f-4aff-4d19-a924-02c68ea172ad",
   "metadata": {},
   "outputs": [
    {
     "name": "stdout",
     "output_type": "stream",
     "text": [
      "mohammad 786\n"
     ]
    }
   ],
   "source": [
    "print(\"mohammad\",786)"
   ]
  },
  {
   "cell_type": "code",
   "execution_count": 13,
   "id": "5d534dc9-8577-4d71-9008-2be6a00b2f09",
   "metadata": {},
   "outputs": [
    {
     "name": "stdout",
     "output_type": "stream",
     "text": [
      "aniq 23 zama\n"
     ]
    }
   ],
   "source": [
    "print('aniq',23,\"zama\")"
   ]
  },
  {
   "cell_type": "markdown",
   "id": "f444cf0f-5010-4717-b9b8-82f6f0310406",
   "metadata": {},
   "source": [
    "### print cumbination of variable"
   ]
  },
  {
   "cell_type": "code",
   "execution_count": 18,
   "id": "0d77269a-6b97-4a01-97ef-c085006e824e",
   "metadata": {},
   "outputs": [
    {
     "name": "stdout",
     "output_type": "stream",
     "text": [
      "the number is: 4321\n"
     ]
    }
   ],
   "source": [
    "a=4321\n",
    "print('the number is:',a)"
   ]
  },
  {
   "cell_type": "code",
   "execution_count": 30,
   "id": "3e48ac1d-3502-45bf-b68b-e7fad1347b5a",
   "metadata": {},
   "outputs": [
    {
     "name": "stdout",
     "output_type": "stream",
     "text": [
      "my number is: 124   and  my name is : zama\n"
     ]
    }
   ],
   "source": [
    "a=124\n",
    "b='zama'\n",
    "print('my number is:',a, ' ','and ','my name is :',b)"
   ]
  },
  {
   "cell_type": "markdown",
   "id": "6adc1e7d-bee2-4cae-941a-866eb5ed6e83",
   "metadata": {},
   "source": [
    "### format"
   ]
  },
  {
   "cell_type": "code",
   "execution_count": 39,
   "id": "512cfd34-1b4a-4221-b34d-b2aab4a32a45",
   "metadata": {},
   "outputs": [
    {
     "name": "stdout",
     "output_type": "stream",
     "text": [
      "my name is:aniq ,,my number is:\n"
     ]
    }
   ],
   "source": [
    "num=1432\n",
    "name='aniq'\n",
    "print('my name is:aniq ,'',my number is:')"
   ]
  },
  {
   "cell_type": "code",
   "execution_count": null,
   "id": "ec8c8ca9-bb24-44b2-9b22-1c5f5ca51b53",
   "metadata": {},
   "outputs": [],
   "source": []
  }
 ],
 "metadata": {
  "kernelspec": {
   "display_name": "Python 3 (ipykernel)",
   "language": "python",
   "name": "python3"
  },
  "language_info": {
   "codemirror_mode": {
    "name": "ipython",
    "version": 3
   },
   "file_extension": ".py",
   "mimetype": "text/x-python",
   "name": "python",
   "nbconvert_exporter": "python",
   "pygments_lexer": "ipython3",
   "version": "3.12.4"
  }
 },
 "nbformat": 4,
 "nbformat_minor": 5
}
