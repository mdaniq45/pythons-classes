{
 "cells": [
  {
   "cell_type": "markdown",
   "id": "84216520-2912-4779-b365-f9eaed8bd167",
   "metadata": {},
   "source": [
    "#### python operators"
   ]
  },
  {
   "cell_type": "markdown",
   "id": "9814ae66-ef6d-4779-ad20-d9a5fac47ee7",
   "metadata": {},
   "source": [
    "m#### they are some specific charector or reverse words to perform various operations"
   ]
  },
  {
   "cell_type": "markdown",
   "id": "dcd3ed80-91f3-4b78-953f-8c1a62abdfaf",
   "metadata": {},
   "source": [
    "#### arithematic operators"
   ]
  },
  {
   "cell_type": "code",
   "execution_count": null,
   "id": "bfcce201-ba27-4b56-9e3d-d3abd27f712b",
   "metadata": {},
   "outputs": [],
   "source": [
    "#### +,-,%,/,*//"
   ]
  },
  {
   "cell_type": "code",
   "execution_count": 6,
   "id": "92d2cdf4-8919-497b-9e3d-950f15edcd84",
   "metadata": {},
   "outputs": [
    {
     "data": {
      "text/plain": [
       "55"
      ]
     },
     "execution_count": 6,
     "metadata": {},
     "output_type": "execute_result"
    }
   ],
   "source": [
    "11+44"
   ]
  },
  {
   "cell_type": "code",
   "execution_count": 8,
   "id": "63fa046b-ad79-4299-81d7-e3d2485d5868",
   "metadata": {},
   "outputs": [
    {
     "data": {
      "text/plain": [
       "0"
      ]
     },
     "execution_count": 8,
     "metadata": {},
     "output_type": "execute_result"
    }
   ],
   "source": [
    "44%4"
   ]
  },
  {
   "cell_type": "code",
   "execution_count": 10,
   "id": "1842fad6-f88a-4d08-bbdc-4badb844308d",
   "metadata": {},
   "outputs": [
    {
     "data": {
      "text/plain": [
       "3"
      ]
     },
     "execution_count": 10,
     "metadata": {},
     "output_type": "execute_result"
    }
   ],
   "source": [
    "55%4"
   ]
  },
  {
   "cell_type": "code",
   "execution_count": 12,
   "id": "61f04b48-d118-41b6-9e87-eb2af904ff19",
   "metadata": {},
   "outputs": [
    {
     "data": {
      "text/plain": [
       "329"
      ]
     },
     "execution_count": 12,
     "metadata": {},
     "output_type": "execute_result"
    }
   ],
   "source": [
    "333-4"
   ]
  },
  {
   "cell_type": "code",
   "execution_count": 14,
   "id": "93692b1f-ea6a-4bbe-a65e-d8952ed1d325",
   "metadata": {},
   "outputs": [
    {
     "data": {
      "text/plain": [
       "185"
      ]
     },
     "execution_count": 14,
     "metadata": {},
     "output_type": "execute_result"
    }
   ],
   "source": [
    "557//3"
   ]
  },
  {
   "cell_type": "code",
   "execution_count": 16,
   "id": "f1558402-552e-48e5-8c2a-7b968e3fe600",
   "metadata": {},
   "outputs": [
    {
     "data": {
      "text/plain": [
       "2670"
      ]
     },
     "execution_count": 16,
     "metadata": {},
     "output_type": "execute_result"
    }
   ],
   "source": [
    "534*5\n"
   ]
  },
  {
   "cell_type": "code",
   "execution_count": 18,
   "id": "4ca23e86-c3d0-4c21-ba4b-de06928acd89",
   "metadata": {},
   "outputs": [
    {
     "data": {
      "text/plain": [
       "88873149456"
      ]
     },
     "execution_count": 18,
     "metadata": {},
     "output_type": "execute_result"
    }
   ],
   "source": [
    "546**4"
   ]
  },
  {
   "cell_type": "code",
   "execution_count": 20,
   "id": "3985dbc6-9ca5-4d8e-bb43-13d0904e20fb",
   "metadata": {},
   "outputs": [
    {
     "data": {
      "text/plain": [
       "9"
      ]
     },
     "execution_count": 20,
     "metadata": {},
     "output_type": "execute_result"
    }
   ],
   "source": [
    "3**2"
   ]
  },
  {
   "cell_type": "code",
   "execution_count": 22,
   "id": "eb227ad4-7c0a-4768-a735-3780d3ba30c6",
   "metadata": {},
   "outputs": [
    {
     "data": {
      "text/plain": [
       "8"
      ]
     },
     "execution_count": 22,
     "metadata": {},
     "output_type": "execute_result"
    }
   ],
   "source": [
    "4*2"
   ]
  },
  {
   "cell_type": "code",
   "execution_count": 24,
   "id": "74854bfb-2cf7-4659-8984-e6923c4753f6",
   "metadata": {},
   "outputs": [
    {
     "data": {
      "text/plain": [
       "16"
      ]
     },
     "execution_count": 24,
     "metadata": {},
     "output_type": "execute_result"
    }
   ],
   "source": [
    "4**2"
   ]
  },
  {
   "cell_type": "code",
   "execution_count": 28,
   "id": "6a1301af-26b2-49eb-8733-72257836a621",
   "metadata": {},
   "outputs": [
    {
     "data": {
      "text/plain": [
       "16"
      ]
     },
     "execution_count": 28,
     "metadata": {},
     "output_type": "execute_result"
    }
   ],
   "source": [
    "4**2\n"
   ]
  },
  {
   "cell_type": "code",
   "execution_count": 30,
   "id": "0abddec6-7cf3-4f60-9f87-afdc25835518",
   "metadata": {},
   "outputs": [
    {
     "data": {
      "text/plain": [
       "40"
      ]
     },
     "execution_count": 30,
     "metadata": {},
     "output_type": "execute_result"
    }
   ],
   "source": [
    "(3+5)*5"
   ]
  },
  {
   "cell_type": "code",
   "execution_count": 32,
   "id": "40334bc7-03a7-4737-bf51-f43960a7fc3e",
   "metadata": {},
   "outputs": [
    {
     "data": {
      "text/plain": [
       "2"
      ]
     },
     "execution_count": 32,
     "metadata": {},
     "output_type": "execute_result"
    }
   ],
   "source": [
    "True+True"
   ]
  },
  {
   "cell_type": "code",
   "execution_count": 34,
   "id": "89325aa3-0b74-4b96-bcb3-ab020ad93eaa",
   "metadata": {},
   "outputs": [
    {
     "data": {
      "text/plain": [
       "1"
      ]
     },
     "execution_count": 34,
     "metadata": {},
     "output_type": "execute_result"
    }
   ],
   "source": [
    "True+False"
   ]
  },
  {
   "cell_type": "code",
   "execution_count": 36,
   "id": "353c56e0-894d-4193-ac2b-d8755889048c",
   "metadata": {},
   "outputs": [
    {
     "data": {
      "text/plain": [
       "0"
      ]
     },
     "execution_count": 36,
     "metadata": {},
     "output_type": "execute_result"
    }
   ],
   "source": [
    "False-False"
   ]
  },
  {
   "cell_type": "code",
   "execution_count": 38,
   "id": "4b535e04-841d-4cbd-aa2d-9ab189c096c5",
   "metadata": {},
   "outputs": [
    {
     "data": {
      "text/plain": [
       "0"
      ]
     },
     "execution_count": 38,
     "metadata": {},
     "output_type": "execute_result"
    }
   ],
   "source": [
    "False+False"
   ]
  },
  {
   "cell_type": "code",
   "execution_count": 40,
   "id": "fb64b528-c2a9-4520-b6ab-91b0ffb4f3aa",
   "metadata": {},
   "outputs": [
    {
     "name": "stdout",
     "output_type": "stream",
     "text": [
      "38\n"
     ]
    }
   ],
   "source": [
    "x=33\n",
    "x=x+5\n",
    "print(x)"
   ]
  },
  {
   "cell_type": "code",
   "execution_count": 42,
   "id": "a0333f3c-8ea6-4db4-a3fa-2895721d5e6c",
   "metadata": {},
   "outputs": [
    {
     "data": {
      "text/plain": [
       "59"
      ]
     },
     "execution_count": 42,
     "metadata": {},
     "output_type": "execute_result"
    }
   ],
   "source": [
    "x=55\n",
    "x+=4\n",
    "x"
   ]
  },
  {
   "cell_type": "code",
   "execution_count": 44,
   "id": "680e8ca6-8a80-4c0c-8fb9-1168152d941f",
   "metadata": {},
   "outputs": [],
   "source": [
    "x*=4"
   ]
  },
  {
   "cell_type": "code",
   "execution_count": 46,
   "id": "1b8e2368-7fa1-4135-803f-f672fc842303",
   "metadata": {},
   "outputs": [
    {
     "data": {
      "text/plain": [
       "236"
      ]
     },
     "execution_count": 46,
     "metadata": {},
     "output_type": "execute_result"
    }
   ],
   "source": [
    "x"
   ]
  },
  {
   "cell_type": "code",
   "execution_count": 48,
   "id": "fe706824-9cdc-44c3-9ac6-9f74ca0a6f59",
   "metadata": {},
   "outputs": [
    {
     "data": {
      "text/plain": [
       "True"
      ]
     },
     "execution_count": 48,
     "metadata": {},
     "output_type": "execute_result"
    }
   ],
   "source": [
    "5==5.0"
   ]
  },
  {
   "cell_type": "code",
   "execution_count": 50,
   "id": "00e28958-9b52-4582-9329-e56e9013b3b0",
   "metadata": {},
   "outputs": [
    {
     "data": {
      "text/plain": [
       "False"
      ]
     },
     "execution_count": 50,
     "metadata": {},
     "output_type": "execute_result"
    }
   ],
   "source": [
    "3!=3\n"
   ]
  },
  {
   "cell_type": "code",
   "execution_count": 52,
   "id": "bc85d829-a5e2-487c-93ae-e4d792bf8f2d",
   "metadata": {},
   "outputs": [
    {
     "data": {
      "text/plain": [
       "False"
      ]
     },
     "execution_count": 52,
     "metadata": {},
     "output_type": "execute_result"
    }
   ],
   "source": [
    "\"zama\"=='ZAMA'"
   ]
  },
  {
   "cell_type": "code",
   "execution_count": 54,
   "id": "2ba09f8c-ce20-4f95-a7c9-b47d2b9f3f10",
   "metadata": {},
   "outputs": [
    {
     "data": {
      "text/plain": [
       "True"
      ]
     },
     "execution_count": 54,
     "metadata": {},
     "output_type": "execute_result"
    }
   ],
   "source": [
    "'zama'=='zama'"
   ]
  },
  {
   "cell_type": "code",
   "execution_count": 58,
   "id": "8c135edf-03f8-4b0a-a8ab-ab4db3e88d6d",
   "metadata": {},
   "outputs": [
    {
     "data": {
      "text/plain": [
       "True"
      ]
     },
     "execution_count": 58,
     "metadata": {},
     "output_type": "execute_result"
    }
   ],
   "source": [
    "5>3 and 6>3"
   ]
  },
  {
   "cell_type": "code",
   "execution_count": 60,
   "id": "fe68d688-3f42-4074-8f2c-d8e5b5c1a019",
   "metadata": {},
   "outputs": [
    {
     "data": {
      "text/plain": [
       "False"
      ]
     },
     "execution_count": 60,
     "metadata": {},
     "output_type": "execute_result"
    }
   ],
   "source": [
    "55>45 and 55>65"
   ]
  },
  {
   "cell_type": "code",
   "execution_count": 62,
   "id": "dfa3b4d6-5ad4-48ce-80db-7cc75b3c3c03",
   "metadata": {},
   "outputs": [
    {
     "data": {
      "text/plain": [
       "True"
      ]
     },
     "execution_count": 62,
     "metadata": {},
     "output_type": "execute_result"
    }
   ],
   "source": [
    "not False"
   ]
  },
  {
   "cell_type": "code",
   "execution_count": 64,
   "id": "f80d7340-4de6-4aee-9f61-256cc44749de",
   "metadata": {},
   "outputs": [
    {
     "data": {
      "text/plain": [
       "False"
      ]
     },
     "execution_count": 64,
     "metadata": {},
     "output_type": "execute_result"
    }
   ],
   "source": [
    "not True"
   ]
  },
  {
   "cell_type": "code",
   "execution_count": 68,
   "id": "465adf84-6a96-4d7d-b624-acfe1cedd7c9",
   "metadata": {},
   "outputs": [
    {
     "data": {
      "text/plain": [
       "True"
      ]
     },
     "execution_count": 68,
     "metadata": {},
     "output_type": "execute_result"
    }
   ],
   "source": [
    "a='aniquezzama'\n",
    "'za' in a"
   ]
  },
  {
   "cell_type": "code",
   "execution_count": 70,
   "id": "eeacfd0b-a350-483e-9518-49cf666f4d25",
   "metadata": {},
   "outputs": [
    {
     "data": {
      "text/plain": [
       "True"
      ]
     },
     "execution_count": 70,
     "metadata": {},
     "output_type": "execute_result"
    }
   ],
   "source": [
    "a=[2,5,8,5,3,3,2]\n",
    "5 in a"
   ]
  },
  {
   "cell_type": "code",
   "execution_count": 72,
   "id": "badf2791-dbf6-42de-8be7-75f3c3d6ea1f",
   "metadata": {},
   "outputs": [
    {
     "data": {
      "text/plain": [
       "False"
      ]
     },
     "execution_count": 72,
     "metadata": {},
     "output_type": "execute_result"
    }
   ],
   "source": [
    "0 in a"
   ]
  },
  {
   "cell_type": "code",
   "execution_count": null,
   "id": "bdc978b8-8cff-4222-b37c-7cd03263f978",
   "metadata": {},
   "outputs": [],
   "source": [
    "b=(1>3) or"
   ]
  }
 ],
 "metadata": {
  "kernelspec": {
   "display_name": "Python 3 (ipykernel)",
   "language": "python",
   "name": "python3"
  },
  "language_info": {
   "codemirror_mode": {
    "name": "ipython",
    "version": 3
   },
   "file_extension": ".py",
   "mimetype": "text/x-python",
   "name": "python",
   "nbconvert_exporter": "python",
   "pygments_lexer": "ipython3",
   "version": "3.12.4"
  }
 },
 "nbformat": 4,
 "nbformat_minor": 5
}
