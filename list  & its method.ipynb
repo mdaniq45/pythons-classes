{
 "cells": [
  {
   "cell_type": "markdown",
   "id": "fed9ab98-14f9-41a0-85a0-859cf7b94314",
   "metadata": {},
   "source": [
    "# list"
   ]
  },
  {
   "cell_type": "code",
   "execution_count": 2,
   "id": "1be4178b-c318-4a00-abc4-6f4006548470",
   "metadata": {},
   "outputs": [],
   "source": [
    "empty_list=[]"
   ]
  },
  {
   "cell_type": "code",
   "execution_count": 6,
   "id": "356f46f6-77cf-458b-90b7-205a05814964",
   "metadata": {},
   "outputs": [
    {
     "data": {
      "text/plain": [
       "[]"
      ]
     },
     "execution_count": 6,
     "metadata": {},
     "output_type": "execute_result"
    }
   ],
   "source": [
    "empty_list"
   ]
  },
  {
   "cell_type": "code",
   "execution_count": 10,
   "id": "246f73d7-3262-4af2-8d63-eef9a33db011",
   "metadata": {},
   "outputs": [
    {
     "data": {
      "text/plain": [
       "[]"
      ]
     },
     "execution_count": 10,
     "metadata": {},
     "output_type": "execute_result"
    }
   ],
   "source": [
    "empty_list2=list()\n",
    "empty_list2"
   ]
  },
  {
   "cell_type": "code",
   "execution_count": 12,
   "id": "08f9d548-79db-4f23-8e24-bca43851790b",
   "metadata": {},
   "outputs": [
    {
     "data": {
      "text/plain": [
       "[1, 4, 7, 9, 11, 1.4]"
      ]
     },
     "execution_count": 12,
     "metadata": {},
     "output_type": "execute_result"
    }
   ],
   "source": [
    "li=[1,4,7,9,11,1.4]\n",
    "li"
   ]
  },
  {
   "cell_type": "code",
   "execution_count": 14,
   "id": "ab4e8bb5-a42e-4e70-bf0e-4b95d04038d2",
   "metadata": {},
   "outputs": [
    {
     "data": {
      "text/plain": [
       "6"
      ]
     },
     "execution_count": 14,
     "metadata": {},
     "output_type": "execute_result"
    }
   ],
   "source": [
    "len(li)"
   ]
  },
  {
   "cell_type": "markdown",
   "id": "1837a147-8ba7-47dc-ab5d-ac29a3dc0cfa",
   "metadata": {},
   "source": [
    "### nested list"
   ]
  },
  {
   "cell_type": "code",
   "execution_count": 17,
   "id": "6653add0-0a5e-45c7-9c1c-f6a1dec85e8a",
   "metadata": {},
   "outputs": [],
   "source": [
    "nest=[1,4,6,22,[44,3,7,3],42]"
   ]
  },
  {
   "cell_type": "code",
   "execution_count": 19,
   "id": "6689fc50-45f6-494e-859d-bf8a79787437",
   "metadata": {},
   "outputs": [
    {
     "data": {
      "text/plain": [
       "[1, 4, 6, 22, [44, 3, 7, 3], 42]"
      ]
     },
     "execution_count": 19,
     "metadata": {},
     "output_type": "execute_result"
    }
   ],
   "source": [
    "nest"
   ]
  },
  {
   "cell_type": "code",
   "execution_count": 21,
   "id": "dec6534a-8b58-48ac-8869-8551223f8397",
   "metadata": {},
   "outputs": [
    {
     "data": {
      "text/plain": [
       "6"
      ]
     },
     "execution_count": 21,
     "metadata": {},
     "output_type": "execute_result"
    }
   ],
   "source": [
    "len(nest)"
   ]
  },
  {
   "cell_type": "code",
   "execution_count": 23,
   "id": "e7202cec-ee76-42d5-a16e-eb398e7be346",
   "metadata": {},
   "outputs": [
    {
     "data": {
      "text/plain": [
       "4"
      ]
     },
     "execution_count": 23,
     "metadata": {},
     "output_type": "execute_result"
    }
   ],
   "source": [
    "l1=[1,5,35,4]\n",
    "len(l1)"
   ]
  },
  {
   "cell_type": "code",
   "execution_count": 25,
   "id": "05298969-203f-4413-98a5-b8163af4418f",
   "metadata": {},
   "outputs": [
    {
     "data": {
      "text/plain": [
       "1"
      ]
     },
     "execution_count": 25,
     "metadata": {},
     "output_type": "execute_result"
    }
   ],
   "source": [
    "l1[0]"
   ]
  },
  {
   "cell_type": "code",
   "execution_count": 27,
   "id": "65a28f7d-1308-490a-af59-f22d6db6c121",
   "metadata": {},
   "outputs": [
    {
     "data": {
      "text/plain": [
       "4"
      ]
     },
     "execution_count": 27,
     "metadata": {},
     "output_type": "execute_result"
    }
   ],
   "source": [
    "l1[3]"
   ]
  },
  {
   "cell_type": "markdown",
   "id": "06257409-f3f0-4a99-b5dd-48467c398deb",
   "metadata": {},
   "source": [
    "#### list slicing"
   ]
  },
  {
   "cell_type": "code",
   "execution_count": 30,
   "id": "d4fe9caf-ebf1-4a5a-a8ab-535894db2516",
   "metadata": {},
   "outputs": [
    {
     "data": {
      "text/plain": [
       "[1, 3, 4, 5]"
      ]
     },
     "execution_count": 30,
     "metadata": {},
     "output_type": "execute_result"
    }
   ],
   "source": [
    "l2=[1,3,4,5,6,7,89,22,11,55,34]\n",
    "l2[:4:1]"
   ]
  },
  {
   "cell_type": "code",
   "execution_count": 32,
   "id": "73fe1af7-456b-4187-bf65-ca504950d188",
   "metadata": {},
   "outputs": [
    {
     "data": {
      "text/plain": [
       "[1, 4, 6]"
      ]
     },
     "execution_count": 32,
     "metadata": {},
     "output_type": "execute_result"
    }
   ],
   "source": [
    "l2[0:5:2]"
   ]
  },
  {
   "cell_type": "markdown",
   "id": "3591eb23-9526-4901-87a3-d5d38cb2354d",
   "metadata": {},
   "source": [
    "### list concatenation"
   ]
  },
  {
   "cell_type": "code",
   "execution_count": 35,
   "id": "7c751dda-e5fc-4c2b-b5a9-e3e69a60dc2e",
   "metadata": {},
   "outputs": [],
   "source": [
    "l3=l1+l2"
   ]
  },
  {
   "cell_type": "code",
   "execution_count": 37,
   "id": "0314547a-1765-4e23-80da-743fae97ceb1",
   "metadata": {},
   "outputs": [
    {
     "data": {
      "text/plain": [
       "[1, 5, 35, 4, 1, 3, 4, 5, 6, 7, 89, 22, 11, 55, 34]"
      ]
     },
     "execution_count": 37,
     "metadata": {},
     "output_type": "execute_result"
    }
   ],
   "source": [
    "l3"
   ]
  },
  {
   "cell_type": "code",
   "execution_count": 39,
   "id": "6182536d-69f8-4e32-a92c-aaed3720de1b",
   "metadata": {},
   "outputs": [
    {
     "name": "stdout",
     "output_type": "stream",
     "text": [
      "[1, 5, 35, 4, 1, 3, 4, 5, 6, 7, 89, 22, 11, 55, 34]\n"
     ]
    }
   ],
   "source": [
    "print(l3)"
   ]
  },
  {
   "cell_type": "markdown",
   "id": "53005c7f-5a65-41dc-89e4-c143032fd39c",
   "metadata": {},
   "source": [
    "### list are mutable"
   ]
  },
  {
   "cell_type": "code",
   "execution_count": 42,
   "id": "c43e2e9e-a3d2-457c-9c0f-339bf3fa4745",
   "metadata": {},
   "outputs": [
    {
     "name": "stdout",
     "output_type": "stream",
     "text": [
      "[4, 6, 8, 2, 66, 22]\n"
     ]
    }
   ],
   "source": [
    "a=[4,6,8,2,66,22]\n",
    "print(a)"
   ]
  },
  {
   "cell_type": "code",
   "execution_count": 44,
   "id": "0f092950-4927-4659-a94e-499e9b5c700a",
   "metadata": {},
   "outputs": [
    {
     "data": {
      "text/plain": [
       "6"
      ]
     },
     "execution_count": 44,
     "metadata": {},
     "output_type": "execute_result"
    }
   ],
   "source": [
    "a[1]"
   ]
  },
  {
   "cell_type": "code",
   "execution_count": 46,
   "id": "983c2455-e5f8-4049-bcc5-65bae2192840",
   "metadata": {},
   "outputs": [
    {
     "data": {
      "text/plain": [
       "2035469670656"
      ]
     },
     "execution_count": 46,
     "metadata": {},
     "output_type": "execute_result"
    }
   ],
   "source": [
    "id(a)"
   ]
  },
  {
   "cell_type": "code",
   "execution_count": 48,
   "id": "9ca134e1-1d8b-4151-9560-4dd0249913ff",
   "metadata": {},
   "outputs": [
    {
     "data": {
      "text/plain": [
       "[0, 5, 7, 9, 44, 34]"
      ]
     },
     "execution_count": 48,
     "metadata": {},
     "output_type": "execute_result"
    }
   ],
   "source": [
    "li=[0,5,7,9,44,34]\n",
    "li"
   ]
  },
  {
   "cell_type": "code",
   "execution_count": 50,
   "id": "c4001c03-da3c-4657-b265-34b43c926707",
   "metadata": {},
   "outputs": [],
   "source": [
    "li.append(321)"
   ]
  },
  {
   "cell_type": "code",
   "execution_count": 52,
   "id": "5c84ef9c-5346-46f2-a495-51a72b00e7e4",
   "metadata": {},
   "outputs": [
    {
     "data": {
      "text/plain": [
       "[0, 5, 7, 9, 44, 34, 321]"
      ]
     },
     "execution_count": 52,
     "metadata": {},
     "output_type": "execute_result"
    }
   ],
   "source": [
    "li"
   ]
  },
  {
   "cell_type": "code",
   "execution_count": 54,
   "id": "4e908c1d-33af-4dfc-b34b-ba510b9d369c",
   "metadata": {},
   "outputs": [],
   "source": [
    "li.append([22,555])"
   ]
  },
  {
   "cell_type": "code",
   "execution_count": 56,
   "id": "795538db-2626-4a95-a763-ee0b38c9baa1",
   "metadata": {},
   "outputs": [
    {
     "data": {
      "text/plain": [
       "[0, 5, 7, 9, 44, 34, 321, [22, 555]]"
      ]
     },
     "execution_count": 56,
     "metadata": {},
     "output_type": "execute_result"
    }
   ],
   "source": [
    "li"
   ]
  },
  {
   "cell_type": "code",
   "execution_count": 58,
   "id": "cf088ef1-2358-48e7-8f93-045bfe5b5bec",
   "metadata": {},
   "outputs": [],
   "source": [
    "li.append(22.455)"
   ]
  },
  {
   "cell_type": "code",
   "execution_count": 60,
   "id": "cb5c3b2d-3ed0-42db-aed0-7c1718ff482a",
   "metadata": {},
   "outputs": [
    {
     "data": {
      "text/plain": [
       "[0, 5, 7, 9, 44, 34, 321, [22, 555], 22.455]"
      ]
     },
     "execution_count": 60,
     "metadata": {},
     "output_type": "execute_result"
    }
   ],
   "source": [
    "li"
   ]
  },
  {
   "cell_type": "code",
   "execution_count": 62,
   "id": "0dde9ad2-91bb-4c45-9aa3-e106b895bec8",
   "metadata": {},
   "outputs": [
    {
     "ename": "TypeError",
     "evalue": "list.append() takes exactly one argument (2 given)",
     "output_type": "error",
     "traceback": [
      "\u001b[1;31m---------------------------------------------------------------------------\u001b[0m",
      "\u001b[1;31mTypeError\u001b[0m                                 Traceback (most recent call last)",
      "Cell \u001b[1;32mIn[62], line 1\u001b[0m\n\u001b[1;32m----> 1\u001b[0m li\u001b[38;5;241m.\u001b[39mappend(\u001b[38;5;241m22\u001b[39m,\u001b[38;5;241m44\u001b[39m)\n",
      "\u001b[1;31mTypeError\u001b[0m: list.append() takes exactly one argument (2 given)"
     ]
    }
   ],
   "source": [
    "li.append(22,44)"
   ]
  },
  {
   "cell_type": "markdown",
   "id": "4dedd436-9b19-4234-bf6e-6843f592a3dc",
   "metadata": {},
   "source": [
    "### extend"
   ]
  },
  {
   "cell_type": "code",
   "execution_count": 65,
   "id": "ce769f5a-3319-4f65-b9a1-6ca6df3286e9",
   "metadata": {},
   "outputs": [],
   "source": [
    "li.extend([22,55,77])"
   ]
  },
  {
   "cell_type": "code",
   "execution_count": 67,
   "id": "b2b7e4f9-e38e-4af8-a4e8-74b09382750b",
   "metadata": {},
   "outputs": [
    {
     "data": {
      "text/plain": [
       "[0, 5, 7, 9, 44, 34, 321, [22, 555], 22.455, 22, 55, 77]"
      ]
     },
     "execution_count": 67,
     "metadata": {},
     "output_type": "execute_result"
    }
   ],
   "source": [
    "li"
   ]
  },
  {
   "cell_type": "markdown",
   "id": "38e037d9-5440-404a-8e53-a253846cf865",
   "metadata": {},
   "source": [
    "#### different  between append and extend"
   ]
  },
  {
   "cell_type": "code",
   "execution_count": 76,
   "id": "a201658c-9b60-4100-8998-d8d9b72e095c",
   "metadata": {},
   "outputs": [
    {
     "name": "stdout",
     "output_type": "stream",
     "text": [
      "append the list None\n",
      "list extend  None\n",
      "[1, 3, 5, 7, 9, 4, [888, 999]]\n",
      "[22, 44, 66, 88, 99, 222, 4444]\n"
     ]
    }
   ],
   "source": [
    "l=[1,3,5,7,9,4]\n",
    "ls=[22,44,66,88,99]\n",
    "print('append the list',l.append([888,999]))\n",
    "print('list extend ',ls.extend([222,4444]))\n",
    "print(l)\n",
    "print(ls)"
   ]
  },
  {
   "cell_type": "markdown",
   "id": "8572233d-3a7d-4d78-aadd-dc9739f4363e",
   "metadata": {},
   "source": [
    "### insert values "
   ]
  },
  {
   "cell_type": "code",
   "execution_count": 79,
   "id": "74a6a2f1-90da-4783-84d1-f1adefdd4cbd",
   "metadata": {},
   "outputs": [],
   "source": [
    "lst=[123,543,33,666,1242]\n",
    "lst.insert(2,0000)"
   ]
  },
  {
   "cell_type": "code",
   "execution_count": 81,
   "id": "9a91f03e-b8bc-4205-8b6e-cb7a5d59a660",
   "metadata": {},
   "outputs": [
    {
     "data": {
      "text/plain": [
       "[123, 543, 0, 33, 666, 1242]"
      ]
     },
     "execution_count": 81,
     "metadata": {},
     "output_type": "execute_result"
    }
   ],
   "source": [
    "lst"
   ]
  },
  {
   "cell_type": "markdown",
   "id": "2a9adfc2-fe63-4291-89fa-2f05e61f5060",
   "metadata": {},
   "source": [
    "### list remove"
   ]
  },
  {
   "cell_type": "code",
   "execution_count": 117,
   "id": "6f06cf07-6772-4c81-b719-dc1a62049451",
   "metadata": {},
   "outputs": [
    {
     "name": "stdout",
     "output_type": "stream",
     "text": [
      "[22, 444, 555, 999, 6545]\n"
     ]
    }
   ],
   "source": [
    "n=[22,444,555,777,999,6545]\n",
    "n.remove(777)\n",
    "print(n)"
   ]
  },
  {
   "cell_type": "markdown",
   "id": "df9d4fa5-ad1e-4aa2-9b94-01f7175266c7",
   "metadata": {},
   "source": [
    "### list pop"
   ]
  },
  {
   "cell_type": "code",
   "execution_count": 120,
   "id": "fe9c4338-52d0-4c93-8dce-a9470abf1f5d",
   "metadata": {},
   "outputs": [
    {
     "data": {
      "text/plain": [
       "6545"
      ]
     },
     "execution_count": 120,
     "metadata": {},
     "output_type": "execute_result"
    }
   ],
   "source": [
    "n.pop(4)"
   ]
  },
  {
   "cell_type": "code",
   "execution_count": 122,
   "id": "9d4f28ae-ceec-4478-ab19-266a845995ad",
   "metadata": {},
   "outputs": [
    {
     "data": {
      "text/plain": [
       "444"
      ]
     },
     "execution_count": 122,
     "metadata": {},
     "output_type": "execute_result"
    }
   ],
   "source": [
    "n.pop(1)"
   ]
  },
  {
   "cell_type": "markdown",
   "id": "df6b3c8d-911e-4016-a876-6369d3759bd7",
   "metadata": {},
   "source": [
    "### clear"
   ]
  },
  {
   "cell_type": "code",
   "execution_count": 130,
   "id": "ca4dcd5d-30d1-4bb3-8608-d3af7a335961",
   "metadata": {},
   "outputs": [],
   "source": [
    "n.clear()"
   ]
  },
  {
   "cell_type": "code",
   "execution_count": 132,
   "id": "6882bf0e-4a20-4c2f-b502-ee29e427ff36",
   "metadata": {},
   "outputs": [
    {
     "data": {
      "text/plain": [
       "[]"
      ]
     },
     "execution_count": 132,
     "metadata": {},
     "output_type": "execute_result"
    }
   ],
   "source": [
    "n"
   ]
  },
  {
   "cell_type": "markdown",
   "id": "a3f9ca95-abeb-4964-bd7a-35dd13997ebf",
   "metadata": {},
   "source": [
    "### del"
   ]
  },
  {
   "cell_type": "code",
   "execution_count": 134,
   "id": "ffa4d30d-dc8a-4245-85e4-10ea3061e1be",
   "metadata": {},
   "outputs": [],
   "source": [
    "del n"
   ]
  },
  {
   "cell_type": "code",
   "execution_count": 136,
   "id": "527cb1a1-1351-4d88-a926-bfe4ec45a023",
   "metadata": {},
   "outputs": [
    {
     "ename": "NameError",
     "evalue": "name 'n' is not defined",
     "output_type": "error",
     "traceback": [
      "\u001b[1;31m---------------------------------------------------------------------------\u001b[0m",
      "\u001b[1;31mNameError\u001b[0m                                 Traceback (most recent call last)",
      "Cell \u001b[1;32mIn[136], line 1\u001b[0m\n\u001b[1;32m----> 1\u001b[0m \u001b[38;5;28mprint\u001b[39m(n)\n",
      "\u001b[1;31mNameError\u001b[0m: name 'n' is not defined"
     ]
    }
   ],
   "source": [
    "print(n)"
   ]
  },
  {
   "cell_type": "markdown",
   "id": "f8ac380d-b132-4662-981b-67a162e5e671",
   "metadata": {},
   "source": [
    "### counts"
   ]
  },
  {
   "cell_type": "code",
   "execution_count": 143,
   "id": "3a2826a8-ee63-4f3c-a0af-a490644ace72",
   "metadata": {},
   "outputs": [
    {
     "data": {
      "text/plain": [
       "1"
      ]
     },
     "execution_count": 143,
     "metadata": {},
     "output_type": "execute_result"
    }
   ],
   "source": [
    "l=[11,33,44,66,77,88,444,3232]\n",
    "l.count(11)"
   ]
  },
  {
   "cell_type": "code",
   "execution_count": 145,
   "id": "b9109142-0657-44fb-aebb-f20642910564",
   "metadata": {},
   "outputs": [
    {
     "data": {
      "text/plain": [
       "1"
      ]
     },
     "execution_count": 145,
     "metadata": {},
     "output_type": "execute_result"
    }
   ],
   "source": [
    "l.count(33)"
   ]
  },
  {
   "cell_type": "code",
   "execution_count": 147,
   "id": "ae085a8a-6152-409d-937f-099f969043a0",
   "metadata": {},
   "outputs": [
    {
     "data": {
      "text/plain": [
       "0"
      ]
     },
     "execution_count": 147,
     "metadata": {},
     "output_type": "execute_result"
    }
   ],
   "source": [
    "l.count(111)"
   ]
  },
  {
   "cell_type": "markdown",
   "id": "d4a4a997-dbc0-49d4-b80d-52ac0bbe974f",
   "metadata": {},
   "source": [
    "### list  reverse"
   ]
  },
  {
   "cell_type": "code",
   "execution_count": 150,
   "id": "773f4ff8-eae6-49a9-98a9-837439ef3bd4",
   "metadata": {},
   "outputs": [],
   "source": [
    "l.reverse()"
   ]
  },
  {
   "cell_type": "code",
   "execution_count": 152,
   "id": "2a2b1c22-7d0f-48a8-98f7-a15cd7f62b5b",
   "metadata": {},
   "outputs": [
    {
     "data": {
      "text/plain": [
       "[3232, 444, 88, 77, 66, 44, 33, 11]"
      ]
     },
     "execution_count": 152,
     "metadata": {},
     "output_type": "execute_result"
    }
   ],
   "source": [
    "l"
   ]
  },
  {
   "cell_type": "markdown",
   "id": "5ec4c9ed-5047-428e-b0dd-430a14c8dc65",
   "metadata": {},
   "source": [
    "### sort"
   ]
  },
  {
   "cell_type": "code",
   "execution_count": 155,
   "id": "28f50a24-73a1-450b-8cb7-7cbb3f1cecdc",
   "metadata": {},
   "outputs": [],
   "source": [
    "l.sort()"
   ]
  },
  {
   "cell_type": "code",
   "execution_count": 157,
   "id": "c1298cd7-74d3-498e-b289-22bf168710a2",
   "metadata": {},
   "outputs": [
    {
     "data": {
      "text/plain": [
       "[11, 33, 44, 66, 77, 88, 444, 3232]"
      ]
     },
     "execution_count": 157,
     "metadata": {},
     "output_type": "execute_result"
    }
   ],
   "source": [
    "l\n",
    "\n"
   ]
  },
  {
   "cell_type": "code",
   "execution_count": 163,
   "id": "3c942b01-eee5-4e94-853e-af02d388a96b",
   "metadata": {},
   "outputs": [
    {
     "ename": "TypeError",
     "evalue": "'<' not supported between instances of 'str' and 'int'",
     "output_type": "error",
     "traceback": [
      "\u001b[1;31m---------------------------------------------------------------------------\u001b[0m",
      "\u001b[1;31mTypeError\u001b[0m                                 Traceback (most recent call last)",
      "Cell \u001b[1;32mIn[163], line 2\u001b[0m\n\u001b[0;32m      1\u001b[0m lst\u001b[38;5;241m=\u001b[39m[\u001b[38;5;241m111\u001b[39m,\u001b[38;5;241m444\u001b[39m,\u001b[38;5;241m5\u001b[39m,\u001b[38;5;241m44\u001b[39m,\u001b[38;5;241m33\u001b[39m,\u001b[38;5;124m'\u001b[39m\u001b[38;5;124md\u001b[39m\u001b[38;5;124m'\u001b[39m,\u001b[38;5;124m'\u001b[39m\u001b[38;5;124mm\u001b[39m\u001b[38;5;124m'\u001b[39m,\u001b[38;5;124m'\u001b[39m\u001b[38;5;124mdd\u001b[39m\u001b[38;5;124m'\u001b[39m,\u001b[38;5;241m324\u001b[39m]\n\u001b[1;32m----> 2\u001b[0m lst\u001b[38;5;241m.\u001b[39msort()\n",
      "\u001b[1;31mTypeError\u001b[0m: '<' not supported between instances of 'str' and 'int'"
     ]
    }
   ],
   "source": [
    "lst=[111,444,5,44,33,'d','m','dd',324]\n",
    "lst.sort()"
   ]
  },
  {
   "cell_type": "code",
   "execution_count": 165,
   "id": "488fa945-462d-4d12-ab8c-193e029f7f8f",
   "metadata": {},
   "outputs": [],
   "source": [
    "lst=[333,242,657,43]\n",
    "lst.sort()"
   ]
  },
  {
   "cell_type": "code",
   "execution_count": 167,
   "id": "3c2e3443-bb0f-46de-be2f-8625e7a3bf4e",
   "metadata": {},
   "outputs": [
    {
     "data": {
      "text/plain": [
       "[43, 242, 333, 657]"
      ]
     },
     "execution_count": 167,
     "metadata": {},
     "output_type": "execute_result"
    }
   ],
   "source": [
    "lst"
   ]
  },
  {
   "cell_type": "markdown",
   "id": "824f575a-a686-4a9f-8648-1d732a46ca7e",
   "metadata": {},
   "source": [
    "### copy "
   ]
  },
  {
   "cell_type": "code",
   "execution_count": 170,
   "id": "3b9ed6b9-e656-47fe-a006-caa32cfb4540",
   "metadata": {},
   "outputs": [],
   "source": [
    "a=[1233,66,756,464]\n",
    "b=a.copy()"
   ]
  },
  {
   "cell_type": "code",
   "execution_count": 172,
   "id": "9f59a182-123b-41c4-b151-e0ed709d5e28",
   "metadata": {},
   "outputs": [
    {
     "data": {
      "text/plain": [
       "[1233, 66, 756, 464]"
      ]
     },
     "execution_count": 172,
     "metadata": {},
     "output_type": "execute_result"
    }
   ],
   "source": [
    "b"
   ]
  },
  {
   "cell_type": "code",
   "execution_count": 174,
   "id": "5cace6c4-a9c2-4f4e-9e8a-cf54ceef5123",
   "metadata": {},
   "outputs": [],
   "source": [
    "b.append(4)"
   ]
  },
  {
   "cell_type": "code",
   "execution_count": 176,
   "id": "23c670c6-1214-4c07-8709-4721528589c0",
   "metadata": {},
   "outputs": [
    {
     "data": {
      "text/plain": [
       "[1233, 66, 756, 464, 4]"
      ]
     },
     "execution_count": 176,
     "metadata": {},
     "output_type": "execute_result"
    }
   ],
   "source": [
    "b"
   ]
  },
  {
   "cell_type": "code",
   "execution_count": 178,
   "id": "d598e7cd-a512-461b-a1b4-06fc3d5b83e2",
   "metadata": {},
   "outputs": [],
   "source": [
    "b.insert(3,5)"
   ]
  },
  {
   "cell_type": "code",
   "execution_count": 180,
   "id": "1715273e-87c4-4dbe-af91-a05d908487c6",
   "metadata": {},
   "outputs": [
    {
     "data": {
      "text/plain": [
       "[1233, 66, 756, 5, 464, 4]"
      ]
     },
     "execution_count": 180,
     "metadata": {},
     "output_type": "execute_result"
    }
   ],
   "source": [
    "b"
   ]
  },
  {
   "cell_type": "code",
   "execution_count": null,
   "id": "0f6b9cf9-870e-4c31-9c03-dea1eeebd0cd",
   "metadata": {},
   "outputs": [],
   "source": []
  }
 ],
 "metadata": {
  "kernelspec": {
   "display_name": "Python 3 (ipykernel)",
   "language": "python",
   "name": "python3"
  },
  "language_info": {
   "codemirror_mode": {
    "name": "ipython",
    "version": 3
   },
   "file_extension": ".py",
   "mimetype": "text/x-python",
   "name": "python",
   "nbconvert_exporter": "python",
   "pygments_lexer": "ipython3",
   "version": "3.12.4"
  }
 },
 "nbformat": 4,
 "nbformat_minor": 5
}
