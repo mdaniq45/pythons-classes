{
 "cells": [
  {
   "cell_type": "markdown",
   "id": "58dedc1b-de5f-4a60-a145-d28a377ac00b",
   "metadata": {},
   "source": [
    "### input "
   ]
  },
  {
   "cell_type": "markdown",
   "id": "bcc6d9a3-9269-408c-9e2b-adb48414e997",
   "metadata": {},
   "source": [
    "### want to take the from .in the user in python we have the input() ,function  by takes 'str' data type"
   ]
  },
  {
   "cell_type": "code",
   "execution_count": 4,
   "id": "d46291f3-3809-470d-9b46-c60bf7fc860f",
   "metadata": {},
   "outputs": [
    {
     "name": "stdin",
     "output_type": "stream",
     "text": [
      " 1\n"
     ]
    }
   ],
   "source": [
    "a=input()"
   ]
  },
  {
   "cell_type": "code",
   "execution_count": 6,
   "id": "24fa6f9b-f52f-4daa-aed4-bef01a8e6e00",
   "metadata": {},
   "outputs": [
    {
     "data": {
      "text/plain": [
       "str"
      ]
     },
     "execution_count": 6,
     "metadata": {},
     "output_type": "execute_result"
    }
   ],
   "source": [
    "type(a)"
   ]
  },
  {
   "cell_type": "code",
   "execution_count": 8,
   "id": "eb195c26-0dd6-404b-8750-afa575eaf1ed",
   "metadata": {},
   "outputs": [
    {
     "name": "stdin",
     "output_type": "stream",
     "text": [
      "enter your age: 23\n"
     ]
    }
   ],
   "source": [
    "a=input('enter your age:')"
   ]
  },
  {
   "cell_type": "code",
   "execution_count": 10,
   "id": "4bfa182e-7bdb-450f-b4af-697be671f63e",
   "metadata": {},
   "outputs": [
    {
     "name": "stdin",
     "output_type": "stream",
     "text": [
      "enter the age: 34\n"
     ]
    },
    {
     "name": "stdout",
     "output_type": "stream",
     "text": [
      "enter yhe value of : 34\n",
      "data type of entered value: <class 'str'>\n"
     ]
    }
   ],
   "source": [
    "s=input('enter the age:')\n",
    "print('enter yhe value of :',s)\n",
    "print('data type of entered value:',type(s))"
   ]
  },
  {
   "cell_type": "code",
   "execution_count": 14,
   "id": "6dc61dc9-677b-428a-aed2-f238ef6b42a7",
   "metadata": {},
   "outputs": [
    {
     "name": "stdin",
     "output_type": "stream",
     "text": [
      "what is your name zama\n"
     ]
    }
   ],
   "source": [
    "name=str(input('what is your name'))"
   ]
  },
  {
   "cell_type": "code",
   "execution_count": null,
   "id": "f20ae0f7-8347-49eb-8440-2da4c2256b24",
   "metadata": {},
   "outputs": [
    {
     "name": "stdin",
     "output_type": "stream",
     "text": [
      "enter your age 24\n"
     ]
    }
   ],
   "source": [
    "a=int(input('enter your age'))\n",
    "n=str(input('enter your name'))\n"
   ]
  },
  {
   "cell_type": "code",
   "execution_count": null,
   "id": "96eae627-7a34-422a-80c7-e67d1d43d841",
   "metadata": {},
   "outputs": [],
   "source": []
  }
 ],
 "metadata": {
  "kernelspec": {
   "display_name": "Python 3 (ipykernel)",
   "language": "python",
   "name": "python3"
  },
  "language_info": {
   "codemirror_mode": {
    "name": "ipython",
    "version": 3
   },
   "file_extension": ".py",
   "mimetype": "text/x-python",
   "name": "python",
   "nbconvert_exporter": "python",
   "pygments_lexer": "ipython3",
   "version": "3.12.4"
  }
 },
 "nbformat": 4,
 "nbformat_minor": 5
}
