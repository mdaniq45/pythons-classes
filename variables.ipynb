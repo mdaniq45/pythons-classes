{
 "cells": [
  {
   "cell_type": "markdown",
   "id": "c52d1267-38be-4f94-9dd6-863ff2ab4c6e",
   "metadata": {},
   "source": [
    "### single line cumment"
   ]
  },
  {
   "cell_type": "code",
   "execution_count": 3,
   "id": "26f11fab-67c8-42e4-be85-3baa55014498",
   "metadata": {},
   "outputs": [
    {
     "name": "stdout",
     "output_type": "stream",
     "text": [
      "mohammad\n"
     ]
    }
   ],
   "source": [
    "# single linre  cumment\n",
    "print(\"mohammad\")"
   ]
  },
  {
   "cell_type": "code",
   "execution_count": 5,
   "id": "362a8182-df04-48e7-857c-de0b6847782d",
   "metadata": {},
   "outputs": [
    {
     "name": "stdout",
     "output_type": "stream",
     "text": [
      "mohammad anique zzma\n"
     ]
    }
   ],
   "source": [
    "### multi line cumment\n",
    "'''\n",
    "this is the multi line cumments'''\n",
    "print('mohammad anique zzma')"
   ]
  },
  {
   "cell_type": "markdown",
   "id": "ce0f0749-6d92-4c42-97eb-167422949c32",
   "metadata": {},
   "source": [
    "#### variables"
   ]
  },
  {
   "cell_type": "code",
   "execution_count": 8,
   "id": "c2b95577-f110-4ccd-8f63-6fe7588f625e",
   "metadata": {},
   "outputs": [
    {
     "data": {
      "text/plain": [
       "42442"
      ]
     },
     "execution_count": 8,
     "metadata": {},
     "output_type": "execute_result"
    }
   ],
   "source": [
    "a=42442\n",
    "a"
   ]
  },
  {
   "cell_type": "code",
   "execution_count": 10,
   "id": "84b61913-14ff-4531-81ca-e5faa954aa96",
   "metadata": {},
   "outputs": [
    {
     "name": "stdout",
     "output_type": "stream",
     "text": [
      "42442\n"
     ]
    }
   ],
   "source": [
    "print(a)"
   ]
  },
  {
   "cell_type": "code",
   "execution_count": 12,
   "id": "22826eda-48e7-4fc0-bdeb-4ef67c238060",
   "metadata": {},
   "outputs": [
    {
     "data": {
      "text/plain": [
       "0.324"
      ]
     },
     "execution_count": 12,
     "metadata": {},
     "output_type": "execute_result"
    }
   ],
   "source": [
    "a=0.324\n",
    "a"
   ]
  },
  {
   "cell_type": "code",
   "execution_count": 14,
   "id": "bf260ac5-730a-45bd-8683-e5f8d11a4758",
   "metadata": {},
   "outputs": [
    {
     "name": "stdout",
     "output_type": "stream",
     "text": [
      "0.324\n"
     ]
    }
   ],
   "source": [
    "print(a)"
   ]
  },
  {
   "cell_type": "code",
   "execution_count": 16,
   "id": "d0f2480a-5258-49cb-b5cc-b4b89e614230",
   "metadata": {},
   "outputs": [
    {
     "name": "stdout",
     "output_type": "stream",
     "text": [
      "a\n"
     ]
    }
   ],
   "source": [
    "print('a')"
   ]
  },
  {
   "cell_type": "code",
   "execution_count": 18,
   "id": "2f79f164-8a43-4a21-b598-ac3b455567f7",
   "metadata": {},
   "outputs": [
    {
     "data": {
      "text/plain": [
       "'mohammad'"
      ]
     },
     "execution_count": 18,
     "metadata": {},
     "output_type": "execute_result"
    }
   ],
   "source": [
    "b='mohammad'\n",
    "b"
   ]
  },
  {
   "cell_type": "code",
   "execution_count": 20,
   "id": "66f594c9-6b0c-455a-9a51-1a5f8c21f536",
   "metadata": {},
   "outputs": [
    {
     "name": "stdout",
     "output_type": "stream",
     "text": [
      "b\n"
     ]
    }
   ],
   "source": [
    "print('b')"
   ]
  },
  {
   "cell_type": "code",
   "execution_count": 22,
   "id": "19645def-0539-4d61-8ed2-dd0d16377d83",
   "metadata": {},
   "outputs": [
    {
     "name": "stdout",
     "output_type": "stream",
     "text": [
      "mohammad\n"
     ]
    }
   ],
   "source": [
    "print(b)"
   ]
  },
  {
   "cell_type": "code",
   "execution_count": 24,
   "id": "dee070be-33ef-4c83-8c63-5342f50e7a72",
   "metadata": {},
   "outputs": [
    {
     "ename": "SyntaxError",
     "evalue": "invalid decimal literal (1354504752.py, line 1)",
     "output_type": "error",
     "traceback": [
      "\u001b[1;36m  Cell \u001b[1;32mIn[24], line 1\u001b[1;36m\u001b[0m\n\u001b[1;33m    1c=34\u001b[0m\n\u001b[1;37m    ^\u001b[0m\n\u001b[1;31mSyntaxError\u001b[0m\u001b[1;31m:\u001b[0m invalid decimal literal\n"
     ]
    }
   ],
   "source": [
    "1c=34\n",
    "1c"
   ]
  },
  {
   "cell_type": "code",
   "execution_count": 26,
   "id": "8b1ff881-4e50-4b96-989e-edc73384a70a",
   "metadata": {},
   "outputs": [
    {
     "ename": "SyntaxError",
     "evalue": "invalid decimal literal (2769196342.py, line 1)",
     "output_type": "error",
     "traceback": [
      "\u001b[1;36m  Cell \u001b[1;32mIn[26], line 1\u001b[1;36m\u001b[0m\n\u001b[1;33m    1_c=34\u001b[0m\n\u001b[1;37m     ^\u001b[0m\n\u001b[1;31mSyntaxError\u001b[0m\u001b[1;31m:\u001b[0m invalid decimal literal\n"
     ]
    }
   ],
   "source": [
    "1_c=34\n",
    "c"
   ]
  },
  {
   "cell_type": "code",
   "execution_count": 28,
   "id": "b60bd9cf-d72f-48da-851b-86296895256a",
   "metadata": {},
   "outputs": [
    {
     "ename": "SyntaxError",
     "evalue": "invalid syntax (15598035.py, line 1)",
     "output_type": "error",
     "traceback": [
      "\u001b[1;36m  Cell \u001b[1;32mIn[28], line 1\u001b[1;36m\u001b[0m\n\u001b[1;33m    if=232\u001b[0m\n\u001b[1;37m      ^\u001b[0m\n\u001b[1;31mSyntaxError\u001b[0m\u001b[1;31m:\u001b[0m invalid syntax\n"
     ]
    }
   ],
   "source": [
    "if=232\n",
    "if"
   ]
  },
  {
   "cell_type": "code",
   "execution_count": 30,
   "id": "fa727ae2-606d-40bb-87a4-fd249641560d",
   "metadata": {},
   "outputs": [
    {
     "data": {
      "text/plain": [
       "423"
      ]
     },
     "execution_count": 30,
     "metadata": {},
     "output_type": "execute_result"
    }
   ],
   "source": [
    "c_1=423\n",
    "c_1"
   ]
  },
  {
   "cell_type": "code",
   "execution_count": 34,
   "id": "c06d58de-012d-4bf8-a5e4-7975cb3b0bb6",
   "metadata": {},
   "outputs": [
    {
     "name": "stdout",
     "output_type": "stream",
     "text": [
      "423\n"
     ]
    }
   ],
   "source": [
    "print(c_1)"
   ]
  },
  {
   "cell_type": "markdown",
   "id": "50aaa839-ac08-427a-a758-b9f0b8d4f871",
   "metadata": {},
   "source": [
    "#### one variable and multiple variables"
   ]
  },
  {
   "cell_type": "code",
   "execution_count": 37,
   "id": "7c3822ec-a365-4751-980e-f9533332a02e",
   "metadata": {},
   "outputs": [
    {
     "data": {
      "text/plain": [
       "(12, 15)"
      ]
     },
     "execution_count": 37,
     "metadata": {},
     "output_type": "execute_result"
    }
   ],
   "source": [
    "a,b=12,15\n",
    "a,b"
   ]
  },
  {
   "cell_type": "code",
   "execution_count": 39,
   "id": "e78c950c-de73-45d4-b668-2430d4b63c7a",
   "metadata": {},
   "outputs": [
    {
     "data": {
      "text/plain": [
       "(12, 13, 14)"
      ]
     },
     "execution_count": 39,
     "metadata": {},
     "output_type": "execute_result"
    }
   ],
   "source": [
    "a,b,c=12,13,14\n",
    "a,b,c"
   ]
  },
  {
   "cell_type": "code",
   "execution_count": 41,
   "id": "1201c1bb-4b3c-4160-93b5-56ec1809158e",
   "metadata": {},
   "outputs": [
    {
     "data": {
      "text/plain": [
       "10"
      ]
     },
     "execution_count": 41,
     "metadata": {},
     "output_type": "execute_result"
    }
   ],
   "source": [
    "a=b=c=10\n",
    "a"
   ]
  },
  {
   "cell_type": "code",
   "execution_count": 43,
   "id": "3d78b39b-547e-419b-bda6-f573ac751145",
   "metadata": {},
   "outputs": [
    {
     "data": {
      "text/plain": [
       "10"
      ]
     },
     "execution_count": 43,
     "metadata": {},
     "output_type": "execute_result"
    }
   ],
   "source": [
    "b"
   ]
  },
  {
   "cell_type": "code",
   "execution_count": 45,
   "id": "073cbde3-6e9e-474c-9ca3-ddcbbb193e48",
   "metadata": {},
   "outputs": [
    {
     "data": {
      "text/plain": [
       "10"
      ]
     },
     "execution_count": 45,
     "metadata": {},
     "output_type": "execute_result"
    }
   ],
   "source": [
    "c"
   ]
  },
  {
   "cell_type": "code",
   "execution_count": 54,
   "id": "936d4a00-0eac-4af4-8519-ff4be96a3448",
   "metadata": {},
   "outputs": [
    {
     "data": {
      "text/plain": [
       "(10, 10, 10)"
      ]
     },
     "execution_count": 54,
     "metadata": {},
     "output_type": "execute_result"
    }
   ],
   "source": [
    "a,b,c"
   ]
  },
  {
   "cell_type": "markdown",
   "id": "78e4f106-3278-4124-8930-af3a1b1417f1",
   "metadata": {},
   "source": [
    "### id is to chake address of variables"
   ]
  },
  {
   "cell_type": "code",
   "execution_count": 59,
   "id": "587e8db4-76f2-4fa7-b686-433863d11986",
   "metadata": {},
   "outputs": [
    {
     "data": {
      "text/plain": [
       "140711061764824"
      ]
     },
     "execution_count": 59,
     "metadata": {},
     "output_type": "execute_result"
    }
   ],
   "source": [
    "d=1234\n",
    "a\n",
    "id(a)"
   ]
  },
  {
   "cell_type": "code",
   "execution_count": 62,
   "id": "76bde5d8-ced2-4d46-8c25-1d3e61c5d9ce",
   "metadata": {},
   "outputs": [
    {
     "data": {
      "text/plain": [
       "1598864695120"
      ]
     },
     "execution_count": 62,
     "metadata": {},
     "output_type": "execute_result"
    }
   ],
   "source": [
    "m='moammad'\n",
    "id(m)"
   ]
  },
  {
   "cell_type": "markdown",
   "id": "6a80bfe8-5132-4044-9dfd-1278b9801f5a",
   "metadata": {},
   "source": [
    "#### deleting the variable"
   ]
  },
  {
   "cell_type": "markdown",
   "id": "acb9711a-1409-4de2-93f8-b40c215316d1",
   "metadata": {},
   "source": [
    "##### sentax to deleted single variavle"
   ]
  },
  {
   "cell_type": "markdown",
   "id": "7ebda11e-2f82-46c2-ac87-a3989894f931",
   "metadata": {},
   "source": [
    "#### del variable_name"
   ]
  },
  {
   "cell_type": "code",
   "execution_count": 67,
   "id": "ee19164c-83cf-44ba-aff7-190e90353828",
   "metadata": {},
   "outputs": [],
   "source": [
    "a=132\n",
    "del a"
   ]
  },
  {
   "cell_type": "code",
   "execution_count": 71,
   "id": "fde5c9e3-3d7c-491b-a3aa-b7e528ec05e1",
   "metadata": {},
   "outputs": [],
   "source": [
    "a,b,c=12,44,323\n",
    "del a,b,c"
   ]
  },
  {
   "cell_type": "code",
   "execution_count": null,
   "id": "a13fac70-f1da-47ef-a5fb-953b3332f5fb",
   "metadata": {},
   "outputs": [],
   "source": []
  }
 ],
 "metadata": {
  "kernelspec": {
   "display_name": "Python 3 (ipykernel)",
   "language": "python",
   "name": "python3"
  },
  "language_info": {
   "codemirror_mode": {
    "name": "ipython",
    "version": 3
   },
   "file_extension": ".py",
   "mimetype": "text/x-python",
   "name": "python",
   "nbconvert_exporter": "python",
   "pygments_lexer": "ipython3",
   "version": "3.12.4"
  }
 },
 "nbformat": 4,
 "nbformat_minor": 5
}
