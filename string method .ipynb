{
 "cells": [
  {
   "cell_type": "markdown",
   "id": "22b793b7-6af4-4ca2-a3bf-3fc77b3c747c",
   "metadata": {},
   "source": [
    "## string method"
   ]
  },
  {
   "cell_type": "code",
   "execution_count": 2,
   "id": "954b95c0-bf5e-4613-994d-e915f518797e",
   "metadata": {},
   "outputs": [
    {
     "data": {
      "text/plain": [
       "'MOHAMMADANIQUZZAMA'"
      ]
     },
     "execution_count": 2,
     "metadata": {},
     "output_type": "execute_result"
    }
   ],
   "source": [
    "# upper case\n",
    "n='mohammadaniquzzama'\n",
    "n.upper()"
   ]
  },
  {
   "cell_type": "code",
   "execution_count": 6,
   "id": "e36d00ef-a831-4c57-a68e-da0f14c1dcaf",
   "metadata": {},
   "outputs": [
    {
     "data": {
      "text/plain": [
       "'ALI ZAFAR'"
      ]
     },
     "execution_count": 6,
     "metadata": {},
     "output_type": "execute_result"
    }
   ],
   "source": [
    "#liwer case\n",
    "n='ali zafar'\n",
    "n.upper()"
   ]
  },
  {
   "cell_type": "code",
   "execution_count": 8,
   "id": "573de6bc-fca7-4332-9227-fdd39d4bb347",
   "metadata": {},
   "outputs": [
    {
     "data": {
      "text/plain": [
       "'zama family'"
      ]
     },
     "execution_count": 8,
     "metadata": {},
     "output_type": "execute_result"
    }
   ],
   "source": [
    "a='ZAMA FAMILY'\n",
    "a.lower()"
   ]
  },
  {
   "cell_type": "code",
   "execution_count": 11,
   "id": "487fcf1c-41ed-4911-9cc8-e0437cb4c3d0",
   "metadata": {},
   "outputs": [
    {
     "data": {
      "text/plain": [
       "'HELLO 2 WORLD'"
      ]
     },
     "execution_count": 11,
     "metadata": {},
     "output_type": "execute_result"
    }
   ],
   "source": [
    "#str swapcase()\n",
    "s='hello 2 world'\n",
    "s.swapcase()"
   ]
  },
  {
   "cell_type": "code",
   "execution_count": 13,
   "id": "2813b927-16cc-41a0-ab69-ff30ee1999bd",
   "metadata": {},
   "outputs": [
    {
     "data": {
      "text/plain": [
       "'Zama'"
      ]
     },
     "execution_count": 13,
     "metadata": {},
     "output_type": "execute_result"
    }
   ],
   "source": [
    "# capitilize\n",
    "s='zama'\n",
    "s.capitalize()"
   ]
  },
  {
   "cell_type": "code",
   "execution_count": 15,
   "id": "6bed4e3a-4839-4e2e-abea-9f38877004ae",
   "metadata": {},
   "outputs": [
    {
     "data": {
      "text/plain": [
       "'Good Morning'"
      ]
     },
     "execution_count": 15,
     "metadata": {},
     "output_type": "execute_result"
    }
   ],
   "source": [
    "s='Good MOrning'\n",
    "s.title()"
   ]
  },
  {
   "cell_type": "code",
   "execution_count": 17,
   "id": "4d887f2a-7de6-4203-b700-225676729d66",
   "metadata": {},
   "outputs": [
    {
     "name": "stdout",
     "output_type": "stream",
     "text": [
      "python is easy\n"
     ]
    }
   ],
   "source": [
    "s='python is easy'\n",
    "print(s.strip())"
   ]
  },
  {
   "cell_type": "code",
   "execution_count": 19,
   "id": "aee8e87c-52b2-4e10-b8c8-b68dcd070e10",
   "metadata": {},
   "outputs": [
    {
     "data": {
      "text/plain": [
       "['my', 'name', 'is', 'anique', 'zzama']"
      ]
     },
     "execution_count": 19,
     "metadata": {},
     "output_type": "execute_result"
    }
   ],
   "source": [
    "#  split\n",
    "name='my name is anique zzama'\n",
    "name.split()"
   ]
  },
  {
   "cell_type": "code",
   "execution_count": 25,
   "id": "b743bd47-1b38-4800-8808-32c2fd523189",
   "metadata": {},
   "outputs": [
    {
     "data": {
      "text/plain": [
       "'my name is anique zzama'"
      ]
     },
     "execution_count": 25,
     "metadata": {},
     "output_type": "execute_result"
    }
   ],
   "source": [
    "# join\n",
    "\"\".join(name)"
   ]
  },
  {
   "cell_type": "code",
   "execution_count": 27,
   "id": "70352cde-397b-4313-a275-dfb68b8673e1",
   "metadata": {},
   "outputs": [
    {
     "data": {
      "text/plain": [
       "['mohammad', 'amique', 'zama', 'is', 'doctor']"
      ]
     },
     "execution_count": 27,
     "metadata": {},
     "output_type": "execute_result"
    }
   ],
   "source": [
    "a='mohammad amique zama is doctor'\n",
    "a.split()"
   ]
  },
  {
   "cell_type": "code",
   "execution_count": 29,
   "id": "fe3b57e0-d6d4-468a-b282-a87b276e2920",
   "metadata": {},
   "outputs": [
    {
     "data": {
      "text/plain": [
       "'mohammad amique zama is doctor'"
      ]
     },
     "execution_count": 29,
     "metadata": {},
     "output_type": "execute_result"
    }
   ],
   "source": [
    "\"\".join(a)"
   ]
  },
  {
   "cell_type": "code",
   "execution_count": 33,
   "id": "3b87151b-11b5-4ce5-82b6-2e005acac3e1",
   "metadata": {},
   "outputs": [
    {
     "data": {
      "text/plain": [
       "5"
      ]
     },
     "execution_count": 33,
     "metadata": {},
     "output_type": "execute_result"
    }
   ],
   "source": [
    "# count\n",
    "a.count('m')"
   ]
  },
  {
   "cell_type": "code",
   "execution_count": null,
   "id": "1a77945f-9e1a-43ec-b208-48d0fe3a7f9c",
   "metadata": {},
   "outputs": [],
   "source": []
  }
 ],
 "metadata": {
  "kernelspec": {
   "display_name": "Python 3 (ipykernel)",
   "language": "python",
   "name": "python3"
  },
  "language_info": {
   "codemirror_mode": {
    "name": "ipython",
    "version": 3
   },
   "file_extension": ".py",
   "mimetype": "text/x-python",
   "name": "python",
   "nbconvert_exporter": "python",
   "pygments_lexer": "ipython3",
   "version": "3.12.4"
  }
 },
 "nbformat": 4,
 "nbformat_minor": 5
}
