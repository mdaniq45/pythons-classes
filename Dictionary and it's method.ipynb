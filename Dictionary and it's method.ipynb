{
 "cells": [
  {
   "cell_type": "markdown",
   "id": "6103664e-b744-4d39-b70d-a3f5dbe8e19c",
   "metadata": {},
   "source": [
    "### Dictionary and its method"
   ]
  },
  {
   "cell_type": "markdown",
   "id": "57863cd4-05e9-48ad-9e43-6ccf73290067",
   "metadata": {},
   "source": [
    "## dictionary is unorder cullection "
   ]
  },
  {
   "cell_type": "code",
   "execution_count": 3,
   "id": "ac2068b8-ffff-4445-ad62-30e0f4dece2f",
   "metadata": {},
   "outputs": [],
   "source": [
    "emp_dic1={}"
   ]
  },
  {
   "cell_type": "code",
   "execution_count": 5,
   "id": "cd258b6e-672c-4e84-b5df-85a0f17fb329",
   "metadata": {},
   "outputs": [
    {
     "name": "stdout",
     "output_type": "stream",
     "text": [
      "{}\n"
     ]
    }
   ],
   "source": [
    "print(emp_dic1)"
   ]
  },
  {
   "cell_type": "code",
   "execution_count": 7,
   "id": "ce922673-a331-4a18-bf49-e8b6425e46a1",
   "metadata": {},
   "outputs": [],
   "source": [
    "emp_dic2=dict()"
   ]
  },
  {
   "cell_type": "code",
   "execution_count": 9,
   "id": "81687a47-addd-4c50-990a-bcac4affe3e5",
   "metadata": {},
   "outputs": [
    {
     "name": "stdout",
     "output_type": "stream",
     "text": [
      "{}\n"
     ]
    }
   ],
   "source": [
    "print(emp_dic2)"
   ]
  },
  {
   "cell_type": "markdown",
   "id": "3be2a516-29da-4d38-addd-dfbe9183d316",
   "metadata": {},
   "source": [
    "####  dictionary with one item"
   ]
  },
  {
   "cell_type": "code",
   "execution_count": 12,
   "id": "51c8d348-210f-419e-aeea-b555303fcd49",
   "metadata": {},
   "outputs": [],
   "source": [
    "d1={1:4}"
   ]
  },
  {
   "cell_type": "code",
   "execution_count": 14,
   "id": "a410620c-3876-4094-a263-6f7e27ffbe26",
   "metadata": {},
   "outputs": [
    {
     "data": {
      "text/plain": [
       "{1: 4}"
      ]
     },
     "execution_count": 14,
     "metadata": {},
     "output_type": "execute_result"
    }
   ],
   "source": [
    "d1"
   ]
  },
  {
   "cell_type": "code",
   "execution_count": 16,
   "id": "07cb4ffd-55d1-41ba-8c04-9251d18d5216",
   "metadata": {},
   "outputs": [],
   "source": [
    "d2={1:'apple',2:'banana',3:'papaya'}"
   ]
  },
  {
   "cell_type": "code",
   "execution_count": 18,
   "id": "3156e419-608e-40a0-a254-bc7c2ad8f2a6",
   "metadata": {},
   "outputs": [
    {
     "data": {
      "text/plain": [
       "{1: 'apple', 2: 'banana', 3: 'papaya'}"
      ]
     },
     "execution_count": 18,
     "metadata": {},
     "output_type": "execute_result"
    }
   ],
   "source": [
    "d2"
   ]
  },
  {
   "cell_type": "code",
   "execution_count": 20,
   "id": "a3d717b9-9f9e-45a7-ae6f-f600952b240c",
   "metadata": {},
   "outputs": [
    {
     "name": "stdout",
     "output_type": "stream",
     "text": [
      "{1: 'apple', 2: 'banana', 3: 'papaya'}\n"
     ]
    }
   ],
   "source": [
    "print(d2)"
   ]
  },
  {
   "cell_type": "code",
   "execution_count": 28,
   "id": "046f8ff1-8954-47af-b073-eed9b46bf62f",
   "metadata": {},
   "outputs": [],
   "source": [
    "d={1:3,5.5:[2,5,4],'key':(33,6),'key3':{'item','item2','item3'}}"
   ]
  },
  {
   "cell_type": "code",
   "execution_count": 30,
   "id": "f14befbc-3305-43b4-ba7c-596219d2ebdf",
   "metadata": {},
   "outputs": [
    {
     "data": {
      "text/plain": [
       "{1: 3, 5.5: [2, 5, 4], 'key': (33, 6), 'key3': {'item', 'item2', 'item3'}}"
      ]
     },
     "execution_count": 30,
     "metadata": {},
     "output_type": "execute_result"
    }
   ],
   "source": [
    "d"
   ]
  },
  {
   "cell_type": "markdown",
   "id": "a333c83d-b6a8-4f8f-a500-d1e11b2f6480",
   "metadata": {},
   "source": [
    "##### cunverting list tuole into a dictionary"
   ]
  },
  {
   "cell_type": "code",
   "execution_count": 38,
   "id": "4d671715-7b8e-4456-b514-e7b0d916ae64",
   "metadata": {},
   "outputs": [],
   "source": [
    "family=dict[('dad','business'),('mom','house wife'),('size',6)]"
   ]
  },
  {
   "cell_type": "code",
   "execution_count": 40,
   "id": "bf1a1b95-06e5-479d-99c0-b964976e1317",
   "metadata": {},
   "outputs": [
    {
     "data": {
      "text/plain": [
       "dict[('dad', 'business'), ('mom', 'house wife'), ('size', 6)]"
      ]
     },
     "execution_count": 40,
     "metadata": {},
     "output_type": "execute_result"
    }
   ],
   "source": [
    "family"
   ]
  },
  {
   "cell_type": "markdown",
   "id": "06ccd746-f98b-407e-8148-2df8960c5a01",
   "metadata": {},
   "source": [
    "#### nested dictionary"
   ]
  },
  {
   "cell_type": "code",
   "execution_count": 46,
   "id": "54533d5e-6f22-4ca1-b15a-accc88fcb18a",
   "metadata": {},
   "outputs": [],
   "source": [
    "car={'car1':12343,'car2':544,'car3':[4,5,3],'car4':{33:5}}"
   ]
  },
  {
   "cell_type": "code",
   "execution_count": 48,
   "id": "14b5e837-c9d0-4d72-84e4-ad8cc28f93aa",
   "metadata": {},
   "outputs": [
    {
     "data": {
      "text/plain": [
       "{'car1': 12343, 'car2': 544, 'car3': [4, 5, 3], 'car4': {33: 5}}"
      ]
     },
     "execution_count": 48,
     "metadata": {},
     "output_type": "execute_result"
    }
   ],
   "source": [
    "car"
   ]
  },
  {
   "cell_type": "markdown",
   "id": "d76e4bfc-4bc5-4364-935b-3ff6c5c7df8d",
   "metadata": {},
   "source": [
    "#### indexing in dictionary"
   ]
  },
  {
   "cell_type": "code",
   "execution_count": 53,
   "id": "2d9b15e9-5ac5-45b7-89ed-047549937979",
   "metadata": {},
   "outputs": [
    {
     "data": {
      "text/plain": [
       "12343"
      ]
     },
     "execution_count": 53,
     "metadata": {},
     "output_type": "execute_result"
    }
   ],
   "source": [
    "car['car1']"
   ]
  },
  {
   "cell_type": "code",
   "execution_count": 55,
   "id": "a8dee8e6-6623-451e-ad4f-e76aa8f818f6",
   "metadata": {},
   "outputs": [
    {
     "data": {
      "text/plain": [
       "[4, 5, 3]"
      ]
     },
     "execution_count": 55,
     "metadata": {},
     "output_type": "execute_result"
    }
   ],
   "source": [
    "car['car3']"
   ]
  },
  {
   "cell_type": "markdown",
   "id": "7f3b2d0b-5515-48f9-9e23-0417f8ec2632",
   "metadata": {},
   "source": [
    "#### dictionary method"
   ]
  },
  {
   "cell_type": "code",
   "execution_count": 58,
   "id": "cf4b1d42-8a46-450f-9651-34a59fefa80d",
   "metadata": {},
   "outputs": [
    {
     "data": {
      "text/plain": [
       "{'math': 98, 'physics': 89, 'chemistry': 88}"
      ]
     },
     "execution_count": 58,
     "metadata": {},
     "output_type": "execute_result"
    }
   ],
   "source": [
    "marks={'math':98,'physics':89,'chemistry':88}\n",
    "marks"
   ]
  },
  {
   "cell_type": "code",
   "execution_count": 60,
   "id": "1d8fe400-9bd7-4021-bb95-d55577798104",
   "metadata": {},
   "outputs": [
    {
     "data": {
      "text/plain": [
       "dict_items([('math', 98), ('physics', 89), ('chemistry', 88)])"
      ]
     },
     "execution_count": 60,
     "metadata": {},
     "output_type": "execute_result"
    }
   ],
   "source": [
    "marks.items()"
   ]
  },
  {
   "cell_type": "code",
   "execution_count": 62,
   "id": "c695363f-c41c-4654-92ce-418c2581c98d",
   "metadata": {},
   "outputs": [
    {
     "data": {
      "text/plain": [
       "dict_keys(['math', 'physics', 'chemistry'])"
      ]
     },
     "execution_count": 62,
     "metadata": {},
     "output_type": "execute_result"
    }
   ],
   "source": [
    "marks.keys()"
   ]
  },
  {
   "cell_type": "code",
   "execution_count": 64,
   "id": "59b458be-5b1e-4660-b1a4-00dcc287dfd7",
   "metadata": {},
   "outputs": [
    {
     "data": {
      "text/plain": [
       "dict_values([98, 89, 88])"
      ]
     },
     "execution_count": 64,
     "metadata": {},
     "output_type": "execute_result"
    }
   ],
   "source": [
    "marks.values()"
   ]
  },
  {
   "cell_type": "code",
   "execution_count": 66,
   "id": "2f8a00f7-48ab-40ca-af7d-54226422d36c",
   "metadata": {},
   "outputs": [],
   "source": [
    "marks['english']=76"
   ]
  },
  {
   "cell_type": "code",
   "execution_count": 68,
   "id": "5f804ead-0748-4d5e-9ba5-1456619d9da4",
   "metadata": {},
   "outputs": [
    {
     "data": {
      "text/plain": [
       "{'math': 98, 'physics': 89, 'chemistry': 88, 'english': 76}"
      ]
     },
     "execution_count": 68,
     "metadata": {},
     "output_type": "execute_result"
    }
   ],
   "source": [
    "marks"
   ]
  },
  {
   "cell_type": "code",
   "execution_count": 70,
   "id": "731938cf-202d-4e60-b319-ef3f7eff8298",
   "metadata": {},
   "outputs": [],
   "source": [
    "marks.update({'english':99})"
   ]
  },
  {
   "cell_type": "code",
   "execution_count": 72,
   "id": "d3ad482c-3931-4d85-9fda-e4706aea3307",
   "metadata": {},
   "outputs": [
    {
     "data": {
      "text/plain": [
       "{'math': 98, 'physics': 89, 'chemistry': 88, 'english': 99}"
      ]
     },
     "execution_count": 72,
     "metadata": {},
     "output_type": "execute_result"
    }
   ],
   "source": [
    "marks"
   ]
  },
  {
   "cell_type": "code",
   "execution_count": 74,
   "id": "a65e3b3c-ef92-43f0-bb75-7f1e7a76ade9",
   "metadata": {},
   "outputs": [],
   "source": [
    "marks.update({'math':100})"
   ]
  },
  {
   "cell_type": "code",
   "execution_count": 76,
   "id": "e9ff1284-86c4-45e5-953c-5a5034a7fc96",
   "metadata": {},
   "outputs": [
    {
     "data": {
      "text/plain": [
       "{'math': 100, 'physics': 89, 'chemistry': 88, 'english': 99}"
      ]
     },
     "execution_count": 76,
     "metadata": {},
     "output_type": "execute_result"
    }
   ],
   "source": [
    "marks"
   ]
  },
  {
   "cell_type": "code",
   "execution_count": 78,
   "id": "7d30d673-ca72-4029-8e80-52db47ca0c4e",
   "metadata": {},
   "outputs": [
    {
     "data": {
      "text/plain": [
       "100"
      ]
     },
     "execution_count": 78,
     "metadata": {},
     "output_type": "execute_result"
    }
   ],
   "source": [
    "marks.pop('math')"
   ]
  },
  {
   "cell_type": "code",
   "execution_count": 80,
   "id": "655b6d4a-cfa7-4d84-ba6b-580eb5a398ef",
   "metadata": {},
   "outputs": [
    {
     "data": {
      "text/plain": [
       "99"
      ]
     },
     "execution_count": 80,
     "metadata": {},
     "output_type": "execute_result"
    }
   ],
   "source": [
    "marks.pop('english')"
   ]
  },
  {
   "cell_type": "code",
   "execution_count": 82,
   "id": "a8b6d298-528c-420e-b4c1-d5925f526aec",
   "metadata": {},
   "outputs": [],
   "source": [
    "marks.clear()"
   ]
  },
  {
   "cell_type": "code",
   "execution_count": 84,
   "id": "2e8c767b-3097-48ed-8784-edd2cc4fe74f",
   "metadata": {},
   "outputs": [],
   "source": [
    "d1={'md':23,'zama':34,'ali':1}"
   ]
  },
  {
   "cell_type": "code",
   "execution_count": 86,
   "id": "008d6e4f-df3a-4330-880b-c3a396fab7e2",
   "metadata": {},
   "outputs": [
    {
     "data": {
      "text/plain": [
       "{'md': 23, 'zama': 34, 'ali': 1}"
      ]
     },
     "execution_count": 86,
     "metadata": {},
     "output_type": "execute_result"
    }
   ],
   "source": [
    "d1"
   ]
  },
  {
   "cell_type": "code",
   "execution_count": 88,
   "id": "19948687-33fb-4b61-88eb-f907b61a3e31",
   "metadata": {},
   "outputs": [],
   "source": [
    "a=d1.copy()\n"
   ]
  },
  {
   "cell_type": "code",
   "execution_count": 90,
   "id": "690f0ba8-381c-47a1-93f9-6a033d19a7dc",
   "metadata": {},
   "outputs": [
    {
     "data": {
      "text/plain": [
       "{'md': 23, 'zama': 34, 'ali': 1}"
      ]
     },
     "execution_count": 90,
     "metadata": {},
     "output_type": "execute_result"
    }
   ],
   "source": [
    "a"
   ]
  },
  {
   "cell_type": "code",
   "execution_count": 92,
   "id": "82bee7a8-b67a-44c4-907b-f5194cd43798",
   "metadata": {},
   "outputs": [],
   "source": [
    "a.update({'ali':0.10})"
   ]
  },
  {
   "cell_type": "code",
   "execution_count": 94,
   "id": "aeaa68a7-7211-495f-b7a0-a628cbfe6de4",
   "metadata": {},
   "outputs": [
    {
     "data": {
      "text/plain": [
       "{'md': 23, 'zama': 34, 'ali': 0.1}"
      ]
     },
     "execution_count": 94,
     "metadata": {},
     "output_type": "execute_result"
    }
   ],
   "source": [
    "a"
   ]
  },
  {
   "cell_type": "code",
   "execution_count": 96,
   "id": "7543cab6-9dea-4bfe-975a-ed26bef6c99e",
   "metadata": {},
   "outputs": [],
   "source": [
    "a.get('zli')"
   ]
  },
  {
   "cell_type": "code",
   "execution_count": 98,
   "id": "58b6152a-1be7-4f37-b34f-4f92d57f82d5",
   "metadata": {},
   "outputs": [
    {
     "data": {
      "text/plain": [
       "{'md': 23, 'zama': 34, 'ali': 0.1}"
      ]
     },
     "execution_count": 98,
     "metadata": {},
     "output_type": "execute_result"
    }
   ],
   "source": [
    "a"
   ]
  },
  {
   "cell_type": "code",
   "execution_count": null,
   "id": "45feac28-9ff4-4d20-b330-68d9b7f5f2b3",
   "metadata": {},
   "outputs": [],
   "source": []
  }
 ],
 "metadata": {
  "kernelspec": {
   "display_name": "Python 3 (ipykernel)",
   "language": "python",
   "name": "python3"
  },
  "language_info": {
   "codemirror_mode": {
    "name": "ipython",
    "version": 3
   },
   "file_extension": ".py",
   "mimetype": "text/x-python",
   "name": "python",
   "nbconvert_exporter": "python",
   "pygments_lexer": "ipython3",
   "version": "3.12.4"
  }
 },
 "nbformat": 4,
 "nbformat_minor": 5
}
