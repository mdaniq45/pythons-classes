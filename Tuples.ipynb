{
 "cells": [
  {
   "cell_type": "markdown",
   "id": "3edfcd1c-9641-4694-b30e-49ffec53489f",
   "metadata": {},
   "source": [
    "### Tuples"
   ]
  },
  {
   "cell_type": "code",
   "execution_count": 3,
   "id": "a9108877-1786-4d76-affc-db446bd93de3",
   "metadata": {},
   "outputs": [],
   "source": [
    "tup1=()"
   ]
  },
  {
   "cell_type": "code",
   "execution_count": 5,
   "id": "a25179d7-db22-4641-a51e-060ef6c1cb30",
   "metadata": {},
   "outputs": [
    {
     "name": "stdout",
     "output_type": "stream",
     "text": [
      "()\n"
     ]
    }
   ],
   "source": [
    "print(tup1)"
   ]
  },
  {
   "cell_type": "markdown",
   "id": "30407cf7-3e11-4fd9-8d18-878580be3d32",
   "metadata": {},
   "source": [
    "### tuple is hetrogenious"
   ]
  },
  {
   "cell_type": "code",
   "execution_count": 8,
   "id": "9ee505b3-bb1c-4d2a-a04e-a15babb9866c",
   "metadata": {},
   "outputs": [
    {
     "data": {
      "text/plain": [
       "(23, 55, 2, True, False, 77)"
      ]
     },
     "execution_count": 8,
     "metadata": {},
     "output_type": "execute_result"
    }
   ],
   "source": [
    "t=(23,55,2,True,False,77)\n",
    "t"
   ]
  },
  {
   "cell_type": "code",
   "execution_count": 10,
   "id": "5683810f-863d-4ba8-8249-fb4528a6efe3",
   "metadata": {},
   "outputs": [
    {
     "data": {
      "text/plain": [
       "6"
      ]
     },
     "execution_count": 10,
     "metadata": {},
     "output_type": "execute_result"
    }
   ],
   "source": [
    "len(t)"
   ]
  },
  {
   "cell_type": "markdown",
   "id": "1c1db0c6-a2a3-4413-8b8b-9d51fc826f27",
   "metadata": {},
   "source": [
    "### indexing"
   ]
  },
  {
   "cell_type": "code",
   "execution_count": 27,
   "id": "3578b6e9-4c61-4f56-b110-4c50ae0b9aaf",
   "metadata": {},
   "outputs": [
    {
     "data": {
      "text/plain": [
       "55"
      ]
     },
     "execution_count": 27,
     "metadata": {},
     "output_type": "execute_result"
    }
   ],
   "source": [
    "t[1]"
   ]
  },
  {
   "cell_type": "code",
   "execution_count": 29,
   "id": "847ad35a-ff5e-4f14-bd81-a763c69ad92f",
   "metadata": {},
   "outputs": [
    {
     "data": {
      "text/plain": [
       "(23, 2, False)"
      ]
     },
     "execution_count": 29,
     "metadata": {},
     "output_type": "execute_result"
    }
   ],
   "source": [
    "t[::2]"
   ]
  },
  {
   "cell_type": "code",
   "execution_count": 31,
   "id": "0d871bed-1d69-4f71-b6fe-04c78de1b25a",
   "metadata": {},
   "outputs": [
    {
     "data": {
      "text/plain": [
       "(23, 55, 2, True, False, 77)"
      ]
     },
     "execution_count": 31,
     "metadata": {},
     "output_type": "execute_result"
    }
   ],
   "source": [
    "t[::]"
   ]
  },
  {
   "cell_type": "code",
   "execution_count": 37,
   "id": "c1cb380d-b583-4fc1-a7c6-5e13d0c7732e",
   "metadata": {},
   "outputs": [
    {
     "data": {
      "text/plain": [
       "(77,)"
      ]
     },
     "execution_count": 37,
     "metadata": {},
     "output_type": "execute_result"
    }
   ],
   "source": [
    "t[-1:]"
   ]
  },
  {
   "cell_type": "code",
   "execution_count": 41,
   "id": "d328a3c9-4efa-47b6-ac6d-06ecad761695",
   "metadata": {},
   "outputs": [
    {
     "data": {
      "text/plain": [
       "1"
      ]
     },
     "execution_count": 41,
     "metadata": {},
     "output_type": "execute_result"
    }
   ],
   "source": [
    "t.count(55)"
   ]
  },
  {
   "cell_type": "markdown",
   "id": "ba0e1b15-f54a-4f34-8afa-f370a49bceb2",
   "metadata": {},
   "source": [
    "### tuple are immutable"
   ]
  },
  {
   "cell_type": "code",
   "execution_count": 46,
   "id": "0a0e8953-4fde-4355-9ca1-3c890a2a7262",
   "metadata": {},
   "outputs": [
    {
     "ename": "TypeError",
     "evalue": "'tuple' object does not support item assignment",
     "output_type": "error",
     "traceback": [
      "\u001b[1;31m---------------------------------------------------------------------------\u001b[0m",
      "\u001b[1;31mTypeError\u001b[0m                                 Traceback (most recent call last)",
      "Cell \u001b[1;32mIn[46], line 1\u001b[0m\n\u001b[1;32m----> 1\u001b[0m t[\u001b[38;5;241m1\u001b[39m]\u001b[38;5;241m=\u001b[39m\u001b[38;5;241m54353\u001b[39m\n\u001b[0;32m      2\u001b[0m \u001b[38;5;28mprint\u001b[39m(t)\n",
      "\u001b[1;31mTypeError\u001b[0m: 'tuple' object does not support item assignment"
     ]
    }
   ],
   "source": [
    "t[1]=54353\n",
    "print(t)"
   ]
  },
  {
   "cell_type": "markdown",
   "id": "2877a2a3-3d5d-440d-bdd9-13db565b3fbc",
   "metadata": {},
   "source": [
    "### can't remove  in a tuple autom"
   ]
  },
  {
   "cell_type": "code",
   "execution_count": 49,
   "id": "b9ad4ccb-a9d0-43be-ab47-d5c79ce2230d",
   "metadata": {},
   "outputs": [
    {
     "ename": "TypeError",
     "evalue": "'tuple' object doesn't support item deletion",
     "output_type": "error",
     "traceback": [
      "\u001b[1;31m---------------------------------------------------------------------------\u001b[0m",
      "\u001b[1;31mTypeError\u001b[0m                                 Traceback (most recent call last)",
      "Cell \u001b[1;32mIn[49], line 1\u001b[0m\n\u001b[1;32m----> 1\u001b[0m \u001b[38;5;28;01mdel\u001b[39;00m t[\u001b[38;5;241m3\u001b[39m]\n",
      "\u001b[1;31mTypeError\u001b[0m: 'tuple' object doesn't support item deletion"
     ]
    }
   ],
   "source": [
    "del t[3]"
   ]
  },
  {
   "cell_type": "markdown",
   "id": "a751f5ad-d36a-470a-b7b0-d6e50524ada4",
   "metadata": {},
   "source": [
    "### delet entire tuple"
   ]
  },
  {
   "cell_type": "code",
   "execution_count": 52,
   "id": "72d189bd-5b6d-40b6-9502-de03ccf5d8de",
   "metadata": {},
   "outputs": [],
   "source": [
    "del t"
   ]
  },
  {
   "cell_type": "code",
   "execution_count": 54,
   "id": "d0b20a32-e51b-4fe5-a686-b9f64498cdcf",
   "metadata": {},
   "outputs": [
    {
     "ename": "NameError",
     "evalue": "name 't' is not defined",
     "output_type": "error",
     "traceback": [
      "\u001b[1;31m---------------------------------------------------------------------------\u001b[0m",
      "\u001b[1;31mNameError\u001b[0m                                 Traceback (most recent call last)",
      "Cell \u001b[1;32mIn[54], line 1\u001b[0m\n\u001b[1;32m----> 1\u001b[0m t\n",
      "\u001b[1;31mNameError\u001b[0m: name 't' is not defined"
     ]
    }
   ],
   "source": [
    "t"
   ]
  },
  {
   "cell_type": "markdown",
   "id": "27abf04e-1f59-47c7-93cd-56de37afeb53",
   "metadata": {},
   "source": [
    "### sorting"
   ]
  },
  {
   "cell_type": "code",
   "execution_count": 57,
   "id": "4642edbe-a86a-4728-85c1-061190cbe430",
   "metadata": {},
   "outputs": [
    {
     "ename": "AttributeError",
     "evalue": "'tuple' object has no attribute 'sorted'",
     "output_type": "error",
     "traceback": [
      "\u001b[1;31m---------------------------------------------------------------------------\u001b[0m",
      "\u001b[1;31mAttributeError\u001b[0m                            Traceback (most recent call last)",
      "Cell \u001b[1;32mIn[57], line 2\u001b[0m\n\u001b[0;32m      1\u001b[0m s\u001b[38;5;241m=\u001b[39m(\u001b[38;5;241m2424\u001b[39m,\u001b[38;5;241m234\u001b[39m,\u001b[38;5;241m523\u001b[39m,\u001b[38;5;241m64\u001b[39m,\u001b[38;5;241m64\u001b[39m,\u001b[38;5;241m7\u001b[39m,\u001b[38;5;241m2\u001b[39m,\u001b[38;5;241m0.3\u001b[39m,\u001b[38;5;241m0\u001b[39m)\n\u001b[1;32m----> 2\u001b[0m s\u001b[38;5;241m.\u001b[39msorted()\n",
      "\u001b[1;31mAttributeError\u001b[0m: 'tuple' object has no attribute 'sorted'"
     ]
    }
   ],
   "source": [
    "s=(2424,234,523,64,64,7,2,0.3,0)\n",
    "s.sorted()"
   ]
  },
  {
   "cell_type": "code",
   "execution_count": 59,
   "id": "3dd7a91b-b13d-4662-b8a5-b1275759e106",
   "metadata": {},
   "outputs": [],
   "source": [
    "a=tuple(sorted(s))"
   ]
  },
  {
   "cell_type": "code",
   "execution_count": 61,
   "id": "53106d4e-b9c6-4389-8971-19e9bef8225b",
   "metadata": {},
   "outputs": [
    {
     "name": "stdout",
     "output_type": "stream",
     "text": [
      "(0, 0.3, 2, 7, 64, 64, 234, 523, 2424)\n"
     ]
    }
   ],
   "source": [
    "print(a)"
   ]
  },
  {
   "cell_type": "code",
   "execution_count": null,
   "id": "3badd7c8-2397-4c18-abde-cdd00e459087",
   "metadata": {},
   "outputs": [],
   "source": []
  }
 ],
 "metadata": {
  "kernelspec": {
   "display_name": "Python 3 (ipykernel)",
   "language": "python",
   "name": "python3"
  },
  "language_info": {
   "codemirror_mode": {
    "name": "ipython",
    "version": 3
   },
   "file_extension": ".py",
   "mimetype": "text/x-python",
   "name": "python",
   "nbconvert_exporter": "python",
   "pygments_lexer": "ipython3",
   "version": "3.12.4"
  }
 },
 "nbformat": 4,
 "nbformat_minor": 5
}
