{
 "cells": [
  {
   "cell_type": "markdown",
   "id": "f131203b-cd2f-47ea-92e5-e70eb54ab969",
   "metadata": {},
   "source": [
    "### indexing and slicing"
   ]
  },
  {
   "cell_type": "code",
   "execution_count": 3,
   "id": "2a3f6cb0-ec21-4f3f-aa70-a942a690cc41",
   "metadata": {},
   "outputs": [
    {
     "data": {
      "text/plain": [
       "'m'"
      ]
     },
     "execution_count": 3,
     "metadata": {},
     "output_type": "execute_result"
    }
   ],
   "source": [
    "s='mohammadaniquzzama'\n",
    "s[5]"
   ]
  },
  {
   "cell_type": "code",
   "execution_count": 5,
   "id": "e097e3c1-b62e-4e9b-bae2-61f5092d9955",
   "metadata": {},
   "outputs": [
    {
     "data": {
      "text/plain": [
       "'a'"
      ]
     },
     "execution_count": 5,
     "metadata": {},
     "output_type": "execute_result"
    }
   ],
   "source": [
    "s[-1]"
   ]
  },
  {
   "cell_type": "code",
   "execution_count": 7,
   "id": "9acd0570-43bf-4df8-8286-bbe766520a1e",
   "metadata": {},
   "outputs": [
    {
     "data": {
      "text/plain": [
       "'o'"
      ]
     },
     "execution_count": 7,
     "metadata": {},
     "output_type": "execute_result"
    }
   ],
   "source": [
    "s[1]"
   ]
  },
  {
   "cell_type": "code",
   "execution_count": 9,
   "id": "1fe59436-8f33-4f37-90ed-9204eff05224",
   "metadata": {},
   "outputs": [
    {
     "data": {
      "text/plain": [
       "'a'"
      ]
     },
     "execution_count": 9,
     "metadata": {},
     "output_type": "execute_result"
    }
   ],
   "source": [
    "s[-1:]"
   ]
  },
  {
   "cell_type": "code",
   "execution_count": 11,
   "id": "8fbc667c-fc6f-4311-bfe8-35219cc94e32",
   "metadata": {},
   "outputs": [
    {
     "data": {
      "text/plain": [
       "'mohammadaniquzzam'"
      ]
     },
     "execution_count": 11,
     "metadata": {},
     "output_type": "execute_result"
    }
   ],
   "source": [
    "s[:-1]"
   ]
  },
  {
   "cell_type": "code",
   "execution_count": 15,
   "id": "1378243d-10a2-43d3-9316-66a0c3da3925",
   "metadata": {},
   "outputs": [
    {
     "data": {
      "text/plain": [
       "'mohammadaniquzzama'"
      ]
     },
     "execution_count": 15,
     "metadata": {},
     "output_type": "execute_result"
    }
   ],
   "source": [
    "s[::]"
   ]
  },
  {
   "cell_type": "code",
   "execution_count": 17,
   "id": "927098f6-9d74-4ab7-b856-87b4325be344",
   "metadata": {},
   "outputs": [
    {
     "ename": "IndexError",
     "evalue": "string index out of range",
     "output_type": "error",
     "traceback": [
      "\u001b[1;31m---------------------------------------------------------------------------\u001b[0m",
      "\u001b[1;31mIndexError\u001b[0m                                Traceback (most recent call last)",
      "Cell \u001b[1;32mIn[17], line 1\u001b[0m\n\u001b[1;32m----> 1\u001b[0m s[\u001b[38;5;241m-\u001b[39m\u001b[38;5;241m30\u001b[39m]\n",
      "\u001b[1;31mIndexError\u001b[0m: string index out of range"
     ]
    }
   ],
   "source": [
    "s[-30]"
   ]
  },
  {
   "cell_type": "code",
   "execution_count": 19,
   "id": "244d16e0-5674-4558-889e-d81cf7b255f0",
   "metadata": {},
   "outputs": [
    {
     "ename": "TypeError",
     "evalue": "string indices must be integers, not 'float'",
     "output_type": "error",
     "traceback": [
      "\u001b[1;31m---------------------------------------------------------------------------\u001b[0m",
      "\u001b[1;31mTypeError\u001b[0m                                 Traceback (most recent call last)",
      "Cell \u001b[1;32mIn[19], line 1\u001b[0m\n\u001b[1;32m----> 1\u001b[0m s[\u001b[38;5;241m1.4\u001b[39m]\n",
      "\u001b[1;31mTypeError\u001b[0m: string indices must be integers, not 'float'"
     ]
    }
   ],
   "source": [
    "s[1.4]"
   ]
  },
  {
   "cell_type": "markdown",
   "id": "1eab0aaf-398c-459d-bb39-778bfe0e5a6f",
   "metadata": {},
   "source": [
    "### slicing"
   ]
  },
  {
   "cell_type": "code",
   "execution_count": 26,
   "id": "844eceda-d304-414e-8c93-2154aecce0f5",
   "metadata": {},
   "outputs": [
    {
     "data": {
      "text/plain": [
       "'mohammadaniquzzama'"
      ]
     },
     "execution_count": 26,
     "metadata": {},
     "output_type": "execute_result"
    }
   ],
   "source": [
    "s"
   ]
  },
  {
   "cell_type": "code",
   "execution_count": 24,
   "id": "f2bdf88c-65a9-42ab-bad8-1da8a637f4a1",
   "metadata": {},
   "outputs": [
    {
     "data": {
      "text/plain": [
       "'m'"
      ]
     },
     "execution_count": 24,
     "metadata": {},
     "output_type": "execute_result"
    }
   ],
   "source": [
    "s[0:3:5]"
   ]
  },
  {
   "cell_type": "code",
   "execution_count": 28,
   "id": "78fc8d24-2146-43d4-b6b9-29d10afe4a39",
   "metadata": {},
   "outputs": [
    {
     "data": {
      "text/plain": [
       "'oham'"
      ]
     },
     "execution_count": 28,
     "metadata": {},
     "output_type": "execute_result"
    }
   ],
   "source": [
    "s[1:5:1]"
   ]
  },
  {
   "cell_type": "code",
   "execution_count": 30,
   "id": "4a937737-3c95-461c-809b-8aec80239199",
   "metadata": {},
   "outputs": [
    {
     "data": {
      "text/plain": [
       "'mh'"
      ]
     },
     "execution_count": 30,
     "metadata": {},
     "output_type": "execute_result"
    }
   ],
   "source": [
    "s[0:3:2]"
   ]
  },
  {
   "cell_type": "code",
   "execution_count": 34,
   "id": "9e9dd314-d896-409f-90e1-8f5337bc8274",
   "metadata": {},
   "outputs": [
    {
     "data": {
      "text/plain": [
       "'ohammad'"
      ]
     },
     "execution_count": 34,
     "metadata": {},
     "output_type": "execute_result"
    }
   ],
   "source": [
    "s[1:8:1]"
   ]
  },
  {
   "cell_type": "code",
   "execution_count": 36,
   "id": "337a94b6-6fe2-4b49-b4d1-370b9548065f",
   "metadata": {},
   "outputs": [
    {
     "data": {
      "text/plain": [
       "'hmaa'"
      ]
     },
     "execution_count": 36,
     "metadata": {},
     "output_type": "execute_result"
    }
   ],
   "source": [
    "s[2:10:2]"
   ]
  },
  {
   "cell_type": "code",
   "execution_count": 40,
   "id": "d1449acc-e6bd-467d-b44f-55511b0de007",
   "metadata": {},
   "outputs": [
    {
     "data": {
      "text/plain": [
       "'ohammadani'"
      ]
     },
     "execution_count": 40,
     "metadata": {},
     "output_type": "execute_result"
    }
   ],
   "source": [
    "s[1:11:1]"
   ]
  },
  {
   "cell_type": "code",
   "execution_count": 42,
   "id": "5dc94b20-2da7-4126-9591-a7b0c04cbb11",
   "metadata": {},
   "outputs": [
    {
     "data": {
      "text/plain": [
       "'mohamma'"
      ]
     },
     "execution_count": 42,
     "metadata": {},
     "output_type": "execute_result"
    }
   ],
   "source": [
    "s[0:7:1]"
   ]
  },
  {
   "cell_type": "code",
   "execution_count": 44,
   "id": "a17a3e58-8b49-462a-ad45-c2bbc792ec9e",
   "metadata": {},
   "outputs": [
    {
     "data": {
      "text/plain": [
       "'moha'"
      ]
     },
     "execution_count": 44,
     "metadata": {},
     "output_type": "execute_result"
    }
   ],
   "source": [
    "s[:4:1]"
   ]
  },
  {
   "cell_type": "code",
   "execution_count": 46,
   "id": "22964992-c916-4da9-bd20-b5cf5d8f9f63",
   "metadata": {},
   "outputs": [
    {
     "data": {
      "text/plain": [
       "'ohammadaniquzzama'"
      ]
     },
     "execution_count": 46,
     "metadata": {},
     "output_type": "execute_result"
    }
   ],
   "source": [
    "s[1::1]"
   ]
  },
  {
   "cell_type": "code",
   "execution_count": 48,
   "id": "3c4bcd09-4710-4063-9082-950eb2c36b3e",
   "metadata": {},
   "outputs": [
    {
     "data": {
      "text/plain": [
       "'mohammadaniquzzama'"
      ]
     },
     "execution_count": 48,
     "metadata": {},
     "output_type": "execute_result"
    }
   ],
   "source": [
    "s[0::1]"
   ]
  },
  {
   "cell_type": "code",
   "execution_count": 58,
   "id": "a85962b4-f332-4dcf-aec4-5c3d47230b1f",
   "metadata": {},
   "outputs": [
    {
     "data": {
      "text/plain": [
       "'amazzuqinadammahom'"
      ]
     },
     "execution_count": 58,
     "metadata": {},
     "output_type": "execute_result"
    }
   ],
   "source": [
    "s[-1::-1]"
   ]
  },
  {
   "cell_type": "code",
   "execution_count": 60,
   "id": "1b057012-54ef-41f2-a020-3f1c2c828d4a",
   "metadata": {},
   "outputs": [
    {
     "data": {
      "text/plain": [
       "'mohammadaniquzzama'"
      ]
     },
     "execution_count": 60,
     "metadata": {},
     "output_type": "execute_result"
    }
   ],
   "source": [
    "s[0::1]"
   ]
  },
  {
   "cell_type": "code",
   "execution_count": 62,
   "id": "fb78a6e1-cea4-464c-9e6c-9c3a60c852a0",
   "metadata": {},
   "outputs": [
    {
     "data": {
      "text/plain": [
       "'m'"
      ]
     },
     "execution_count": 62,
     "metadata": {},
     "output_type": "execute_result"
    }
   ],
   "source": [
    "s[0:1]"
   ]
  },
  {
   "cell_type": "code",
   "execution_count": 64,
   "id": "57a94c78-b8d2-4509-93a1-cf7f7f6cd018",
   "metadata": {},
   "outputs": [
    {
     "data": {
      "text/plain": [
       "'mi'"
      ]
     },
     "execution_count": 64,
     "metadata": {},
     "output_type": "execute_result"
    }
   ],
   "source": [
    "s[0::10]"
   ]
  },
  {
   "cell_type": "code",
   "execution_count": null,
   "id": "a6c8b322-f4c9-4c97-9ac0-cda34197b4cf",
   "metadata": {},
   "outputs": [],
   "source": []
  }
 ],
 "metadata": {
  "kernelspec": {
   "display_name": "Python 3 (ipykernel)",
   "language": "python",
   "name": "python3"
  },
  "language_info": {
   "codemirror_mode": {
    "name": "ipython",
    "version": 3
   },
   "file_extension": ".py",
   "mimetype": "text/x-python",
   "name": "python",
   "nbconvert_exporter": "python",
   "pygments_lexer": "ipython3",
   "version": "3.12.4"
  }
 },
 "nbformat": 4,
 "nbformat_minor": 5
}
