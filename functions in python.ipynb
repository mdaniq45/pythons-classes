{
 "cells": [
  {
   "cell_type": "markdown",
   "id": "a02f9b13-3ca3-4355-91d0-3cde468a52fc",
   "metadata": {},
   "source": [
    "### What is a Function in Python?\n",
    "A function in Python is a block of reusable code that performs a specific task. Functions help in reducing code redundancy, improving code readability, and making programs modular.\n",
    "\n",
    "Functions in Python are defined using the def keyword. A function can take inputs (parameters), perform operations, and return outputs."
   ]
  },
  {
   "cell_type": "markdown",
   "id": "a180d1b7-5cdf-4038-b715-67d5f5682100",
   "metadata": {},
   "source": [
    "### Types of Functions in Python\n",
    "Built-in Functions: Predefined functions provided by Python, like print(), len(), type(), etc.\n",
    "\n",
    "User-defined Functions: Functions created by the user to perform specific tasks.\n",
    "\n",
    "Lambda Functions: Anonymous functions defined using the lambda keyword. These are typically used for short, one-line operations.\n",
    "\n",
    "Recursive Functions: Functions that call themselves to solve a problem.\n",
    "\n"
   ]
  },
  {
   "cell_type": "markdown",
   "id": "8912cdde-7863-4ea4-87f3-ec30601581a0",
   "metadata": {},
   "source": [
    "### Built-in Function:"
   ]
  },
  {
   "cell_type": "code",
   "execution_count": 3,
   "id": "6a3a6516-dfd3-4bed-8867-9dea453c9ac6",
   "metadata": {},
   "outputs": [
    {
     "name": "stdout",
     "output_type": "stream",
     "text": [
      "6\n"
     ]
    }
   ],
   "source": [
    "print(len(\"python\"))"
   ]
  },
  {
   "cell_type": "code",
   "execution_count": 4,
   "id": "fd68482f-b050-452b-ae21-d3e9ecd8461f",
   "metadata": {},
   "outputs": [
    {
     "data": {
      "text/plain": [
       "6"
      ]
     },
     "execution_count": 4,
     "metadata": {},
     "output_type": "execute_result"
    }
   ],
   "source": [
    "l=[4,6,264,23,66,34]\n",
    "len(l)"
   ]
  },
  {
   "cell_type": "code",
   "execution_count": 5,
   "id": "cd80af93-8070-4a3f-9da9-4517df16260c",
   "metadata": {},
   "outputs": [
    {
     "data": {
      "text/plain": [
       "264"
      ]
     },
     "execution_count": 5,
     "metadata": {},
     "output_type": "execute_result"
    }
   ],
   "source": [
    "max(l)"
   ]
  },
  {
   "cell_type": "code",
   "execution_count": 8,
   "id": "8ed764c2-2e26-4671-9681-7dc15992945e",
   "metadata": {},
   "outputs": [
    {
     "data": {
      "text/plain": [
       "4"
      ]
     },
     "execution_count": 8,
     "metadata": {},
     "output_type": "execute_result"
    }
   ],
   "source": [
    "min(l)"
   ]
  },
  {
   "cell_type": "code",
   "execution_count": 9,
   "id": "b5b8f0d1-e6e1-49e7-a20c-9626f43fcdae",
   "metadata": {},
   "outputs": [
    {
     "name": "stdout",
     "output_type": "stream",
     "text": [
      "[4, 6, 264, 23, 66, 34]\n"
     ]
    }
   ],
   "source": [
    "print(l)"
   ]
  },
  {
   "cell_type": "markdown",
   "id": "07abc00a-4e9a-4343-9dbd-eac0191e9fcd",
   "metadata": {},
   "source": [
    "### User-defined Function:"
   ]
  },
  {
   "cell_type": "code",
   "execution_count": 11,
   "id": "25520bf1-03c4-424f-810e-78ab8c8b0ad5",
   "metadata": {},
   "outputs": [
    {
     "name": "stdout",
     "output_type": "stream",
     "text": [
      "HEllo, Anique!\n"
     ]
    }
   ],
   "source": [
    "def greet(name):\n",
    "    return f\"HEllo, {name}!\"\n",
    "\n",
    "print(greet(\"Anique\"))"
   ]
  },
  {
   "cell_type": "code",
   "execution_count": 16,
   "id": "ba82b21e-d890-4c51-9e4a-46f7ea16ab12",
   "metadata": {},
   "outputs": [
    {
     "name": "stdout",
     "output_type": "stream",
     "text": [
      " hydrabad, ts\n"
     ]
    }
   ],
   "source": [
    "def use(address):\n",
    "    return f\" hydrabad, {address}\"\n",
    "\n",
    "print(use (\"ts\"))"
   ]
  },
  {
   "cell_type": "markdown",
   "id": "cabed87a-56a1-4e2c-a194-73733b24d3da",
   "metadata": {},
   "source": [
    "### Lambda Function:\n",
    "\n",
    "\n"
   ]
  },
  {
   "cell_type": "code",
   "execution_count": 20,
   "id": "e33365e5-5243-4c86-8547-ae4a75c75621",
   "metadata": {},
   "outputs": [
    {
     "name": "stdout",
     "output_type": "stream",
     "text": [
      "16\n"
     ]
    }
   ],
   "source": [
    "square=lambda x:x**2\n",
    "print(square(4))"
   ]
  },
  {
   "cell_type": "code",
   "execution_count": 21,
   "id": "b3960e7c-c2a2-47e3-a6f1-00af43ca6070",
   "metadata": {},
   "outputs": [
    {
     "name": "stdout",
     "output_type": "stream",
     "text": [
      "64\n"
     ]
    }
   ],
   "source": [
    "square=lambda x:x**3\n",
    "print(square(4))"
   ]
  },
  {
   "cell_type": "markdown",
   "id": "2c96683a-b08d-4055-8fd9-71282f23e0ef",
   "metadata": {},
   "source": [
    "Q: Write a function to check if a number is even or odd.\n",
    "\n",
    "\n"
   ]
  },
  {
   "cell_type": "code",
   "execution_count": 35,
   "id": "65773c77-b63f-41e5-954e-da38d85ed70e",
   "metadata": {},
   "outputs": [
    {
     "name": "stdout",
     "output_type": "stream",
     "text": [
      "odd\n"
     ]
    }
   ],
   "source": [
    "def chake_even_odd(num):\n",
    "    return \"even\" if num%2==0 else \"odd\"\n",
    "\n",
    "print(chake_even_odd(909))"
   ]
  },
  {
   "cell_type": "markdown",
   "id": "5590cf1b-e546-415c-b30f-dec1a8c8f5dd",
   "metadata": {},
   "source": [
    "### Q: Write a function to find the sum of two numbers."
   ]
  },
  {
   "cell_type": "code",
   "execution_count": 36,
   "id": "7c530f2b-a2e1-4dfd-a976-04c04f9a0f4e",
   "metadata": {},
   "outputs": [
    {
     "name": "stdout",
     "output_type": "stream",
     "text": [
      "121\n"
     ]
    }
   ],
   "source": [
    "def add_numbers(a,b):\n",
    "    return a+b\n",
    "\n",
    "print(add_numbers(44,77))"
   ]
  },
  {
   "cell_type": "code",
   "execution_count": 37,
   "id": "095bf6ab-319a-4e5d-bd81-a9a5a0c2093d",
   "metadata": {},
   "outputs": [
    {
     "name": "stdout",
     "output_type": "stream",
     "text": [
      "33\n"
     ]
    }
   ],
   "source": [
    "def sub_number(a,b):\n",
    "    return a-b\n",
    "\n",
    "print(sub_number(55,22))"
   ]
  },
  {
   "cell_type": "code",
   "execution_count": 38,
   "id": "a61bd04d-4de5-45e3-bd9a-166ce7d127ce",
   "metadata": {},
   "outputs": [
    {
     "name": "stdout",
     "output_type": "stream",
     "text": [
      "1452\n"
     ]
    }
   ],
   "source": [
    "def mul_mumber(a,b):\n",
    "    return a*b\n",
    "\n",
    "print(mul_mumber(44,33))"
   ]
  },
  {
   "cell_type": "markdown",
   "id": "7202278e-4f4a-45c6-864c-d7195ea46116",
   "metadata": {},
   "source": [
    "Q: Write a function to find the sum of two numbers."
   ]
  },
  {
   "cell_type": "code",
   "execution_count": 40,
   "id": "d39d44b0-cedc-4c4e-85f3-4e13d23c102a",
   "metadata": {},
   "outputs": [
    {
     "name": "stdout",
     "output_type": "stream",
     "text": [
      "3534\n"
     ]
    }
   ],
   "source": [
    "def find_largest(list):\n",
    "    return max(list)\n",
    "\n",
    "print(find_largest([55,33,4,353,2423,3534]))"
   ]
  },
  {
   "cell_type": "code",
   "execution_count": 41,
   "id": "60ad87e3-03ea-435b-8404-a0df13ce9419",
   "metadata": {},
   "outputs": [
    {
     "data": {
      "text/plain": [
       "47453"
      ]
     },
     "execution_count": 41,
     "metadata": {},
     "output_type": "execute_result"
    }
   ],
   "source": [
    "l=[55,534,364,54,3,45,343,6,47453]\n",
    "max(l)"
   ]
  },
  {
   "cell_type": "code",
   "execution_count": 42,
   "id": "732ac618-57ad-4d8e-a124-cad9b924985b",
   "metadata": {},
   "outputs": [
    {
     "data": {
      "text/plain": [
       "3"
      ]
     },
     "execution_count": 42,
     "metadata": {},
     "output_type": "execute_result"
    }
   ],
   "source": [
    "min(l)"
   ]
  },
  {
   "cell_type": "markdown",
   "id": "c35408bd-ff84-4dfb-b417-aacf207c07cc",
   "metadata": {},
   "source": [
    "Q: Write a function to check if a string is a palindrome.\n",
    "\n",
    "\n"
   ]
  },
  {
   "cell_type": "code",
   "execution_count": 43,
   "id": "33bb4fef-1f61-4988-b4fd-66a6fd2645df",
   "metadata": {},
   "outputs": [
    {
     "name": "stdout",
     "output_type": "stream",
     "text": [
      "True\n"
     ]
    }
   ],
   "source": [
    "def is_palindroms(s):\n",
    "    return s==s[::-1]\n",
    "\n",
    "print(is_palindroms(\"madam\"))"
   ]
  },
  {
   "cell_type": "code",
   "execution_count": 44,
   "id": "a04aefdc-a1c5-4219-a7ca-36bf2f7ded98",
   "metadata": {},
   "outputs": [
    {
     "name": "stdout",
     "output_type": "stream",
     "text": [
      "False\n"
     ]
    }
   ],
   "source": [
    "def is_palindroms(s):\n",
    "    return s==s[::-1]\n",
    "\n",
    "print(is_palindroms(\"zama\"))"
   ]
  },
  {
   "cell_type": "markdown",
   "id": "cdb96c5a-d6c5-4110-a9a9-48dab84c7495",
   "metadata": {},
   "source": [
    "Q: Write a function to calculate the HCF and LCM of two numbers.\n",
    "\n"
   ]
  },
  {
   "cell_type": "code",
   "execution_count": 51,
   "id": "04525344-3feb-4563-9866-0055621aa619",
   "metadata": {},
   "outputs": [
    {
     "name": "stdout",
     "output_type": "stream",
     "text": [
      "(18, 12)\n"
     ]
    }
   ],
   "source": [
    "def hcf_lcm(a,b):\n",
    "    def gcd(a,b):\n",
    "        while b:\n",
    "            a,b=b,a%b\n",
    "            return a\n",
    "\n",
    "    hcf = gcd(a,b)\n",
    "    lcm= (a*b)//hcf\n",
    "    return hcf ,lcm\n",
    "print(hcf_lcm(12,18))\n",
    "        "
   ]
  },
  {
   "cell_type": "markdown",
   "id": "d6ddd4c6-2f20-4940-b761-e6dded666b3f",
   "metadata": {},
   "source": [
    "Q: Write a function to find the length of a string.\n",
    "\n",
    "\n"
   ]
  },
  {
   "cell_type": "code",
   "execution_count": 52,
   "id": "ad5cfc56-8ed6-4f95-a220-300a5a77b4d5",
   "metadata": {},
   "outputs": [
    {
     "name": "stdout",
     "output_type": "stream",
     "text": [
      "6\n"
     ]
    }
   ],
   "source": [
    "def string_length(s):\n",
    "    return len(s)\n",
    "\n",
    "print(string_length(\"print \"))"
   ]
  },
  {
   "cell_type": "code",
   "execution_count": 53,
   "id": "95ed09fa-fd66-4d21-adb7-0447120e4e4d",
   "metadata": {},
   "outputs": [
    {
     "ename": "NameError",
     "evalue": "name 'a' is not defined",
     "output_type": "error",
     "traceback": [
      "\u001b[1;31m---------------------------------------------------------------------------\u001b[0m",
      "\u001b[1;31mNameError\u001b[0m                                 Traceback (most recent call last)",
      "Cell \u001b[1;32mIn[53], line 4\u001b[0m\n\u001b[0;32m      1\u001b[0m \u001b[38;5;28;01mdef\u001b[39;00m \u001b[38;5;21mstring_len\u001b[39m(a):\n\u001b[0;32m      2\u001b[0m     \u001b[38;5;28;01mreturn\u001b[39;00m \u001b[38;5;28mlen\u001b[39m(a)\n\u001b[1;32m----> 4\u001b[0m \u001b[38;5;28mprint\u001b[39m(string_len(a))\n",
      "\u001b[1;31mNameError\u001b[0m: name 'a' is not defined"
     ]
    }
   ],
   "source": [
    "def string_len(a):\n",
    "    return len(a)\n",
    "\n",
    "print(string_len(\"mohammad anique zza))"
   ]
  },
  {
   "cell_type": "code",
   "execution_count": null,
   "id": "f674eded-068c-4aef-8e0a-76cc9b11bdf2",
   "metadata": {},
   "outputs": [],
   "source": []
  }
 ],
 "metadata": {
  "kernelspec": {
   "display_name": "Python 3 (ipykernel)",
   "language": "python",
   "name": "python3"
  },
  "language_info": {
   "codemirror_mode": {
    "name": "ipython",
    "version": 3
   },
   "file_extension": ".py",
   "mimetype": "text/x-python",
   "name": "python",
   "nbconvert_exporter": "python",
   "pygments_lexer": "ipython3",
   "version": "3.12.2"
  }
 },
 "nbformat": 4,
 "nbformat_minor": 5
}
