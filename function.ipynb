{
 "cells": [
  {
   "cell_type": "markdown",
   "id": "98c5034f-17da-4fcc-9cf7-6d1fbc84f3a8",
   "metadata": {},
   "source": [
    "### Function"
   ]
  },
  {
   "cell_type": "markdown",
   "id": "b78513e3-888f-402e-8be5-fe822885b076",
   "metadata": {},
   "source": [
    " #### inBuilt function"
   ]
  },
  {
   "cell_type": "code",
   "execution_count": 44,
   "id": "f0819d1b-3359-4ce3-a901-10b950b7c486",
   "metadata": {},
   "outputs": [
    {
     "name": "stdout",
     "output_type": "stream",
     "text": [
      "11\n"
     ]
    }
   ],
   "source": [
    "print(11)"
   ]
  },
  {
   "cell_type": "code",
   "execution_count": 45,
   "id": "3c1ee2eb-4670-4e5c-946c-528e134511d0",
   "metadata": {},
   "outputs": [
    {
     "data": {
      "text/plain": [
       "1"
      ]
     },
     "execution_count": 45,
     "metadata": {},
     "output_type": "execute_result"
    }
   ],
   "source": [
    "abs(-1)"
   ]
  },
  {
   "cell_type": "markdown",
   "id": "b0038558-7ad8-4b0d-bbb0-5f7938434535",
   "metadata": {},
   "source": [
    "### user define function\n"
   ]
  },
  {
   "cell_type": "markdown",
   "id": "af999804-e1c5-47da-b3ba-5f16bbcaa924",
   "metadata": {},
   "source": [
    "# definition of function with doc string"
   ]
  },
  {
   "cell_type": "code",
   "execution_count": 48,
   "id": "821b9adf-a233-47ff-908e-14b930c86bb9",
   "metadata": {},
   "outputs": [],
   "source": [
    "def square_this(x):\n",
    "    '''this function will return the square of the given number'''\n",
    "    return x**2"
   ]
  },
  {
   "cell_type": "code",
   "execution_count": 49,
   "id": "36c0c698-9d15-4278-a14e-eee44bfc79d8",
   "metadata": {},
   "outputs": [
    {
     "data": {
      "text/plain": [
       "9"
      ]
     },
     "execution_count": 49,
     "metadata": {},
     "output_type": "execute_result"
    }
   ],
   "source": [
    "square_this(3)"
   ]
  },
  {
   "cell_type": "code",
   "execution_count": 61,
   "id": "3a71272e-2ea8-4a70-af79-fae0f9c1e61b",
   "metadata": {},
   "outputs": [
    {
     "name": "stdout",
     "output_type": "stream",
     "text": [
      "zama\n"
     ]
    }
   ],
   "source": [
    "def print_this(x):\n",
    "    print(x)\n",
    "print_this('zama')\n",
    "    "
   ]
  },
  {
   "cell_type": "code",
   "execution_count": 67,
   "id": "6240b166-4549-4cff-9beb-f5353dc8664c",
   "metadata": {},
   "outputs": [
    {
     "name": "stdout",
     "output_type": "stream",
     "text": [
      "121\n"
     ]
    }
   ],
   "source": [
    "def add(a,b):\n",
    "    c=a+b\n",
    "    print(c)\n",
    "    #calling a function with 2 argument\n",
    "add(55,66)"
   ]
  },
  {
   "cell_type": "code",
   "execution_count": 69,
   "id": "9836f68f-e4fc-4b0b-9417-17632e8da420",
   "metadata": {},
   "outputs": [
    {
     "name": "stdout",
     "output_type": "stream",
     "text": [
      "0\n"
     ]
    }
   ],
   "source": [
    "def sub(a,b,c):\n",
    "    d=a-b-c\n",
    "    print(d)\n",
    "\n",
    "sub(40,30,10)"
   ]
  },
  {
   "cell_type": "code",
   "execution_count": 79,
   "id": "5e2b0872-aeb5-45cc-8fa8-f4ddbd58a0bd",
   "metadata": {},
   "outputs": [
    {
     "name": "stdout",
     "output_type": "stream",
     "text": [
      "this is the text\n"
     ]
    }
   ],
   "source": [
    "def print_text():\n",
    "    print('this is the text')\n",
    "print_text()"
   ]
  },
  {
   "cell_type": "code",
   "execution_count": 83,
   "id": "1456ff69-3866-4a73-9ea4-25342a24fdbe",
   "metadata": {},
   "outputs": [
    {
     "name": "stdout",
     "output_type": "stream",
     "text": [
      "my function\n"
     ]
    }
   ],
   "source": [
    "def print_def():\n",
    "    print('my function')\n",
    "\n",
    "print_def()"
   ]
  },
  {
   "cell_type": "code",
   "execution_count": 89,
   "id": "433cc9db-5be0-44d1-994c-b89ad0fa70fe",
   "metadata": {},
   "outputs": [
    {
     "name": "stdout",
     "output_type": "stream",
     "text": [
      "1 1199\n"
     ]
    }
   ],
   "source": [
    "def min_max(num):\n",
    "    a=min(num)\n",
    "    b=max(num)\n",
    "    return a,b\n",
    "\n",
    "a,b=min_max([1,5,8,9,1199,111])\n",
    "print(a,b)"
   ]
  },
  {
   "cell_type": "markdown",
   "id": "b9c862cd-8441-4a5e-a293-da64d47dfd0c",
   "metadata": {},
   "source": [
    "### function with no argument"
   ]
  },
  {
   "cell_type": "code",
   "execution_count": 94,
   "id": "80209bcc-dfcc-4342-9ad2-ad56d77ec813",
   "metadata": {},
   "outputs": [
    {
     "name": "stdout",
     "output_type": "stream",
     "text": [
      "hell zama good evening\n"
     ]
    }
   ],
   "source": [
    "def greet():\n",
    "    print('hell','zama','good evening')\n",
    "    #print('')\n",
    "\n",
    "greet()"
   ]
  },
  {
   "cell_type": "markdown",
   "id": "c99d488f-9f5e-4c77-8de6-73fac74a7a9d",
   "metadata": {},
   "source": [
    "### positional argument"
   ]
  },
  {
   "cell_type": "code",
   "execution_count": 103,
   "id": "4b5263be-98e2-4a9c-aa4e-c4633793875f",
   "metadata": {},
   "outputs": [
    {
     "name": "stdout",
     "output_type": "stream",
     "text": [
      "hell zama good evening\n",
      "hell morning  zama\n",
      "hell 1 2\n"
     ]
    }
   ],
   "source": [
    "def greet(name,msg):\n",
    "    print('hell',name,msg)\n",
    "greet('zama','good evening')\n",
    "greet('morning ','zama')\n",
    "greet(1,2)"
   ]
  },
  {
   "cell_type": "code",
   "execution_count": 109,
   "id": "94b38299-1c39-4927-8e63-776fe91469db",
   "metadata": {},
   "outputs": [
    {
     "ename": "TypeError",
     "evalue": "greet() missing 1 required positional argument: 'msg'",
     "output_type": "error",
     "traceback": [
      "\u001b[1;31m---------------------------------------------------------------------------\u001b[0m",
      "\u001b[1;31mTypeError\u001b[0m                                 Traceback (most recent call last)",
      "Cell \u001b[1;32mIn[109], line 1\u001b[0m\n\u001b[1;32m----> 1\u001b[0m greet(\u001b[38;5;124m'\u001b[39m\u001b[38;5;124meve\u001b[39m\u001b[38;5;124m'\u001b[39m)\n",
      "\u001b[1;31mTypeError\u001b[0m: greet() missing 1 required positional argument: 'msg'"
     ]
    }
   ],
   "source": [
    "greet('eve')"
   ]
  },
  {
   "cell_type": "markdown",
   "id": "1db51226-70a5-4ea0-ac69-879c1f8c39de",
   "metadata": {},
   "source": [
    "### default arguments"
   ]
  },
  {
   "cell_type": "code",
   "execution_count": 114,
   "id": "60896a8a-8d1a-4cc2-9ef2-4a9946145480",
   "metadata": {},
   "outputs": [
    {
     "name": "stdout",
     "output_type": "stream",
     "text": [
      "hell zama good night\n",
      "hell zama good evening\n"
     ]
    }
   ],
   "source": [
    "def greet_1(name,msg='good evening'):\n",
    "    print('hell',name,msg)\n",
    "greet_1('zama','good night')\n",
    "greet_1('zama')"
   ]
  },
  {
   "cell_type": "markdown",
   "id": "1362df18-76a7-4fd7-a07a-42ad68da8602",
   "metadata": {},
   "source": [
    "#### arbitery arguments"
   ]
  },
  {
   "cell_type": "code",
   "execution_count": 123,
   "id": "8068276c-d03d-4aed-881b-3effa4a6965c",
   "metadata": {},
   "outputs": [
    {
     "name": "stdout",
     "output_type": "stream",
     "text": [
      "hell 6\n",
      "hell 7\n"
     ]
    }
   ],
   "source": [
    "def greet(*n):\n",
    "    for i in n:\n",
    "        print('hell',i)\n",
    "\n",
    "greet(6,7)"
   ]
  },
  {
   "cell_type": "code",
   "execution_count": 131,
   "id": "ae9599ce-9bc9-4603-be98-2977e44232ac",
   "metadata": {},
   "outputs": [
    {
     "data": {
      "text/plain": [
       "40320"
      ]
     },
     "execution_count": 131,
     "metadata": {},
     "output_type": "execute_result"
    }
   ],
   "source": [
    "# factorial \n",
    "def factorial(x):\n",
    "    if type(x)==int:\n",
    "        if x==0:\n",
    "            return 1\n",
    "        elif x>0:\n",
    "             return x*factorial(x-1)\n",
    "    else:\n",
    "        print('value error')\n",
    "\n",
    "factorial(8)"
   ]
  },
  {
   "cell_type": "code",
   "execution_count": 135,
   "id": "41eeb3ce-c1e2-4570-b3de-967c13aa57a2",
   "metadata": {},
   "outputs": [
    {
     "data": {
      "text/plain": [
       "4"
      ]
     },
     "execution_count": 135,
     "metadata": {},
     "output_type": "execute_result"
    }
   ],
   "source": [
    "def square(x):\n",
    "    return x**2\n",
    "\n",
    "square(2)"
   ]
  },
  {
   "cell_type": "code",
   "execution_count": null,
   "id": "014cb053-cf51-4e77-a11b-459b1060a513",
   "metadata": {},
   "outputs": [],
   "source": []
  }
 ],
 "metadata": {
  "kernelspec": {
   "display_name": "Python 3 (ipykernel)",
   "language": "python",
   "name": "python3"
  },
  "language_info": {
   "codemirror_mode": {
    "name": "ipython",
    "version": 3
   },
   "file_extension": ".py",
   "mimetype": "text/x-python",
   "name": "python",
   "nbconvert_exporter": "python",
   "pygments_lexer": "ipython3",
   "version": "3.12.4"
  }
 },
 "nbformat": 4,
 "nbformat_minor": 5
}
